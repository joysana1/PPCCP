{
  "nbformat": 4,
  "nbformat_minor": 0,
  "metadata": {
    "colab": {
      "provenance": [],
      "gpuType": "T4"
    },
    "kernelspec": {
      "name": "python3",
      "display_name": "Python 3"
    },
    "language_info": {
      "name": "python"
    },
    "accelerator": "GPU"
  },
  "cells": [
    {
      "cell_type": "code",
      "metadata": {
        "id": "C71ntYux94gE"
      },
      "source": [
        "from matplotlib import pyplot as plt\n",
        "import torch\n",
        "from torch import nn\n",
        "from torch import optim\n",
        "import torch.nn.functional as F\n",
        "from torchvision import datasets, transforms\n",
        "import pandas as pd\n"
      ],
      "execution_count": null,
      "outputs": []
    },
    {
      "cell_type": "code",
      "metadata": {
        "id": "5EJOdC3y_LM5"
      },
      "source": [],
      "execution_count": null,
      "outputs": []
    },
    {
      "cell_type": "code",
      "metadata": {
        "colab": {
          "base_uri": "https://localhost:8080/"
        },
        "id": "a93dtQn5-BQj",
        "outputId": "7cf44e54-50b3-4e33-b8a6-e4fa807dc76a"
      },
      "source": [
        "from google.colab import drive\n",
        "drive.mount('/content/drive')"
      ],
      "execution_count": null,
      "outputs": [
        {
          "output_type": "stream",
          "name": "stdout",
          "text": [
            "Mounted at /content/drive\n"
          ]
        }
      ]
    },
    {
      "cell_type": "code",
      "metadata": {
        "id": "0NZ2qGdL-DkB"
      },
      "source": [
        "import pandas as pd\n",
        "df=pd.read_csv('drive/My Drive/churn-5000.csv')"
      ],
      "execution_count": null,
      "outputs": []
    },
    {
      "cell_type": "code",
      "metadata": {
        "id": "ZXeWn2tZ-EWx"
      },
      "source": [
        "num_df = df.select_dtypes(include=['float64', 'int64']).copy()\n",
        "cat_df = df.select_dtypes(include=['object']).copy()\n",
        "\n",
        "# Categorical boolean mask\n",
        "categorical_feature_mask = cat_df.dtypes==object\n",
        "# filter categorical columns using mask and turn it into a list\n",
        "categorical_cols = cat_df.columns[categorical_feature_mask].tolist()\n",
        "\n",
        "import numpy as np\n",
        "#conData=np.log(0.00001 + 1)\n",
        "conData=0\n",
        "cat_df=cat_df.fillna(conData)\n",
        "num_df=num_df.fillna(conData)\n",
        "cat_df=cat_df.astype(str)\n",
        "from sklearn.preprocessing import LabelEncoder\n",
        "le = LabelEncoder()\n",
        "cat_df[categorical_cols] = cat_df[categorical_cols].apply(lambda col: le.fit_transform(col))\n",
        "\n",
        "#cat_df[categorical_cols].head(10)\n",
        "\n",
        "\n",
        "churn=cat_df['churn']\n",
        "cat_df=cat_df.drop(['churn'], axis=1)\n",
        "\n",
        "\n",
        "\n",
        "num_df=num_df.fillna(conData)\n",
        "\n",
        "result_df = pd.concat([num_df, cat_df], axis=1)\n",
        "np.nan_to_num(result_df)\n",
        "\n",
        "result_df_op=result_df\n",
        "#result_df_op=result_df_op.drop(['churn'], axis=1)\n",
        "#result_df_op=np.nan_to_num(result_df_op)\n",
        "\n",
        "\n",
        "result_df_op=result_df\n",
        "\n",
        "X=result_df_op\n",
        "y=churn"
      ],
      "execution_count": null,
      "outputs": []
    },
    {
      "cell_type": "code",
      "metadata": {
        "id": "pArX1vH_-Phh"
      },
      "source": [
        "from sklearn.model_selection import train_test_split\n",
        "X_train, X_test, y_train, y_test = train_test_split(X, y, test_size=0.3, random_state=42)\n",
        "train=pd.concat([X_train, y_train], axis=1)\n",
        "test=pd.concat([X_test, y_test], axis=1)\n",
        "train.to_csv(\"drive/My Drive/Original_data_GAN_mWOE_privacy_1_70percent_training_dataseat5000.csv\")\n",
        "test.to_csv(\"drive/My Drive/Original_data_GAN_mWOE_privacy_1_30percent_testing_dataseat5000.csv\")\n",
        "#train=pd.concat([X, y], axis=1)\n",
        "#test=pd.concat([X, y], axis=1)\n",
        "#X_train=X\n",
        "#X_test=X\n",
        "#y_train=y\n",
        "#y_test=y"
      ],
      "execution_count": null,
      "outputs": []
    },
    {
      "cell_type": "code",
      "metadata": {
        "id": "vlzrGsdz-cGg"
      },
      "source": [
        "from google.colab import files\n",
        "import os, sys\n",
        "file_path = 'drive/My Drive/Colab Notebooks/private-data-generation/'\n",
        "#sys.path.append(file_path)\n",
        "sys.path.append(os.path.abspath(file_path))\n",
        "import sys\n",
        "sys.path.insert(1,'/content/drive/My Drive/Colab Notebooks/private-data-generation/')"
      ],
      "execution_count": null,
      "outputs": []
    },
    {
      "cell_type": "code",
      "metadata": {
        "id": "X_XQ2M7H-eM_"
      },
      "source": [
        "from models import dp_wgan, pate_gan, ron_gauss"
      ],
      "execution_count": null,
      "outputs": []
    },
    {
      "cell_type": "code",
      "metadata": {
        "id": "B3l37MCS-iBg"
      },
      "source": [
        "from sklearn.linear_model import LogisticRegression\n",
        "from sklearn.ensemble import RandomForestClassifier, GradientBoostingClassifier, BaggingRegressor\n",
        "from sklearn.neural_network import MLPClassifier, MLPRegressor\n",
        "from sklearn.neighbors import KNeighborsClassifier\n",
        "from sklearn import svm\n",
        "from sklearn.tree import DecisionTreeClassifier\n",
        "from sklearn.linear_model import Ridge, Lasso, ElasticNet\n",
        "from sklearn.naive_bayes import GaussianNB\n",
        "from sklearn.metrics import roc_auc_score, mean_squared_error\n",
        "from sklearn import preprocessing\n",
        "from scipy.special import expit\n",
        "from models import dp_wgan, pate_gan, ron_gauss\n",
        "from models.Private_PGM import private_pgm\n",
        "import argparse\n",
        "import numpy as np\n",
        "import pandas as pd\n",
        "import collections\n",
        "import os"
      ],
      "execution_count": null,
      "outputs": []
    },
    {
      "cell_type": "code",
      "metadata": {
        "id": "NgpckIHs-eTf"
      },
      "source": [
        "class  Class_opt:\n",
        "    \"This is a person class\"\n",
        "    categorical = False\n",
        "    model='dp-wgan'\n",
        "    target_epsilon=80\n",
        "    target_delta=0.8\n",
        "    downstream_task=\"classification\"\n",
        "    target_variable='status'\n",
        "    batch_size=64\n",
        "    micro_batch_size=8\n",
        "    clamp_lower=0.01\n",
        "    clamp_upper=0.01\n",
        "    clip_coeff=0.1\n",
        "    sigma=2.0\n",
        "    num_epochs=50\n",
        "    enable_privacy=0\n",
        "\n",
        "\n",
        "\n",
        "\n",
        "opt = Class_opt()\n",
        "opt.target_variable='churn'\n",
        "opt.categorical = True\n",
        "opt.model='dp-wgan'\n",
        "opt.target_epsilon=10\n",
        "opt.target_delta=0.1\n",
        "opt.batch_size=64\n",
        "opt.micro_batch_size=8\n",
        "opt.clamp_lower=0.01\n",
        "opt.clamp_upper=0.01\n",
        "opt.clip_coeff=0.1\n",
        "opt.sigma=0.8\n",
        "opt.num_epochs=200\n",
        "opt.enable_privacy=1\n",
        "\n",
        "opt.downstream_task=\"classification\""
      ],
      "execution_count": null,
      "outputs": []
    },
    {
      "cell_type": "code",
      "metadata": {
        "id": "YTiMgAjc-eWf"
      },
      "source": [
        "data_columns = [col for col in train.columns if col != opt.target_variable]"
      ],
      "execution_count": null,
      "outputs": []
    },
    {
      "cell_type": "code",
      "metadata": {
        "colab": {
          "base_uri": "https://localhost:8080/"
        },
        "id": "72DPHCJp-eZS",
        "outputId": "62fbb3fe-4441-4707-9833-5ccd0754010c"
      },
      "source": [
        "#import numpy as np\n",
        "#class_ratios = train[opt.target_variable].sort_values().groupby(train[opt.target_variable]).size().values/train.shape[0]\n",
        "class_ratios = np.array([0.50, 0.50])\n",
        "class_ratios"
      ],
      "execution_count": null,
      "outputs": [
        {
          "output_type": "execute_result",
          "data": {
            "text/plain": [
              "array([0.5, 0.5])"
            ]
          },
          "metadata": {},
          "execution_count": 12
        }
      ]
    },
    {
      "cell_type": "code",
      "metadata": {
        "id": "30XOtNBv-ebg"
      },
      "source": [
        "X_train = np.nan_to_num(train.drop([opt.target_variable], axis=1).values)\n",
        "y_train = np.nan_to_num(train[opt.target_variable].values)\n",
        "X_test = np.nan_to_num(test.drop([opt.target_variable], axis=1).values)\n",
        "y_test = np.nan_to_num(test[opt.target_variable].values)"
      ],
      "execution_count": null,
      "outputs": []
    },
    {
      "cell_type": "code",
      "metadata": {
        "id": "j-fsH8zI-ed9"
      },
      "source": [
        "#Normalized the data\n",
        "X_train = expit(X_train)\n",
        "X_test = expit(X_test)"
      ],
      "execution_count": null,
      "outputs": []
    },
    {
      "cell_type": "code",
      "metadata": {
        "id": "0L13SnRt-ei9"
      },
      "source": [
        "input_dim = X_train.shape[1]\n",
        "z_dim = int(input_dim / 4 + 1) if input_dim % 4 == 0 else int(input_dim / 4)\n",
        "\n",
        "Hyperparams = collections.namedtuple('Hyperarams','batch_size micro_batch_size clamp_lower clamp_upper clip_coeff sigma class_ratios lr num_epochs')\n",
        "Hyperparams.__new__.__defaults__ = (None, None, None, None, None, None, None, None, None)"
      ],
      "execution_count": null,
      "outputs": []
    },
    {
      "cell_type": "code",
      "metadata": {
        "colab": {
          "base_uri": "https://localhost:8080/"
        },
        "id": "Uz2Y-lDN-elZ",
        "outputId": "dd73f35d-6184-48ac-fb29-83c48ddbdbf1"
      },
      "source": [
        "conditional = (opt.downstream_task == \"classification\")\n",
        "model = dp_wgan.DP_WGAN(input_dim, z_dim, opt.target_epsilon, opt.target_delta, conditional)\n",
        "model.train(X_train, y_train, Hyperparams(batch_size=opt.batch_size, micro_batch_size=opt.micro_batch_size,\n",
        "                                              clamp_lower=opt.clamp_lower, clamp_upper=opt.clamp_upper,\n",
        "                                              clip_coeff=opt.clip_coeff, sigma=opt.sigma, class_ratios=class_ratios, lr=\n",
        "                                              5e-5, num_epochs=opt.num_epochs), private=opt.enable_privacy)\n",
        "\n",
        "torch.save(model, 'drive/My Drive/chk_p_GAN_MWOE_privacy_1_dataset5000_70-vs-30.pth')"
      ],
      "execution_count": null,
      "outputs": [
        {
          "output_type": "stream",
          "name": "stdout",
          "text": [
            "Epoch : 1 Loss D real :  0.026751828047378502 Loss D fake :  0.011735967956451408 Loss G :  0.011893228816460141 Epsilon spent :  3.3807596723163544\n",
            "Epoch : 2 Loss D real :  0.026619757848717514 Loss D fake :  0.011665658519264887 Loss G :  0.011808905266267124 Epsilon spent :  3.8832879783901513\n",
            "Epoch : 3 Loss D real :  0.026794563869527284 Loss D fake :  0.011729568182367898 Loss G :  0.011652704277303493 Epsilon spent :  4.3858162844639486\n",
            "Epoch : 4 Loss D real :  0.026712702818177603 Loss D fake :  0.011622303500197526 Loss G :  0.01179983657699264 Epsilon spent :  4.6538087602691025\n",
            "Epoch : 5 Loss D real :  0.02682302849951374 Loss D fake :  0.011542134196995048 Loss G :  0.011654703044354914 Epsilon spent :  4.857850494922193\n",
            "Epoch : 6 Loss D real :  0.02661684330589518 Loss D fake :  0.011522418989524231 Loss G :  0.011806247230655252 Epsilon spent :  5.061892229575283\n",
            "Epoch : 7 Loss D real :  0.02679023972864777 Loss D fake :  0.011534853682768449 Loss G :  0.011641174154366855 Epsilon spent :  5.265933964228372\n",
            "Epoch : 8 Loss D real :  0.0267519962311059 Loss D fake :  0.01161422980025294 Loss G :  0.01156142173580213 Epsilon spent :  5.469975698881463\n",
            "Epoch : 9 Loss D real :  0.026762075389516218 Loss D fake :  0.011504955433908354 Loss G :  0.011500528662305227 Epsilon spent :  5.674017433534552\n",
            "Epoch : 10 Loss D real :  0.02674636911947774 Loss D fake :  0.011454599721267297 Loss G :  0.011575044205422332 Epsilon spent :  5.878059168187643\n",
            "Epoch : 11 Loss D real :  0.026711859609047893 Loss D fake :  0.011614716448700987 Loss G :  0.011667593750932324 Epsilon spent :  6.0821009028407325\n",
            "Epoch : 12 Loss D real :  0.026573875312234964 Loss D fake :  0.011630100428922392 Loss G :  0.011525337377994573 Epsilon spent :  6.286142637493823\n",
            "Epoch : 13 Loss D real :  0.026771417923822406 Loss D fake :  0.011593629407184686 Loss G :  0.011731485332219856 Epsilon spent :  6.490184372146913\n",
            "Epoch : 14 Loss D real :  0.026799856765145243 Loss D fake :  0.011545069436875012 Loss G :  0.011682600593133724 Epsilon spent :  6.694226106800002\n",
            "Epoch : 15 Loss D real :  0.026738312677274223 Loss D fake :  0.011415399122168553 Loss G :  0.011605621532983505 Epsilon spent :  6.898267841453093\n",
            "Epoch : 16 Loss D real :  0.026636529339636734 Loss D fake :  0.01159696117789279 Loss G :  0.011558393091396554 Epsilon spent :  7.102309576106183\n",
            "Epoch : 17 Loss D real :  0.02676576463199177 Loss D fake :  0.011722822659777046 Loss G :  0.011774639033796715 Epsilon spent :  7.306351310759273\n",
            "Epoch : 18 Loss D real :  0.026683999347623152 Loss D fake :  0.011386440816319319 Loss G :  0.011595103699160775 Epsilon spent :  7.510393045412362\n",
            "Epoch : 19 Loss D real :  0.026716841125704584 Loss D fake :  0.011458672872031499 Loss G :  0.011611010259105888 Epsilon spent :  7.714434780065453\n",
            "Epoch : 20 Loss D real :  0.026741054334680468 Loss D fake :  0.011441101497696133 Loss G :  0.011565396067598698 Epsilon spent :  7.918476514718543\n",
            "Epoch : 21 Loss D real :  0.026747520588170846 Loss D fake :  0.011563764713197637 Loss G :  0.011413138098346771 Epsilon spent :  8.122518249371632\n",
            "Epoch : 22 Loss D real :  0.0267075780542979 Loss D fake :  0.011598275704494142 Loss G :  0.011614838950392172 Epsilon spent :  8.326559984024723\n",
            "Epoch : 23 Loss D real :  0.02672708783216984 Loss D fake :  0.011517674873869153 Loss G :  0.01162929267233169 Epsilon spent :  8.515117030561779\n",
            "Epoch : 24 Loss D real :  0.026814428968012772 Loss D fake :  0.011608019209391071 Loss G :  0.011633026105248936 Epsilon spent :  8.635058521782504\n",
            "Epoch : 25 Loss D real :  0.02672499109067002 Loss D fake :  0.011534631572707277 Loss G :  0.011675825717223028 Epsilon spent :  8.755000013003228\n",
            "Epoch : 26 Loss D real :  0.02665356422806375 Loss D fake :  0.011555327029190873 Loss G :  0.011469377383301439 Epsilon spent :  8.874941504223953\n",
            "Epoch : 27 Loss D real :  0.026713692173097527 Loss D fake :  0.011289877743125391 Loss G :  0.01148960790409252 Epsilon spent :  8.994882995444677\n",
            "Epoch : 28 Loss D real :  0.026661993507262716 Loss D fake :  0.011332472618223174 Loss G :  0.011501078630823 Epsilon spent :  9.114824486665402\n",
            "Epoch : 29 Loss D real :  0.02662044165535261 Loss D fake :  0.011144195222392773 Loss G :  0.011262058907668477 Epsilon spent :  9.234765977886127\n",
            "Epoch : 30 Loss D real :  0.026684689117089877 Loss D fake :  0.011188400343823547 Loss G :  0.011190580241028737 Epsilon spent :  9.35470746910685\n",
            "Epoch : 31 Loss D real :  0.026773110446370037 Loss D fake :  0.011029101196096194 Loss G :  0.011146598252902656 Epsilon spent :  9.474648960327576\n",
            "Epoch : 32 Loss D real :  0.02668494878434474 Loss D fake :  0.011123029417667449 Loss G :  0.011270995812219837 Epsilon spent :  9.5945904515483\n",
            "Epoch : 33 Loss D real :  0.02666296225275352 Loss D fake :  0.011122606694747728 Loss G :  0.011031602850142732 Epsilon spent :  9.714531942769025\n",
            "Epoch : 34 Loss D real :  0.026747234341746175 Loss D fake :  0.011066614522935295 Loss G :  0.011163693910718135 Epsilon spent :  9.83447343398975\n",
            "Epoch : 35 Loss D real :  0.02664743436874416 Loss D fake :  0.010990604246093591 Loss G :  0.011132863577533934 Epsilon spent :  9.954414925210473\n",
            "Epoch : 36 Loss D real :  0.026625074845675743 Loss D fake :  0.011141863246036634 Loss G :  0.011072746077495789 Epsilon spent :  10.074356416431199\n"
          ]
        }
      ]
    },
    {
      "cell_type": "code",
      "metadata": {
        "id": "CgmVMwIs-eni"
      },
      "source": [],
      "execution_count": null,
      "outputs": []
    },
    {
      "cell_type": "code",
      "metadata": {
        "id": "LVHDjtpZ-eqP",
        "colab": {
          "base_uri": "https://localhost:8080/"
        },
        "outputId": "de38eb92-1482-46f4-e2c6-93184a964f2a"
      },
      "source": [
        "if opt.model == 'imle' or opt.model == 'dp-wgan' or opt.model == 'pate-gan':\n",
        "  syn_data = model.generate(X_train.shape[0], class_ratios)\n",
        "  X_syn, y_syn = syn_data[:, :-1], syn_data[:, -1]\n",
        "\n",
        "X_syn_df = pd.DataFrame(data=X_syn, columns=data_columns)\n",
        "y_syn_df = pd.DataFrame(data=y_syn, columns=[opt.target_variable])\n",
        "\n",
        "syn_df = pd.concat([X_syn_df, y_syn_df], axis=1)\n",
        "syn_df.to_csv(\"drive/My Drive/synthetic_data_GAN_mWOE_privacy_1_70percent_training_dataset5000_set_15.csv\")\n",
        "print(\"Saved synthetic data at : \", \"drive/My Drive/synthetic_data_GAN_mWOE_privacy_1_70percent_training_dataset5000.csv\")"
      ],
      "execution_count": null,
      "outputs": [
        {
          "output_type": "stream",
          "name": "stdout",
          "text": [
            "Saved synthetic data at :  drive/My Drive/synthetic_data_GAN_mWOE_privacy_1_70percent_training_dataset5000.csv\n"
          ]
        }
      ]
    }
  ]
}