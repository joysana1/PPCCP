{
  "nbformat": 4,
  "nbformat_minor": 0,
  "metadata": {
    "colab": {
      "provenance": []
    },
    "kernelspec": {
      "name": "python3",
      "display_name": "Python 3"
    },
    "language_info": {
      "name": "python"
    },
    "accelerator": "GPU"
  },
  "cells": [
    {
      "cell_type": "code",
      "metadata": {
        "id": "C71ntYux94gE"
      },
      "source": [
        "from matplotlib import pyplot as plt\n",
        "import torch\n",
        "from torch import nn\n",
        "from torch import optim\n",
        "import torch.nn.functional as F\n",
        "from torchvision import datasets, transforms\n",
        "import pandas as pd"
      ],
      "execution_count": null,
      "outputs": []
    },
    {
      "cell_type": "code",
      "metadata": {
        "id": "5EJOdC3y_LM5"
      },
      "source": [],
      "execution_count": null,
      "outputs": []
    },
    {
      "cell_type": "code",
      "metadata": {
        "colab": {
          "base_uri": "https://localhost:8080/"
        },
        "id": "a93dtQn5-BQj",
        "outputId": "c61ab44e-c86b-4e14-f2bb-a3790c5e9f2a"
      },
      "source": [
        "from google.colab import drive\n",
        "drive.mount('/content/drive')"
      ],
      "execution_count": null,
      "outputs": [
        {
          "output_type": "stream",
          "name": "stdout",
          "text": [
            "Drive already mounted at /content/drive; to attempt to forcibly remount, call drive.mount(\"/content/drive\", force_remount=True).\n"
          ]
        }
      ]
    },
    {
      "cell_type": "code",
      "metadata": {
        "id": "0NZ2qGdL-DkB"
      },
      "source": [
        "import pandas as pd\n",
        "df=pd.read_csv('drive/My Drive/churn-7043.csv')"
      ],
      "execution_count": null,
      "outputs": []
    },
    {
      "cell_type": "code",
      "metadata": {
        "id": "ZXeWn2tZ-EWx"
      },
      "source": [
        "df=df.drop(['customerID'], axis=1)\n",
        "num_df = df.select_dtypes(include=['float64', 'int64']).copy()\n",
        "cat_df = df.select_dtypes(include=['object']).copy()\n",
        "\n",
        "# Categorical boolean mask\n",
        "categorical_feature_mask = cat_df.dtypes==object\n",
        "# filter categorical columns using mask and turn it into a list\n",
        "categorical_cols = cat_df.columns[categorical_feature_mask].tolist()\n",
        "\n",
        "import numpy as np\n",
        "#conData=np.log(0.00001 + 1)\n",
        "conData=0\n",
        "cat_df=cat_df.fillna(conData)\n",
        "num_df=num_df.fillna(conData)\n",
        "cat_df=cat_df.astype(str)\n",
        "from sklearn.preprocessing import LabelEncoder\n",
        "le = LabelEncoder()\n",
        "cat_df[categorical_cols] = cat_df[categorical_cols].apply(lambda col: le.fit_transform(col))\n",
        "\n",
        "#cat_df[categorical_cols].head(10)\n",
        "\n",
        "\n",
        "churn=cat_df['churn']\n",
        "cat_df=cat_df.drop(['churn'], axis=1)\n",
        "\n",
        "\n",
        "num_df=num_df.fillna(conData)\n",
        "\n",
        "result_df = pd.concat([num_df, cat_df], axis=1)\n",
        "np.nan_to_num(result_df)\n",
        "\n",
        "result_df_op=result_df\n",
        "\n",
        "X=result_df_op\n",
        "y=churn\n",
        "\n"
      ],
      "execution_count": null,
      "outputs": []
    },
    {
      "cell_type": "code",
      "metadata": {
        "id": "pArX1vH_-Phh"
      },
      "source": [
        "from sklearn.model_selection import train_test_split\n",
        "X_train, X_test, y_train, y_test = train_test_split(X, y, test_size=0.3, random_state=42)\n",
        "train=pd.concat([X_train, y_train], axis=1)\n",
        "test=pd.concat([X_test, y_test], axis=1)\n",
        "train.to_csv(\"drive/My Drive/Original_data_GAN_mWOE_privacy_1_70percent_training_dataset7043.csv\")\n",
        "test.to_csv(\"drive/My Drive/Original_data_GAN_mWOE_privacy_1_30percent_testing_dataset7043.csv\")"
      ],
      "execution_count": null,
      "outputs": []
    },
    {
      "cell_type": "code",
      "metadata": {
        "id": "vlzrGsdz-cGg"
      },
      "source": [
        "from google.colab import files\n",
        "import os, sys\n",
        "file_path = 'drive/My Drive/Colab Notebooks/private-data-generation/'\n",
        "#sys.path.append(file_path)\n",
        "sys.path.append(os.path.abspath(file_path))\n",
        "import sys\n",
        "sys.path.insert(1,'/content/drive/My Drive/Colab Notebooks/private-data-generation/')"
      ],
      "execution_count": null,
      "outputs": []
    },
    {
      "cell_type": "code",
      "metadata": {
        "id": "X_XQ2M7H-eM_"
      },
      "source": [
        "from models import dp_wgan, pate_gan, ron_gauss"
      ],
      "execution_count": null,
      "outputs": []
    },
    {
      "cell_type": "code",
      "metadata": {
        "id": "B3l37MCS-iBg"
      },
      "source": [
        "from sklearn.linear_model import LogisticRegression\n",
        "from sklearn.ensemble import RandomForestClassifier, GradientBoostingClassifier, BaggingRegressor\n",
        "from sklearn.neural_network import MLPClassifier, MLPRegressor\n",
        "from sklearn.neighbors import KNeighborsClassifier\n",
        "from sklearn import svm\n",
        "from sklearn.tree import DecisionTreeClassifier\n",
        "from sklearn.linear_model import Ridge, Lasso, ElasticNet\n",
        "from sklearn.naive_bayes import GaussianNB\n",
        "from sklearn.metrics import roc_auc_score, mean_squared_error\n",
        "from sklearn import preprocessing\n",
        "from scipy.special import expit\n",
        "from models import dp_wgan, pate_gan, ron_gauss\n",
        "from models.Private_PGM import private_pgm\n",
        "import argparse\n",
        "import numpy as np\n",
        "import pandas as pd\n",
        "import collections\n",
        "import os"
      ],
      "execution_count": null,
      "outputs": []
    },
    {
      "cell_type": "code",
      "metadata": {
        "id": "NgpckIHs-eTf"
      },
      "source": [
        "class  Class_opt:\n",
        "    \"This is a person class\"\n",
        "    categorical = False\n",
        "    model='dp-wgan'\n",
        "    target_epsilon=80\n",
        "    target_delta=0.8\n",
        "    downstream_task=\"classification\"\n",
        "    target_variable='status'\n",
        "    batch_size=64\n",
        "    micro_batch_size=8\n",
        "    clamp_lower=0.01\n",
        "    clamp_upper=0.01\n",
        "    clip_coeff=0.1\n",
        "    sigma=2.0\n",
        "    num_epochs=50\n",
        "    enable_privacy=0\n",
        "\n",
        "\n",
        "\n",
        "\n",
        "opt = Class_opt()\n",
        "opt.target_variable='churn'\n",
        "opt.categorical = True\n",
        "opt.model='dp-wgan'\n",
        "opt.target_epsilon=10\n",
        "opt.target_delta=0.1\n",
        "opt.batch_size=64\n",
        "opt.micro_batch_size=8\n",
        "opt.clamp_lower=0.01\n",
        "opt.clamp_upper=0.01\n",
        "opt.clip_coeff=0.1\n",
        "opt.sigma=0.8\n",
        "opt.num_epochs=200\n",
        "opt.enable_privacy=1\n",
        "\n",
        "opt.downstream_task=\"classification\""
      ],
      "execution_count": null,
      "outputs": []
    },
    {
      "cell_type": "code",
      "metadata": {
        "id": "YTiMgAjc-eWf"
      },
      "source": [
        "data_columns = [col for col in train.columns if col != opt.target_variable]"
      ],
      "execution_count": null,
      "outputs": []
    },
    {
      "cell_type": "code",
      "metadata": {
        "colab": {
          "base_uri": "https://localhost:8080/"
        },
        "id": "72DPHCJp-eZS",
        "outputId": "b1f7b6f3-dace-42e6-e319-6fd10dfd1833"
      },
      "source": [
        "class_ratios = train[opt.target_variable].sort_values().groupby(train[opt.target_variable]).size().values/train.shape[0]\n",
        "class_ratios"
      ],
      "execution_count": null,
      "outputs": [
        {
          "output_type": "execute_result",
          "data": {
            "text/plain": [
              "array([0.73732252, 0.26267748])"
            ]
          },
          "metadata": {},
          "execution_count": 26
        }
      ]
    },
    {
      "cell_type": "code",
      "metadata": {
        "id": "30XOtNBv-ebg"
      },
      "source": [
        "X_train = np.nan_to_num(train.drop([opt.target_variable], axis=1).values)\n",
        "y_train = np.nan_to_num(train[opt.target_variable].values)\n",
        "X_test = np.nan_to_num(test.drop([opt.target_variable], axis=1).values)\n",
        "y_test = np.nan_to_num(test[opt.target_variable].values)"
      ],
      "execution_count": null,
      "outputs": []
    },
    {
      "cell_type": "code",
      "metadata": {
        "id": "j-fsH8zI-ed9"
      },
      "source": [
        "#Normalized the data\n",
        "X_train = expit(X_train)\n",
        "X_test = expit(X_test)"
      ],
      "execution_count": null,
      "outputs": []
    },
    {
      "cell_type": "code",
      "metadata": {
        "id": "0L13SnRt-ei9"
      },
      "source": [
        "input_dim = X_train.shape[1]\n",
        "z_dim = int(input_dim / 4 + 1) if input_dim % 4 == 0 else int(input_dim / 4)\n",
        "\n",
        "Hyperparams = collections.namedtuple('Hyperarams','batch_size micro_batch_size clamp_lower clamp_upper clip_coeff sigma class_ratios lr num_epochs')\n",
        "Hyperparams.__new__.__defaults__ = (None, None, None, None, None, None, None, None, None)"
      ],
      "execution_count": null,
      "outputs": []
    },
    {
      "cell_type": "code",
      "metadata": {
        "colab": {
          "base_uri": "https://localhost:8080/"
        },
        "id": "Uz2Y-lDN-elZ",
        "outputId": "b1ba392a-ccd3-4244-8212-2773097161aa"
      },
      "source": [
        "conditional = (opt.downstream_task == \"classification\")\n",
        "model = dp_wgan.DP_WGAN(input_dim, z_dim, opt.target_epsilon, opt.target_delta, conditional)\n",
        "model.train(X_train, y_train, Hyperparams(batch_size=opt.batch_size, micro_batch_size=opt.micro_batch_size,\n",
        "                                              clamp_lower=opt.clamp_lower, clamp_upper=opt.clamp_upper,\n",
        "                                              clip_coeff=opt.clip_coeff, sigma=opt.sigma, class_ratios=class_ratios, lr=\n",
        "                                              5e-5, num_epochs=opt.num_epochs), private=opt.enable_privacy)\n",
        "\n",
        "torch.save(model, 'drive/My Drive/chkp_GAN_MWOE_privacy_1_70-vs-30_dataset_7043.pth')"
      ],
      "execution_count": null,
      "outputs": [
        {
          "output_type": "stream",
          "name": "stdout",
          "text": [
            "Epoch : 1 Loss D real :  0.022591592574641252 Loss D fake :  0.010614493128008315 Loss G :  0.010856140006202133 Epsilon spent :  3.1167599694076045\n",
            "Epoch : 2 Loss D real :  0.023663132554030592 Loss D fake :  0.010632197880124802 Loss G :  0.010669458549435396 Epsilon spent :  3.3552885725726513\n",
            "Epoch : 3 Loss D real :  0.023177344944127234 Loss D fake :  0.010620564483339229 Loss G :  0.01060725938186623 Epsilon spent :  3.5938171757376987\n",
            "Epoch : 4 Loss D real :  0.02160895785625323 Loss D fake :  0.010633533711794107 Loss G :  0.010703268802921448 Epsilon spent :  3.8323457789027455\n",
            "Epoch : 5 Loss D real :  0.023283821155374182 Loss D fake :  0.010461292118774761 Loss G :  0.010705489641750845 Epsilon spent :  4.070874382067792\n",
            "Epoch : 6 Loss D real :  0.024380866974099698 Loss D fake :  0.010501486665705332 Loss G :  0.010848507138115353 Epsilon spent :  4.30940298523284\n",
            "Epoch : 7 Loss D real :  0.02332736235795373 Loss D fake :  0.01063156102997475 Loss G :  0.01060327144291599 Epsilon spent :  4.547931588397887\n",
            "Epoch : 8 Loss D real :  0.023787797100835173 Loss D fake :  0.010435108182458321 Loss G :  0.01069170070828526 Epsilon spent :  4.786460191562934\n",
            "Epoch : 9 Loss D real :  0.02363234427134582 Loss D fake :  0.010654276393950585 Loss G :  0.010611700336558949 Epsilon spent :  4.999716742996666\n",
            "Epoch : 10 Loss D real :  0.022259309944821348 Loss D fake :  0.010478886937771045 Loss G :  0.010633586759851254 Epsilon spent :  5.128836178701102\n",
            "Epoch : 11 Loss D real :  0.023335962068996442 Loss D fake :  0.010428433967042816 Loss G :  0.010752518394360212 Epsilon spent :  5.257955614405538\n",
            "Epoch : 12 Loss D real :  0.022645233889551176 Loss D fake :  0.010465661580114534 Loss G :  0.010482541304273299 Epsilon spent :  5.387075050109973\n",
            "Epoch : 13 Loss D real :  0.0240381496035035 Loss D fake :  0.010452094605409435 Loss G :  0.010697163895060464 Epsilon spent :  5.51619448581441\n",
            "Epoch : 14 Loss D real :  0.023605196882596935 Loss D fake :  0.010575808270537317 Loss G :  0.010400692545411852 Epsilon spent :  5.645313921518845\n",
            "Epoch : 15 Loss D real :  0.024074039048878403 Loss D fake :  0.010566622062518138 Loss G :  0.01064554491115231 Epsilon spent :  5.774433357223281\n",
            "Epoch : 16 Loss D real :  0.022507162970701714 Loss D fake :  0.010680272452575308 Loss G :  0.010598574566238642 Epsilon spent :  5.903552792927718\n",
            "Epoch : 17 Loss D real :  0.022555986630578014 Loss D fake :  0.010573403200755102 Loss G :  0.010536085633754022 Epsilon spent :  6.032672228632153\n",
            "Epoch : 18 Loss D real :  0.02366493842839147 Loss D fake :  0.010602210426078968 Loss G :  0.01058542469978319 Epsilon spent :  6.161791664336588\n",
            "Epoch : 19 Loss D real :  0.023377696386281344 Loss D fake :  0.010445627618220283 Loss G :  0.01048265329305419 Epsilon spent :  6.290911100041025\n",
            "Epoch : 20 Loss D real :  0.023606991769645452 Loss D fake :  0.01045976157996661 Loss G :  0.010680003625592356 Epsilon spent :  6.420030535745461\n",
            "Epoch : 21 Loss D real :  0.023695830935072625 Loss D fake :  0.010548285759212926 Loss G :  0.010619040417823425 Epsilon spent :  6.549149971449896\n",
            "Epoch : 22 Loss D real :  0.023335647152843322 Loss D fake :  0.01045008927891047 Loss G :  0.010544136767111146 Epsilon spent :  6.678269407154333\n",
            "Epoch : 23 Loss D real :  0.023726220522772592 Loss D fake :  0.010497629977136519 Loss G :  0.01059620040236173 Epsilon spent :  6.807388842858769\n",
            "Epoch : 24 Loss D real :  0.023040785762331414 Loss D fake :  0.010561956575670776 Loss G :  0.010845767399781986 Epsilon spent :  6.936508278563204\n",
            "Epoch : 25 Loss D real :  0.023075868434209924 Loss D fake :  0.010456053632079097 Loss G :  0.010730967853495985 Epsilon spent :  7.06562771426764\n",
            "Epoch : 26 Loss D real :  0.02286791571437446 Loss D fake :  0.010680870372204887 Loss G :  0.010462667807885823 Epsilon spent :  7.194747149972076\n",
            "Epoch : 27 Loss D real :  0.024068937892614883 Loss D fake :  0.010462667096303762 Loss G :  0.010432093495576864 Epsilon spent :  7.323866585676512\n",
            "Epoch : 28 Loss D real :  0.023622223733351586 Loss D fake :  0.010443528114045825 Loss G :  0.010551376030981073 Epsilon spent :  7.452986021380948\n",
            "Epoch : 29 Loss D real :  0.022774897383041934 Loss D fake :  0.010405037422195744 Loss G :  0.010550398883255936 Epsilon spent :  7.582105457085384\n",
            "Epoch : 30 Loss D real :  0.024310985172189076 Loss D fake :  0.010248489705945385 Loss G :  0.010482228772862598 Epsilon spent :  7.71122489278982\n",
            "Epoch : 31 Loss D real :  0.02427868550020808 Loss D fake :  0.010351080659661834 Loss G :  0.010379191905669074 Epsilon spent :  7.840344328494256\n",
            "Epoch : 32 Loss D real :  0.023350089781520218 Loss D fake :  0.010341230683938881 Loss G :  0.010434751954856701 Epsilon spent :  7.969463764198691\n",
            "Epoch : 33 Loss D real :  0.022967597711061903 Loss D fake :  0.01044609884329241 Loss G :  0.010367586595728902 Epsilon spent :  8.098583199903128\n",
            "Epoch : 34 Loss D real :  0.022903466076062518 Loss D fake :  0.01041607715631834 Loss G :  0.01043439038037872 Epsilon spent :  8.227702635607564\n",
            "Epoch : 35 Loss D real :  0.023768620304443114 Loss D fake :  0.010315294878985765 Loss G :  0.010252015509484938 Epsilon spent :  8.356822071312\n",
            "Epoch : 36 Loss D real :  0.02326758066797424 Loss D fake :  0.010345562811883185 Loss G :  0.01046937449784324 Epsilon spent :  8.485941507016435\n",
            "Epoch : 37 Loss D real :  0.022934888066044372 Loss D fake :  0.010404116148819437 Loss G :  0.010348416215826042 Epsilon spent :  8.615060942720872\n",
            "Epoch : 38 Loss D real :  0.023930162376528088 Loss D fake :  0.01028849207422251 Loss G :  0.010312232909309039 Epsilon spent :  8.744180378425307\n",
            "Epoch : 39 Loss D real :  0.02327690272884146 Loss D fake :  0.01035149098400195 Loss G :  0.0103761224599574 Epsilon spent :  8.873299814129743\n",
            "Epoch : 40 Loss D real :  0.02345517983939174 Loss D fake :  0.010311320812878095 Loss G :  0.010431454087639208 Epsilon spent :  9.002419249834178\n",
            "Epoch : 41 Loss D real :  0.02307157130531481 Loss D fake :  0.010260905138373803 Loss G :  0.010404409148410329 Epsilon spent :  9.131538685538615\n",
            "Epoch : 42 Loss D real :  0.0231124624708178 Loss D fake :  0.010333609227519209 Loss G :  0.010263164184413866 Epsilon spent :  9.220459488232276\n",
            "Epoch : 43 Loss D real :  0.02376571085479373 Loss D fake :  0.010201068443795484 Loss G :  0.01034477579879757 Epsilon spent :  9.30293560146435\n",
            "Epoch : 44 Loss D real :  0.023106656724169602 Loss D fake :  0.010183921480674808 Loss G :  0.010359307190261891 Epsilon spent :  9.385411714696426\n",
            "Epoch : 45 Loss D real :  0.02261211990914332 Loss D fake :  0.010252551080069233 Loss G :  0.010320313698191698 Epsilon spent :  9.4678878279285\n",
            "Epoch : 46 Loss D real :  0.023605196881469455 Loss D fake :  0.010302848146194737 Loss G :  0.010379229611360894 Epsilon spent :  9.550363941160576\n",
            "Epoch : 47 Loss D real :  0.022656951210692375 Loss D fake :  0.010187917545120532 Loss G :  0.010245497962912188 Epsilon spent :  9.632840054392652\n",
            "Epoch : 48 Loss D real :  0.02299045073605998 Loss D fake :  0.010227222837335997 Loss G :  0.010280504301970228 Epsilon spent :  9.715316167624726\n",
            "Epoch : 49 Loss D real :  0.02373080923533252 Loss D fake :  0.010204929893937181 Loss G :  0.01028709890069983 Epsilon spent :  9.797792280856802\n",
            "Epoch : 50 Loss D real :  0.023969255894797876 Loss D fake :  0.010164257160182561 Loss G :  0.01027202364499738 Epsilon spent :  9.880268394088876\n",
            "Epoch : 51 Loss D real :  0.023529879293632587 Loss D fake :  0.010141423283262252 Loss G :  0.010289516038334633 Epsilon spent :  9.962744507320952\n",
            "Epoch : 52 Loss D real :  0.022692262665588353 Loss D fake :  0.01014806831445273 Loss G :  0.01026974049613218 Epsilon spent :  10.045220620553028\n"
          ]
        }
      ]
    },
    {
      "cell_type": "code",
      "metadata": {
        "id": "CgmVMwIs-eni"
      },
      "source": [],
      "execution_count": null,
      "outputs": []
    },
    {
      "cell_type": "code",
      "metadata": {
        "id": "LVHDjtpZ-eqP",
        "colab": {
          "base_uri": "https://localhost:8080/"
        },
        "outputId": "47cfe349-6a00-46f3-e9ee-8e27437cb578"
      },
      "source": [
        "if opt.model == 'imle' or opt.model == 'dp-wgan' or opt.model == 'pate-gan':\n",
        "  syn_data = model.generate(X_train.shape[0], class_ratios)\n",
        "  X_syn, y_syn = syn_data[:, :-1], syn_data[:, -1]\n",
        "\n",
        "X_syn_df = pd.DataFrame(data=X_syn, columns=data_columns)\n",
        "y_syn_df = pd.DataFrame(data=y_syn, columns=[opt.target_variable])\n",
        "\n",
        "syn_df = pd.concat([X_syn_df, y_syn_df], axis=1)\n",
        "syn_df.to_csv(\"drive/My Drive/synthetic_data_GAN_mWOE_privacy_1_70persent_training_dataset7043_set_16.csv\")\n",
        "#test.to_csv(\"drive/My Drive/Original_data_GAN_mWOE_privacy_1_30percent_testing_dataset7043.csv\")\n",
        "print(\"Saved synthetic data at : \", \"drive/My Drive/synthetic_data_GAN_mWOE_privacy_1_70persent_training_dataset7043.csv\")"
      ],
      "execution_count": null,
      "outputs": [
        {
          "output_type": "stream",
          "name": "stdout",
          "text": [
            "Saved synthetic data at :  drive/My Drive/synthetic_data_GAN_mWOE_privacy_1_70persent_training_dataset7043.csv\n"
          ]
        }
      ]
    },
    {
      "cell_type": "code",
      "source": [],
      "metadata": {
        "id": "5Zo-xEh8jBbT"
      },
      "execution_count": null,
      "outputs": []
    }
  ]
}