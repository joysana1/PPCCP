{
 "cells": [
  {
   "cell_type": "code",
   "execution_count": null,
   "metadata": {
    "id": "e09KUs74lXKH"
   },
   "outputs": [],
   "source": [
    "from matplotlib import pyplot as plt\n",
    "import torch\n",
    "from torch import nn\n",
    "from torch import optim\n",
    "import torch.nn.functional as F\n",
    "from torchvision import datasets, transforms\n",
    "import pandas as pd\n"
   ]
  },
  {
   "cell_type": "code",
   "execution_count": null,
   "metadata": {
    "colab": {
     "base_uri": "https://localhost:8080/"
    },
    "id": "XY90DPQfldup",
    "outputId": "b6bb70ed-243d-4fc8-c99c-30935ff34303"
   },
   "outputs": [
    {
     "name": "stdout",
     "output_type": "stream",
     "text": [
      "Mounted at /content/drive\n"
     ]
    }
   ],
   "source": [
    "from google.colab import drive\n",
    "drive.mount('/content/drive')"
   ]
  },
  {
   "cell_type": "code",
   "execution_count": null,
   "metadata": {
    "id": "epGJwPLPld5E"
   },
   "outputs": [],
   "source": [
    "from google.colab import files\n",
    "import os, sys\n",
    "file_path = 'drive/My Drive/Colab Notebooks/private-data-generation/'\n",
    "#sys.path.append(file_path)\n",
    "sys.path.append(os.path.abspath(file_path))\n",
    "import sys\n",
    "sys.path.insert(1,'/content/drive/My Drive/Colab Notebooks/private-data-generation/')"
   ]
  },
  {
   "cell_type": "code",
   "execution_count": null,
   "metadata": {},
   "outputs": [],
   "source": [
    "from models import dp_wgan, pate_gan, ron_gauss"
   ]
  },
  {
   "cell_type": "code",
   "execution_count": null,
   "metadata": {
    "id": "IbNaMuQbleBt"
   },
   "outputs": [],
   "source": [
    "from sklearn.linear_model import LogisticRegression\n",
    "from sklearn.ensemble import RandomForestClassifier, GradientBoostingClassifier, BaggingRegressor\n",
    "from sklearn.neural_network import MLPClassifier, MLPRegressor\n",
    "from sklearn.neighbors import KNeighborsClassifier\n",
    "from sklearn import svm\n",
    "from sklearn.tree import DecisionTreeClassifier\n",
    "from sklearn.linear_model import Ridge, Lasso, ElasticNet\n",
    "from sklearn.naive_bayes import GaussianNB\n",
    "from sklearn.metrics import roc_auc_score, mean_squared_error\n",
    "from sklearn import preprocessing\n",
    "from scipy.special import expit\n",
    "from models import dp_wgan, pate_gan, ron_gauss\n",
    "from models.Private_PGM import private_pgm\n",
    "import argparse\n",
    "import numpy as np\n",
    "import pandas as pd\n",
    "import collections\n",
    "import os"
   ]
  },
  {
   "cell_type": "code",
   "execution_count": null,
   "metadata": {
    "id": "4rUa1LRmleGm"
   },
   "outputs": [],
   "source": [
    "class  Class_opt:\n",
    "    \"This is a person class\"\n",
    "    categorical = False\n",
    "    model='dp-wgan'\n",
    "    target_epsilon=80\n",
    "    target_delta=0.8\n",
    "    downstream_task=\"classification\"\n",
    "    target_variable='status'\n",
    "    batch_size=64\n",
    "    micro_batch_size=8\n",
    "    clamp_lower=0.01\n",
    "    clamp_upper=0.01\n",
    "    clip_coeff=0.1\n",
    "    sigma=2.0\n",
    "    num_epochs=50\n",
    "    enable_privacy=1\n",
    "\n",
    "\n",
    "\n",
    "\n",
    "opt = Class_opt()\n",
    "opt.target_variable='churn'\n",
    "opt.categorical = True\n",
    "opt.model='dp-wgan'\n",
    "opt.target_epsilon=10\n",
    "opt.target_delta=0.00001\n",
    "opt.batch_size=64\n",
    "opt.micro_batch_size=8\n",
    "opt.clamp_lower=0.01\n",
    "opt.clamp_upper=0.01\n",
    "opt.clip_coeff=0.1\n",
    "opt.sigma=0.8\n",
    "opt.num_epochs=100\n",
    "opt.enable_privacy=1\n",
    "\n",
    "opt.downstream_task=\"classification\""
   ]
  },
  {
   "cell_type": "code",
   "execution_count": null,
   "metadata": {
    "id": "l699EcuKleJg"
   },
   "outputs": [],
   "source": [
    "data_columns = [col for col in train.columns if col != opt.target_variable]"
   ]
  },
  {
   "cell_type": "code",
   "execution_count": null,
   "metadata": {
    "colab": {
     "base_uri": "https://localhost:8080/"
    },
    "id": "Urf-hAhrleL0",
    "outputId": "011c5824-5de5-4435-ad92-2ca693b14eb0"
   },
   "outputs": [
    {
     "data": {
      "text/plain": [
       "array([0.50581429, 0.49418571])"
      ]
     },
     "execution_count": 12,
     "metadata": {
      "tags": []
     },
     "output_type": "execute_result"
    }
   ],
   "source": [
    "class_ratios = train[opt.target_variable].sort_values().groupby(train[opt.target_variable]).size().values/train.shape[0]\n",
    "class_ratios"
   ]
  },
  {
   "cell_type": "code",
   "execution_count": null,
   "metadata": {
    "id": "4IohJs9KleOG"
   },
   "outputs": [],
   "source": [
    "X_train = np.nan_to_num(train.drop([opt.target_variable], axis=1).values)\n",
    "y_train = np.nan_to_num(train[opt.target_variable].values)\n",
    "X_test = np.nan_to_num(test.drop([opt.target_variable], axis=1).values)\n",
    "y_test = np.nan_to_num(test[opt.target_variable].values)"
   ]
  },
  {
   "cell_type": "code",
   "execution_count": null,
   "metadata": {
    "id": "VBhzyo1dleQ1"
   },
   "outputs": [],
   "source": [
    "#Normalized the data\n",
    "X_train = expit(X_train)\n",
    "X_test = expit(X_test)"
   ]
  },
  {
   "cell_type": "code",
   "execution_count": null,
   "metadata": {
    "id": "j4CkWJApleTS"
   },
   "outputs": [],
   "source": [
    "input_dim = X_train.shape[1]\n",
    "z_dim = int(input_dim / 4 + 1) if input_dim % 4 == 0 else int(input_dim / 4)\n",
    "\n",
    "Hyperparams = collections.namedtuple('Hyperarams','batch_size micro_batch_size clamp_lower clamp_upper clip_coeff sigma class_ratios lr num_epochs')\n",
    "Hyperparams.__new__.__defaults__ = (None, None, None, None, None, None, None, None, None)"
   ]
  },
  {
   "cell_type": "code",
   "execution_count": null,
   "metadata": {},
   "outputs": [],
   "source": [
    "conditional = (opt.downstream_task == \"classification\")\n",
    "model = dp_wgan.DP_WGAN(input_dim, z_dim, opt.target_epsilon, opt.target_delta, conditional)\n",
    "model.train(X_train, y_train, Hyperparams(batch_size=opt.batch_size, micro_batch_size=opt.micro_batch_size,\n",
    "                                              clamp_lower=opt.clamp_lower, clamp_upper=opt.clamp_upper,\n",
    "                                              clip_coeff=opt.clip_coeff, sigma=opt.sigma, class_ratios=class_ratios, lr=\n",
    "                                              5e-5, num_epochs=opt.num_epochs), private=opt.enable_privacy)\n",
    "\n",
    "torch.save(model, 'drive/My Drive/checkpoint_GAN_MWOE_churn_2-70percent.pth')"
   ]
  },
  {
   "cell_type": "code",
   "execution_count": null,
   "metadata": {
    "id": "TYve-c-pleYH"
   },
   "outputs": [],
   "source": [
    "if opt.model == 'imle' or opt.model == 'dp-wgan' or opt.model == 'pate-gan':\n",
    "    syn_data = model.generate(X_train.shape[0], class_ratios)\n",
    "    X_syn, y_syn = syn_data[:, :-1], syn_data[:, -1]"
   ]
  },
  {
   "cell_type": "code",
   "execution_count": null,
   "metadata": {},
   "outputs": [],
   "source": [
    "X_syn_df = pd.DataFrame(data=X_syn, columns=data_columns)\n",
    "y_syn_df = pd.DataFrame(data=y_syn, columns=[opt.target_variable])\n",
    "\n",
    "syn_df = pd.concat([X_syn_df, y_syn_df], axis=1)\n",
    "syn_df.to_csv(\"drive/My Drive/synthetic_data_GAN_mWOE_2_70percent_training.csv\")\n",
    "test.to_csv(\"drive/My Drive/Original_data_GAN_mWOE_2_30percent_test.csv\")\n",
    "print(\"Saved synthetic data at : \", \"drive/My Drive/synthetic_data_GAN_mWOE_2_70percent.csv\")"
   ]
  }
 ],
 "metadata": {
  "colab": {
   "provenance": []
  },
  "kernelspec": {
   "display_name": "base",
   "language": "python",
   "name": "python3"
  },
  "language_info": {
   "codemirror_mode": {
    "name": "ipython",
    "version": 3
   },
   "file_extension": ".py",
   "mimetype": "text/x-python",
   "name": "python",
   "nbconvert_exporter": "python",
   "pygments_lexer": "ipython3",
   "version": "3.12.3"
  }
 },
 "nbformat": 4,
 "nbformat_minor": 4
}
