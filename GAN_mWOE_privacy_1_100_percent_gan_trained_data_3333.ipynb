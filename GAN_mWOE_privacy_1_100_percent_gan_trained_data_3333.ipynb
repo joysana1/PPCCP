{
  "nbformat": 4,
  "nbformat_minor": 0,
  "metadata": {
    "colab": {
      "provenance": []
    },
    "kernelspec": {
      "name": "python3",
      "display_name": "Python 3"
    },
    "language_info": {
      "name": "python"
    },
    "accelerator": "GPU"
  },
  "cells": [
    {
      "cell_type": "code",
      "metadata": {
        "id": "C71ntYux94gE"
      },
      "source": [
        "from matplotlib import pyplot as plt\n",
        "import torch\n",
        "from torch import nn\n",
        "from torch import optim\n",
        "import torch.nn.functional as F\n",
        "from torchvision import datasets, transforms\n",
        "import pandas as pd\n"
      ],
      "execution_count": null,
      "outputs": []
    },
    {
      "cell_type": "code",
      "metadata": {
        "id": "5EJOdC3y_LM5"
      },
      "source": [],
      "execution_count": null,
      "outputs": []
    },
    {
      "cell_type": "code",
      "metadata": {
        "colab": {
          "base_uri": "https://localhost:8080/"
        },
        "id": "a93dtQn5-BQj",
        "outputId": "b95fd92c-f789-41a1-c7f7-7a72a0b9c0c1"
      },
      "source": [
        "from google.colab import drive\n",
        "drive.mount('/content/drive')"
      ],
      "execution_count": null,
      "outputs": [
        {
          "output_type": "stream",
          "text": [
            "Drive already mounted at /content/drive; to attempt to forcibly remount, call drive.mount(\"/content/drive\", force_remount=True).\n"
          ],
          "name": "stdout"
        }
      ]
    },
    {
      "cell_type": "code",
      "metadata": {
        "id": "0NZ2qGdL-DkB"
      },
      "source": [
        "import pandas as pd\n",
        "df=pd.read_csv('drive/My Drive/churn-data-3333.csv')"
      ],
      "execution_count": null,
      "outputs": []
    },
    {
      "cell_type": "code",
      "metadata": {
        "id": "ZXeWn2tZ-EWx"
      },
      "source": [
        "num_df = df.select_dtypes(include=['float64', 'int64']).copy()\n",
        "cat_df = df.select_dtypes(include=['object']).copy()\n",
        "\n",
        "# Categorical boolean mask\n",
        "categorical_feature_mask = cat_df.dtypes==object\n",
        "# filter categorical columns using mask and turn it into a list\n",
        "categorical_cols = cat_df.columns[categorical_feature_mask].tolist()\n",
        "\n",
        "import numpy as np\n",
        "#conData=np.log(0.00001 + 1)\n",
        "conData=0\n",
        "cat_df=cat_df.fillna(conData)\n",
        "num_df=num_df.fillna(conData)\n",
        "cat_df=cat_df.astype(str)\n",
        "from sklearn.preprocessing import LabelEncoder\n",
        "le = LabelEncoder()\n",
        "cat_df[categorical_cols] = cat_df[categorical_cols].apply(lambda col: le.fit_transform(col))\n",
        "\n",
        "#cat_df[categorical_cols].head(10)\n",
        "\n",
        "\n",
        "churn=cat_df['churn']\n",
        "cat_df=cat_df.drop(['churn'], axis=1)\n",
        "cat_df=cat_df.drop(['phone number'], axis=1)\n",
        "\n",
        "\n",
        "num_df=num_df.fillna(conData)\n",
        "\n",
        "result_df = pd.concat([num_df, cat_df], axis=1)\n",
        "np.nan_to_num(result_df)\n",
        "\n",
        "result_df_op=result_df\n",
        "#result_df_op=result_df_op.drop(['churn'], axis=1)\n",
        "#result_df_op=np.nan_to_num(result_df_op)\n",
        "\n",
        "X=result_df_op\n",
        "#y=result_df['churn']\n",
        "y=churn\n",
        "\n",
        ""
      ],
      "execution_count": null,
      "outputs": []
    },
    {
      "cell_type": "code",
      "metadata": {
        "id": "pArX1vH_-Phh"
      },
      "source": [
        "from sklearn.model_selection import train_test_split\n",
        "#X_train, X_test, y_train, y_test = train_test_split(X, y, test_size=0.3, random_state=42)\n",
        "#train=pd.concat([X_train, y_train], axis=1)\n",
        "#test=pd.concat([X_test, y_test], axis=1)\n",
        "train=pd.concat([X, y], axis=1)\n",
        "test=pd.concat([X, y], axis=1)\n",
        "X_train=X\n",
        "X_test=X\n",
        "y_train=y\n",
        "y_test=y"
      ],
      "execution_count": null,
      "outputs": []
    },
    {
      "cell_type": "code",
      "metadata": {
        "id": "vlzrGsdz-cGg"
      },
      "source": [
        "from google.colab import files\n",
        "import os, sys\n",
        "file_path = 'drive/My Drive/Colab Notebooks/private-data-generation/'\n",
        "#sys.path.append(file_path)\n",
        "sys.path.append(os.path.abspath(file_path))\n",
        "import sys\n",
        "sys.path.insert(1,'/content/drive/My Drive/Colab Notebooks/private-data-generation/')"
      ],
      "execution_count": null,
      "outputs": []
    },
    {
      "cell_type": "code",
      "metadata": {
        "id": "X_XQ2M7H-eM_"
      },
      "source": [
        "from models import dp_wgan, pate_gan, ron_gauss"
      ],
      "execution_count": null,
      "outputs": []
    },
    {
      "cell_type": "code",
      "metadata": {
        "id": "B3l37MCS-iBg"
      },
      "source": [
        "from sklearn.linear_model import LogisticRegression\n",
        "from sklearn.ensemble import RandomForestClassifier, GradientBoostingClassifier, BaggingRegressor\n",
        "from sklearn.neural_network import MLPClassifier, MLPRegressor\n",
        "from sklearn.neighbors import KNeighborsClassifier\n",
        "from sklearn import svm\n",
        "from sklearn.tree import DecisionTreeClassifier\n",
        "from sklearn.linear_model import Ridge, Lasso, ElasticNet\n",
        "from sklearn.naive_bayes import GaussianNB\n",
        "from sklearn.metrics import roc_auc_score, mean_squared_error\n",
        "from sklearn import preprocessing\n",
        "from scipy.special import expit\n",
        "from models import dp_wgan, pate_gan, ron_gauss\n",
        "from models.Private_PGM import private_pgm\n",
        "import argparse\n",
        "import numpy as np\n",
        "import pandas as pd\n",
        "import collections\n",
        "import os"
      ],
      "execution_count": null,
      "outputs": []
    },
    {
      "cell_type": "code",
      "metadata": {
        "id": "NgpckIHs-eTf"
      },
      "source": [
        "class  Class_opt:\n",
        "    \"This is a person class\"\n",
        "    categorical = False\n",
        "    model='dp-wgan'\n",
        "    target_epsilon=80\n",
        "    target_delta=0.8\n",
        "    downstream_task=\"classification\"\n",
        "    target_variable='status'\n",
        "    batch_size=64\n",
        "    micro_batch_size=8\n",
        "    clamp_lower=0.01\n",
        "    clamp_upper=0.01\n",
        "    clip_coeff=0.1\n",
        "    sigma=2.0\n",
        "    num_epochs=50\n",
        "    enable_privacy=0\n",
        "\n",
        "\n",
        "\n",
        "\n",
        "opt = Class_opt()\n",
        "opt.target_variable='churn'\n",
        "opt.categorical = True\n",
        "opt.model='dp-wgan'\n",
        "opt.target_epsilon=10\n",
        "opt.target_delta=0.1\n",
        "opt.batch_size=64\n",
        "opt.micro_batch_size=8\n",
        "opt.clamp_lower=0.01\n",
        "opt.clamp_upper=0.01\n",
        "opt.clip_coeff=0.1\n",
        "opt.sigma=0.8\n",
        "opt.num_epochs=200\n",
        "opt.enable_privacy=1\n",
        "\n",
        "opt.downstream_task=\"classification\""
      ],
      "execution_count": null,
      "outputs": []
    },
    {
      "cell_type": "code",
      "metadata": {
        "id": "YTiMgAjc-eWf"
      },
      "source": [
        "data_columns = [col for col in train.columns if col != opt.target_variable]"
      ],
      "execution_count": null,
      "outputs": []
    },
    {
      "cell_type": "code",
      "metadata": {
        "colab": {
          "base_uri": "https://localhost:8080/"
        },
        "id": "72DPHCJp-eZS",
        "outputId": "6545179a-c6f4-4e0c-b805-85c4dced6ac3"
      },
      "source": [
        "class_ratios = train[opt.target_variable].sort_values().groupby(train[opt.target_variable]).size().values/train.shape[0]\n",
        "class_ratios"
      ],
      "execution_count": null,
      "outputs": [
        {
          "output_type": "execute_result",
          "data": {
            "text/plain": [
              "array([0.85508551, 0.14491449])"
            ]
          },
          "metadata": {
            "tags": []
          },
          "execution_count": 11
        }
      ]
    },
    {
      "cell_type": "code",
      "metadata": {
        "id": "30XOtNBv-ebg"
      },
      "source": [
        "X_train = np.nan_to_num(train.drop([opt.target_variable], axis=1).values)\n",
        "y_train = np.nan_to_num(train[opt.target_variable].values)\n",
        "X_test = np.nan_to_num(test.drop([opt.target_variable], axis=1).values)\n",
        "y_test = np.nan_to_num(test[opt.target_variable].values)"
      ],
      "execution_count": null,
      "outputs": []
    },
    {
      "cell_type": "code",
      "metadata": {
        "id": "j-fsH8zI-ed9"
      },
      "source": [
        "#Normalized the data\n",
        "X_train = expit(X_train)\n",
        "X_test = expit(X_test)"
      ],
      "execution_count": null,
      "outputs": []
    },
    {
      "cell_type": "code",
      "metadata": {
        "id": "0L13SnRt-ei9"
      },
      "source": [
        "input_dim = X_train.shape[1]\n",
        "z_dim = int(input_dim / 4 + 1) if input_dim % 4 == 0 else int(input_dim / 4)\n",
        "\n",
        "Hyperparams = collections.namedtuple('Hyperarams','batch_size micro_batch_size clamp_lower clamp_upper clip_coeff sigma class_ratios lr num_epochs')\n",
        "Hyperparams.__new__.__defaults__ = (None, None, None, None, None, None, None, None, None)"
      ],
      "execution_count": null,
      "outputs": []
    },
    {
      "cell_type": "code",
      "metadata": {
        "colab": {
          "base_uri": "https://localhost:8080/"
        },
        "id": "Uz2Y-lDN-elZ",
        "outputId": "0a33b571-2f9b-4d39-a6a6-3780cfc0baaa"
      },
      "source": [
        "conditional = (opt.downstream_task == \"classification\")\n",
        "model = dp_wgan.DP_WGAN(input_dim, z_dim, opt.target_epsilon, opt.target_delta, conditional)\n",
        "model.train(X_train, y_train, Hyperparams(batch_size=opt.batch_size, micro_batch_size=opt.micro_batch_size,\n",
        "                                              clamp_lower=opt.clamp_lower, clamp_upper=opt.clamp_upper,\n",
        "                                              clip_coeff=opt.clip_coeff, sigma=opt.sigma, class_ratios=class_ratios, lr=\n",
        "                                              5e-5, num_epochs=opt.num_epochs), private=opt.enable_privacy)\n",
        "\n",
        "torch.save(model, 'drive/My Drive/chkp_GAN_MWOE_privacy_1_100percent_dataset3333.pth')"
      ],
      "execution_count": null,
      "outputs": [
        {
          "output_type": "stream",
          "text": [
            "Epoch : 1 Loss D real :  0.026453991055839357 Loss D fake :  0.0120724108410507 Loss G :  0.01213286612990365 Epsilon spent :  3.4519097833057737\n",
            "Epoch : 2 Loss D real :  0.02692513285484351 Loss D fake :  0.011917879501905669 Loss G :  0.012183735753128658 Epsilon spent :  4.02558820036899\n",
            "Epoch : 3 Loss D real :  0.027017908364063137 Loss D fake :  0.012145860174821513 Loss G :  0.012073039908836097 Epsilon spent :  4.502083529502887\n",
            "Epoch : 4 Loss D real :  0.026719541355339972 Loss D fake :  0.011715286908215793 Loss G :  0.012224863209362086 Epsilon spent :  4.7235640987849346\n",
            "Epoch : 5 Loss D real :  0.026831436889489402 Loss D fake :  0.011977714902487953 Loss G :  0.011988983084713961 Epsilon spent :  4.945044668066982\n",
            "Epoch : 6 Loss D real :  0.026697600577518056 Loss D fake :  0.012240122793749874 Loss G :  0.012076554681342359 Epsilon spent :  5.166525237349031\n",
            "Epoch : 7 Loss D real :  0.02652982973466722 Loss D fake :  0.011911055735107026 Loss G :  0.01202597673843877 Epsilon spent :  5.388005806631079\n",
            "Epoch : 8 Loss D real :  0.026853250550630783 Loss D fake :  0.011854948877115553 Loss G :  0.012113987093288373 Epsilon spent :  5.609486375913127\n",
            "Epoch : 9 Loss D real :  0.026627295829281174 Loss D fake :  0.011915610746997417 Loss G :  0.011955641003240878 Epsilon spent :  5.830966945195175\n",
            "Epoch : 10 Loss D real :  0.02688718052902317 Loss D fake :  0.011766352727788065 Loss G :  0.011947396546296864 Epsilon spent :  6.0524475144772225\n",
            "Epoch : 11 Loss D real :  0.026438956461934716 Loss D fake :  0.011812731718544627 Loss G :  0.012168882406871386 Epsilon spent :  6.273928083759271\n",
            "Epoch : 12 Loss D real :  0.026806956082006613 Loss D fake :  0.012002819825937362 Loss G :  0.012132788581700388 Epsilon spent :  6.495408653041318\n",
            "Epoch : 13 Loss D real :  0.026643785244774232 Loss D fake :  0.01210853601259521 Loss G :  0.01184377272912934 Epsilon spent :  6.716889222323367\n",
            "Epoch : 14 Loss D real :  0.026585556703066 Loss D fake :  0.011709879684683268 Loss G :  0.011994367073844794 Epsilon spent :  6.938369791605415\n",
            "Epoch : 15 Loss D real :  0.02632879344399516 Loss D fake :  0.011709277322121805 Loss G :  0.011962191242938885 Epsilon spent :  7.159850360887463\n",
            "Epoch : 16 Loss D real :  0.026826339239699196 Loss D fake :  0.011685484096136716 Loss G :  0.012065485636050366 Epsilon spent :  7.381330930169511\n",
            "Epoch : 17 Loss D real :  0.026711006894537703 Loss D fake :  0.011606335572839892 Loss G :  0.011689721598932092 Epsilon spent :  7.602811499451558\n",
            "Epoch : 18 Loss D real :  0.02647601809919241 Loss D fake :  0.01198293299960733 Loss G :  0.011933675117400639 Epsilon spent :  7.824292068733607\n",
            "Epoch : 19 Loss D real :  0.026529619045166708 Loss D fake :  0.011720474016913153 Loss G :  0.012081862327647797 Epsilon spent :  8.045772638015654\n",
            "Epoch : 20 Loss D real :  0.026330218511701232 Loss D fake :  0.011837570783224022 Loss G :  0.011920478574809238 Epsilon spent :  8.267253207297703\n",
            "Epoch : 21 Loss D real :  0.026402380949313936 Loss D fake :  0.012157992109120814 Loss G :  0.01197345856831137 Epsilon spent :  8.450376112734386\n",
            "Epoch : 22 Loss D real :  0.02657513346304842 Loss D fake :  0.011749723784579849 Loss G :  0.011578295863973012 Epsilon spent :  8.578657702270066\n",
            "Epoch : 23 Loss D real :  0.026575059915913125 Loss D fake :  0.011610526416539866 Loss G :  0.012024416628190843 Epsilon spent :  8.706939291805746\n",
            "Epoch : 24 Loss D real :  0.026320114928978414 Loss D fake :  0.011692814288260597 Loss G :  0.011802277041035123 Epsilon spent :  8.835220881341424\n",
            "Epoch : 25 Loss D real :  0.026534140237781847 Loss D fake :  0.011773125115641972 Loss G :  0.011751343009848798 Epsilon spent :  8.963502470877104\n",
            "Epoch : 26 Loss D real :  0.026490422635842316 Loss D fake :  0.011613668134484759 Loss G :  0.01193017777583545 Epsilon spent :  9.091784060412785\n",
            "Epoch : 27 Loss D real :  0.02627174122417136 Loss D fake :  0.011770957255244706 Loss G :  0.0118193929003521 Epsilon spent :  9.220065649948463\n",
            "Epoch : 28 Loss D real :  0.026639834859933317 Loss D fake :  0.011615010557278217 Loss G :  0.01187347402512549 Epsilon spent :  9.348347239484143\n",
            "Epoch : 29 Loss D real :  0.026854789597530085 Loss D fake :  0.011846035124399468 Loss G :  0.011461604375586257 Epsilon spent :  9.476628829019823\n",
            "Epoch : 30 Loss D real :  0.02665523178108825 Loss D fake :  0.011657257436632512 Loss G :  0.011555781647342434 Epsilon spent :  9.604910418555502\n",
            "Epoch : 31 Loss D real :  0.02656203671450749 Loss D fake :  0.011261476075446978 Loss G :  0.01160257170888936 Epsilon spent :  9.733192008091182\n",
            "Epoch : 32 Loss D real :  0.026751099549865584 Loss D fake :  0.011468349644711953 Loss G :  0.011353064438251 Epsilon spent :  9.861473597626862\n",
            "Epoch : 33 Loss D real :  0.02715724615586374 Loss D fake :  0.01152898085641076 Loss G :  0.011498546407163246 Epsilon spent :  9.98975518716254\n",
            "Epoch : 34 Loss D real :  0.02679857168120783 Loss D fake :  0.011361745894221714 Loss G :  0.011404663297676528 Epsilon spent :  10.118036776698222\n"
          ],
          "name": "stdout"
        }
      ]
    },
    {
      "cell_type": "code",
      "metadata": {
        "id": "CgmVMwIs-eni"
      },
      "source": [
        "if opt.model == 'imle' or opt.model == 'dp-wgan' or opt.model == 'pate-gan':\n",
        "    syn_data = model.generate(X_train.shape[0], class_ratios)\n",
        "    X_syn, y_syn = syn_data[:, :-1], syn_data[:, -1]"
      ],
      "execution_count": null,
      "outputs": []
    },
    {
      "cell_type": "code",
      "metadata": {
        "id": "LVHDjtpZ-eqP",
        "colab": {
          "base_uri": "https://localhost:8080/"
        },
        "outputId": "111a09ed-ba2a-4daf-ba5a-1a96b3ed3b60"
      },
      "source": [
        "X_syn_df = pd.DataFrame(data=X_syn, columns=data_columns)\n",
        "y_syn_df = pd.DataFrame(data=y_syn, columns=[opt.target_variable])\n",
        "\n",
        "syn_df = pd.concat([X_syn_df, y_syn_df], axis=1)\n",
        "syn_df.to_csv(\"drive/My Drive/synthetic_data_GAN_mWOE_privacy_1_100percent_training_dataset3333.csv\")\n",
        "#test.to_csv(\"drive/My Drive/Original_data_GAN_mWOE_privacy_1_30percent_testing_dataset3333.csv\")\n",
        "print(\"Saved synthetic data at : \", \"drive/My Drive/synthetic_data_GAN_mWOE_privacy_1_100percent_training_dataset3333.csv\")"
      ],
      "execution_count": null,
      "outputs": [
        {
          "output_type": "stream",
          "text": [
            "Saved synthetic data at :  drive/My Drive/synthetic_data_GAN_mWOE_privacy_1_100percent_training_dataset3333.csv\n"
          ],
          "name": "stdout"
        }
      ]
    },
    {
      "cell_type": "code",
      "metadata": {
        "id": "jDFf_cSc-evW",
        "colab": {
          "base_uri": "https://localhost:8080/"
        },
        "outputId": "cde119a3-e6c5-4c62-fbd4-1f68937e801e"
      },
      "source": [
        "# Creating downstream learners\n",
        "learners = []\n",
        "if opt.downstream_task == \"classification\":\n",
        "    names = ['LR', 'Random Forest', 'Neural Network', 'GaussianNB', 'GradientBoostingClassifier', 'DT', 'KNN', 'SVN']\n",
        "\n",
        "    learners.append((LogisticRegression()))\n",
        "    learners.append((RandomForestClassifier()))\n",
        "    learners.append((MLPClassifier(early_stopping=True)))\n",
        "    learners.append((GaussianNB()))\n",
        "    learners.append((GradientBoostingClassifier()))\n",
        "    learners.append(DecisionTreeClassifier())\n",
        "    learners.append((KNeighborsClassifier()))\n",
        "    #learners.append((svm.SVC()))\n",
        "\n",
        "    print(\"AUC scores of downstream classifiers on test data : \")\n",
        "    for i in range(0, len(learners)):\n",
        "        score = learners[i].fit(X_syn, y_syn)\n",
        "        #score = learners[i].fit(X_train, y_train)\n",
        "        pred_probs = learners[i].predict_proba(X_test)\n",
        "        auc_score = roc_auc_score(y_test, pred_probs[:, 1])\n",
        "        print('-' * 40)\n",
        "        print('{0}: {1}'.format(names[i], auc_score))"
      ],
      "execution_count": null,
      "outputs": [
        {
          "output_type": "stream",
          "text": [
            "AUC scores of downstream classifiers on test data : \n",
            "----------------------------------------\n",
            "LR: 0.43549235407358977\n",
            "----------------------------------------\n",
            "Random Forest: 0.45156005956921286\n",
            "----------------------------------------\n",
            "Neural Network: 0.4954313319530711\n",
            "----------------------------------------\n",
            "GaussianNB: 0.5166786531546257\n",
            "----------------------------------------\n",
            "GradientBoostingClassifier: 0.3386193745232647\n",
            "----------------------------------------\n",
            "DT: 0.4991402419091206\n",
            "----------------------------------------\n",
            "KNN: 0.5\n"
          ],
          "name": "stdout"
        }
      ]
    },
    {
      "cell_type": "code",
      "metadata": {
        "id": "w_G9KVrg-exy"
      },
      "source": [],
      "execution_count": null,
      "outputs": []
    },
    {
      "cell_type": "code",
      "metadata": {
        "id": "5YDT5In3-e1N"
      },
      "source": [],
      "execution_count": null,
      "outputs": []
    },
    {
      "cell_type": "code",
      "metadata": {
        "id": "eQ-APCXJ-e23"
      },
      "source": [],
      "execution_count": null,
      "outputs": []
    },
    {
      "cell_type": "code",
      "metadata": {
        "id": "MnWV3KbP-e5p"
      },
      "source": [],
      "execution_count": null,
      "outputs": []
    },
    {
      "cell_type": "code",
      "metadata": {
        "id": "QS-PQ06L-e89"
      },
      "source": [],
      "execution_count": null,
      "outputs": []
    },
    {
      "cell_type": "code",
      "metadata": {
        "id": "ngzlHAS4-e_b"
      },
      "source": [],
      "execution_count": null,
      "outputs": []
    },
    {
      "cell_type": "code",
      "metadata": {
        "id": "ZFEZ96NO-fBf"
      },
      "source": [],
      "execution_count": null,
      "outputs": []
    }
  ]
}