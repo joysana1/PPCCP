{
  "nbformat": 4,
  "nbformat_minor": 0,
  "metadata": {
    "colab": {
      "provenance": [],
      "gpuType": "T4"
    },
    "kernelspec": {
      "name": "python3",
      "display_name": "Python 3"
    },
    "language_info": {
      "name": "python"
    },
    "accelerator": "GPU"
  },
  "cells": [
    {
      "cell_type": "code",
      "metadata": {
        "id": "C71ntYux94gE"
      },
      "source": [
        "from matplotlib import pyplot as plt\n",
        "import torch\n",
        "from torch import nn\n",
        "from torch import optim\n",
        "import torch.nn.functional as F\n",
        "from torchvision import datasets, transforms\n",
        "import pandas as pd\n"
      ],
      "execution_count": null,
      "outputs": []
    },
    {
      "cell_type": "code",
      "metadata": {
        "id": "5EJOdC3y_LM5"
      },
      "source": [],
      "execution_count": null,
      "outputs": []
    },
    {
      "cell_type": "code",
      "metadata": {
        "colab": {
          "base_uri": "https://localhost:8080/"
        },
        "id": "a93dtQn5-BQj",
        "outputId": "24acc39b-c5e6-4902-9416-1c351237fe04"
      },
      "source": [
        "from google.colab import drive\n",
        "drive.mount('/content/drive')"
      ],
      "execution_count": null,
      "outputs": [
        {
          "output_type": "stream",
          "name": "stdout",
          "text": [
            "Mounted at /content/drive\n"
          ]
        }
      ]
    },
    {
      "cell_type": "code",
      "metadata": {
        "id": "0NZ2qGdL-DkB"
      },
      "source": [
        "import pandas as pd\n",
        "df=pd.read_csv('drive/My Drive/churn-5000.csv')"
      ],
      "execution_count": null,
      "outputs": []
    },
    {
      "cell_type": "code",
      "metadata": {
        "id": "ZXeWn2tZ-EWx"
      },
      "source": [
        "num_df = df.select_dtypes(include=['float64', 'int64']).copy()\n",
        "cat_df = df.select_dtypes(include=['object']).copy()\n",
        "\n",
        "# Categorical boolean mask\n",
        "categorical_feature_mask = cat_df.dtypes==object\n",
        "# filter categorical columns using mask and turn it into a list\n",
        "categorical_cols = cat_df.columns[categorical_feature_mask].tolist()\n",
        "\n",
        "import numpy as np\n",
        "#conData=np.log(0.00001 + 1)\n",
        "conData=0\n",
        "cat_df=cat_df.fillna(conData)\n",
        "num_df=num_df.fillna(conData)\n",
        "cat_df=cat_df.astype(str)\n",
        "from sklearn.preprocessing import LabelEncoder\n",
        "le = LabelEncoder()\n",
        "cat_df[categorical_cols] = cat_df[categorical_cols].apply(lambda col: le.fit_transform(col))\n",
        "\n",
        "#cat_df[categorical_cols].head(10)\n",
        "\n",
        "\n",
        "churn=cat_df['churn']\n",
        "cat_df=cat_df.drop(['churn'], axis=1)\n",
        "\n",
        "\n",
        "\n",
        "num_df=num_df.fillna(conData)\n",
        "\n",
        "result_df = pd.concat([num_df, cat_df], axis=1)\n",
        "np.nan_to_num(result_df)\n",
        "\n",
        "result_df_op=result_df\n",
        "#result_df_op=result_df_op.drop(['churn'], axis=1)\n",
        "#result_df_op=np.nan_to_num(result_df_op)\n",
        "\n",
        "\n",
        "result_df_op=result_df\n",
        "\n",
        "X=result_df_op\n",
        "y=churn"
      ],
      "execution_count": null,
      "outputs": []
    },
    {
      "cell_type": "code",
      "metadata": {
        "id": "pArX1vH_-Phh"
      },
      "source": [
        "from sklearn.model_selection import train_test_split\n",
        "X_train, X_test, y_train, y_test = train_test_split(X, y, test_size=0.5, random_state=42)\n",
        "train=pd.concat([X_train, y_train], axis=1)\n",
        "test=pd.concat([X_test, y_test], axis=1)\n",
        "train.to_csv(\"drive/My Drive/Original_data_GAN_mWOE_privacy_1_50percent_training_dataseat5000.csv\")\n",
        "test.to_csv(\"drive/My Drive/Original_data_GAN_mWOE_privacy_1_50percent_testing_dataseat5000.csv\")\n",
        "#train=pd.concat([X, y], axis=1)\n",
        "#test=pd.concat([X, y], axis=1)\n",
        "X_train=X\n",
        "X_test=X\n",
        "y_train=y\n",
        "y_test=y"
      ],
      "execution_count": null,
      "outputs": []
    },
    {
      "cell_type": "code",
      "metadata": {
        "id": "vlzrGsdz-cGg"
      },
      "source": [
        "from google.colab import files\n",
        "import os, sys\n",
        "file_path = 'drive/My Drive/Colab Notebooks/private-data-generation/'\n",
        "#sys.path.append(file_path)\n",
        "sys.path.append(os.path.abspath(file_path))\n",
        "import sys\n",
        "sys.path.insert(1,'/content/drive/My Drive/Colab Notebooks/private-data-generation/')"
      ],
      "execution_count": null,
      "outputs": []
    },
    {
      "cell_type": "code",
      "metadata": {
        "id": "X_XQ2M7H-eM_"
      },
      "source": [
        "from models import dp_wgan, pate_gan, ron_gauss"
      ],
      "execution_count": null,
      "outputs": []
    },
    {
      "cell_type": "code",
      "metadata": {
        "id": "B3l37MCS-iBg"
      },
      "source": [
        "from sklearn.linear_model import LogisticRegression\n",
        "from sklearn.ensemble import RandomForestClassifier, GradientBoostingClassifier, BaggingRegressor\n",
        "from sklearn.neural_network import MLPClassifier, MLPRegressor\n",
        "from sklearn.neighbors import KNeighborsClassifier\n",
        "from sklearn import svm\n",
        "from sklearn.tree import DecisionTreeClassifier\n",
        "from sklearn.linear_model import Ridge, Lasso, ElasticNet\n",
        "from sklearn.naive_bayes import GaussianNB\n",
        "from sklearn.metrics import roc_auc_score, mean_squared_error\n",
        "from sklearn import preprocessing\n",
        "from scipy.special import expit\n",
        "from models import dp_wgan, pate_gan, ron_gauss\n",
        "from models.Private_PGM import private_pgm\n",
        "import argparse\n",
        "import numpy as np\n",
        "import pandas as pd\n",
        "import collections\n",
        "import os"
      ],
      "execution_count": null,
      "outputs": []
    },
    {
      "cell_type": "code",
      "metadata": {
        "id": "NgpckIHs-eTf"
      },
      "source": [
        "class  Class_opt:\n",
        "    \"This is a person class\"\n",
        "    categorical = False\n",
        "    model='dp-wgan'\n",
        "    target_epsilon=80\n",
        "    target_delta=0.8\n",
        "    downstream_task=\"classification\"\n",
        "    target_variable='status'\n",
        "    batch_size=64\n",
        "    micro_batch_size=8\n",
        "    clamp_lower=0.01\n",
        "    clamp_upper=0.01\n",
        "    clip_coeff=0.1\n",
        "    sigma=2.0\n",
        "    num_epochs=50\n",
        "    enable_privacy=0\n",
        "\n",
        "\n",
        "\n",
        "\n",
        "opt = Class_opt()\n",
        "opt.target_variable='churn'\n",
        "opt.categorical = True\n",
        "opt.model='dp-wgan'\n",
        "opt.target_epsilon=10\n",
        "opt.target_delta=0.1\n",
        "opt.batch_size=64\n",
        "opt.micro_batch_size=8\n",
        "opt.clamp_lower=0.01\n",
        "opt.clamp_upper=0.01\n",
        "opt.clip_coeff=0.1\n",
        "opt.sigma=0.8\n",
        "opt.num_epochs=200\n",
        "opt.enable_privacy=1\n",
        "\n",
        "opt.downstream_task=\"classification\""
      ],
      "execution_count": null,
      "outputs": []
    },
    {
      "cell_type": "code",
      "metadata": {
        "id": "YTiMgAjc-eWf"
      },
      "source": [
        "data_columns = [col for col in train.columns if col != opt.target_variable]"
      ],
      "execution_count": null,
      "outputs": []
    },
    {
      "cell_type": "code",
      "metadata": {
        "colab": {
          "base_uri": "https://localhost:8080/"
        },
        "id": "72DPHCJp-eZS",
        "outputId": "8f0b34a8-49e5-4ac9-c200-ce76dd22d9e5"
      },
      "source": [
        "class_ratios = train[opt.target_variable].sort_values().groupby(train[opt.target_variable]).size().values/train.shape[0]\n",
        "class_ratios"
      ],
      "execution_count": null,
      "outputs": [
        {
          "output_type": "execute_result",
          "data": {
            "text/plain": [
              "array([0.8572, 0.1428])"
            ]
          },
          "metadata": {},
          "execution_count": 11
        }
      ]
    },
    {
      "cell_type": "code",
      "metadata": {
        "id": "30XOtNBv-ebg"
      },
      "source": [
        "X_train = np.nan_to_num(train.drop([opt.target_variable], axis=1).values)\n",
        "y_train = np.nan_to_num(train[opt.target_variable].values)\n",
        "X_test = np.nan_to_num(test.drop([opt.target_variable], axis=1).values)\n",
        "y_test = np.nan_to_num(test[opt.target_variable].values)"
      ],
      "execution_count": null,
      "outputs": []
    },
    {
      "cell_type": "code",
      "metadata": {
        "id": "j-fsH8zI-ed9"
      },
      "source": [
        "#Normalized the data\n",
        "X_train = expit(X_train)\n",
        "X_test = expit(X_test)"
      ],
      "execution_count": null,
      "outputs": []
    },
    {
      "cell_type": "code",
      "metadata": {
        "id": "0L13SnRt-ei9"
      },
      "source": [
        "input_dim = X_train.shape[1]\n",
        "z_dim = int(input_dim / 4 + 1) if input_dim % 4 == 0 else int(input_dim / 4)\n",
        "\n",
        "Hyperparams = collections.namedtuple('Hyperarams','batch_size micro_batch_size clamp_lower clamp_upper clip_coeff sigma class_ratios lr num_epochs')\n",
        "Hyperparams.__new__.__defaults__ = (None, None, None, None, None, None, None, None, None)"
      ],
      "execution_count": null,
      "outputs": []
    },
    {
      "cell_type": "code",
      "metadata": {
        "colab": {
          "base_uri": "https://localhost:8080/"
        },
        "id": "Uz2Y-lDN-elZ",
        "outputId": "012f3b4d-4b50-466f-901d-aa40587c2feb"
      },
      "source": [
        "conditional = (opt.downstream_task == \"classification\")\n",
        "model = dp_wgan.DP_WGAN(input_dim, z_dim, opt.target_epsilon, opt.target_delta, conditional)\n",
        "model.train(X_train, y_train, Hyperparams(batch_size=opt.batch_size, micro_batch_size=opt.micro_batch_size,\n",
        "                                              clamp_lower=opt.clamp_lower, clamp_upper=opt.clamp_upper,\n",
        "                                              clip_coeff=opt.clip_coeff, sigma=opt.sigma, class_ratios=class_ratios, lr=\n",
        "                                              5e-5, num_epochs=opt.num_epochs), private=opt.enable_privacy)\n",
        "\n",
        "torch.save(model, 'drive/My Drive/chk_p_GAN_MWOE_privacy_1_dataset5000_70-vs-30.pth')"
      ],
      "execution_count": null,
      "outputs": [
        {
          "output_type": "stream",
          "name": "stdout",
          "text": [
            "Epoch : 1 Loss D real :  0.026873399635443752 Loss D fake :  0.010648048152576212 Loss G :  0.01091514440251759 Epsilon spent :  4.116485292925353\n",
            "Epoch : 2 Loss D real :  0.026854395370091995 Loss D fake :  0.010792282457626642 Loss G :  0.010755566220988725 Epsilon spent :  4.526684844396723\n",
            "Epoch : 3 Loss D real :  0.02698891740881059 Loss D fake :  0.010689478627005145 Loss G :  0.0107995518150262 Epsilon spent :  4.871206355766713\n",
            "Epoch : 4 Loss D real :  0.026240304106630894 Loss D fake :  0.010504339586511697 Loss G :  0.01061002641006505 Epsilon spent :  5.215727867136703\n",
            "Epoch : 5 Loss D real :  0.026723122636063534 Loss D fake :  0.010749194220422186 Loss G :  0.010693613042643194 Epsilon spent :  5.560249378506694\n",
            "Epoch : 6 Loss D real :  0.026837362238021113 Loss D fake :  0.010688496554792513 Loss G :  0.010772929311876027 Epsilon spent :  5.9047708898766835\n",
            "Epoch : 7 Loss D real :  0.02662448765635536 Loss D fake :  0.010622756367033599 Loss G :  0.010648793485051215 Epsilon spent :  6.249292401246674\n",
            "Epoch : 8 Loss D real :  0.026638490137280865 Loss D fake :  0.010637895071766861 Loss G :  0.010700995365473148 Epsilon spent :  6.593813912616664\n",
            "Epoch : 9 Loss D real :  0.02654795551729091 Loss D fake :  0.010622641490486747 Loss G :  0.010693256429887395 Epsilon spent :  6.938335423986655\n",
            "Epoch : 10 Loss D real :  0.026489020792331508 Loss D fake :  0.010737264802231961 Loss G :  0.010684961432195144 Epsilon spent :  7.282856935356645\n",
            "Epoch : 11 Loss D real :  0.026694192969165212 Loss D fake :  0.010705765043593224 Loss G :  0.010678488165423768 Epsilon spent :  7.6273784467266355\n",
            "Epoch : 12 Loss D real :  0.02674027681011671 Loss D fake :  0.01055044546833232 Loss G :  0.010699229100766018 Epsilon spent :  7.913625232701676\n",
            "Epoch : 13 Loss D real :  0.02646422944942187 Loss D fake :  0.010615841671156048 Loss G :  0.010671004967155163 Epsilon spent :  8.093388774386389\n",
            "Epoch : 14 Loss D real :  0.02660146888189182 Loss D fake :  0.01077802067273445 Loss G :  0.01076692425140012 Epsilon spent :  8.273152316071103\n",
            "Epoch : 15 Loss D real :  0.026652008280423772 Loss D fake :  0.010644692212149125 Loss G :  0.0106070285784341 Epsilon spent :  8.452915857755816\n",
            "Epoch : 16 Loss D real :  0.026820073950254597 Loss D fake :  0.010667395047508 Loss G :  0.010682722321637528 Epsilon spent :  8.63267939944053\n",
            "Epoch : 17 Loss D real :  0.026412320446896606 Loss D fake :  0.010525653942990446 Loss G :  0.010567148531749155 Epsilon spent :  8.812442941125243\n",
            "Epoch : 18 Loss D real :  0.026374010314399395 Loss D fake :  0.010550044932402601 Loss G :  0.010719756285935545 Epsilon spent :  8.992206482809957\n",
            "Epoch : 19 Loss D real :  0.0271674503677117 Loss D fake :  0.010625271077739116 Loss G :  0.010661605795110211 Epsilon spent :  9.17197002449467\n",
            "Epoch : 20 Loss D real :  0.026616955860379925 Loss D fake :  0.01056190607743796 Loss G :  0.010692638127966284 Epsilon spent :  9.351733566179384\n",
            "Epoch : 21 Loss D real :  0.026637427262602646 Loss D fake :  0.010542611456615197 Loss G :  0.01048926124202228 Epsilon spent :  9.531497107864096\n",
            "Epoch : 22 Loss D real :  0.026514037622981844 Loss D fake :  0.010550166167580765 Loss G :  0.010694765831019002 Epsilon spent :  9.71126064954881\n",
            "Epoch : 23 Loss D real :  0.02647661611754244 Loss D fake :  0.01050157233729211 Loss G :  0.010625474365572667 Epsilon spent :  9.891024191233523\n",
            "Epoch : 24 Loss D real :  0.026674703462331965 Loss D fake :  0.01055013409902118 Loss G :  0.010582129045424524 Epsilon spent :  10.070787732918237\n"
          ]
        }
      ]
    },
    {
      "cell_type": "code",
      "metadata": {
        "id": "CgmVMwIs-eni"
      },
      "source": [],
      "execution_count": null,
      "outputs": []
    },
    {
      "cell_type": "code",
      "metadata": {
        "id": "LVHDjtpZ-eqP",
        "colab": {
          "base_uri": "https://localhost:8080/"
        },
        "outputId": "075bd461-69ea-43d9-801e-a6575b038a97"
      },
      "source": [
        "if opt.model == 'imle' or opt.model == 'dp-wgan' or opt.model == 'pate-gan':\n",
        "  syn_data = model.generate(X_train.shape[0], class_ratios)\n",
        "  X_syn, y_syn = syn_data[:, :-1], syn_data[:, -1]\n",
        "\n",
        "X_syn_df = pd.DataFrame(data=X_syn, columns=data_columns)\n",
        "y_syn_df = pd.DataFrame(data=y_syn, columns=[opt.target_variable])\n",
        "\n",
        "syn_df = pd.concat([X_syn_df, y_syn_df], axis=1)\n",
        "syn_df.to_csv(\"drive/My Drive/synthetic_data_GAN_mWOE_privacy_1_50percent_training_dataset5000_set9.csv\")\n",
        "print(\"Saved synthetic data at : \", \"drive/My Drive/synthetic_data_GAN_mWOE_privacy_1_70percent_training_dataset5000.csv\")"
      ],
      "execution_count": null,
      "outputs": [
        {
          "output_type": "stream",
          "name": "stdout",
          "text": [
            "Saved synthetic data at :  drive/My Drive/synthetic_data_GAN_mWOE_privacy_1_70percent_training_dataset5000.csv\n"
          ]
        }
      ]
    }
  ]
}