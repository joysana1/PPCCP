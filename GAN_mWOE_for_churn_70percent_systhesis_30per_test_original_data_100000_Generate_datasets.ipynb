{
 "cells": [
  {
   "cell_type": "code",
   "execution_count": null,
   "metadata": {
    "id": "e09KUs74lXKH"
   },
   "outputs": [],
   "source": [
    "from matplotlib import pyplot as plt\n",
    "import torch\n",
    "from torch import nn\n",
    "from torch import optim\n",
    "import torch.nn.functional as F\n",
    "from torchvision import datasets, transforms\n",
    "import pandas as pd\n"
   ]
  },
  {
   "cell_type": "code",
   "execution_count": null,
   "metadata": {
    "colab": {
     "base_uri": "https://localhost:8080/"
    },
    "id": "XY90DPQfldup",
    "outputId": "4a362b13-2ae4-4787-c34b-1084d738c695"
   },
   "outputs": [
    {
     "name": "stdout",
     "output_type": "stream",
     "text": [
      "Mounted at /content/drive\n"
     ]
    }
   ],
   "source": [
    "from google.colab import drive\n",
    "drive.mount('/content/drive')"
   ]
  },
  {
   "cell_type": "code",
   "execution_count": null,
   "metadata": {
    "id": "lVfF-CnHldxw"
   },
   "outputs": [],
   "source": [
    "import pandas as pd\n",
    "df=pd.read_csv('drive/My Drive/Telecom_customer churn (100000).csv')"
   ]
  },
  {
   "cell_type": "code",
   "execution_count": null,
   "metadata": {
    "id": "AoTIexMGld0T"
   },
   "outputs": [],
   "source": [
    "num_df = df.select_dtypes(include=['float64', 'int64']).copy()\n",
    "cat_df = df.select_dtypes(include=['object']).copy()\n",
    "\n",
    "# Categorical boolean mask\n",
    "categorical_feature_mask = cat_df.dtypes==object\n",
    "# filter categorical columns using mask and turn it into a list\n",
    "categorical_cols = cat_df.columns[categorical_feature_mask].tolist()\n",
    "\n",
    "import numpy as np\n",
    "#conData=np.log(0.00001 + 1)\n",
    "conData=0\n",
    "cat_df=cat_df.fillna(conData)\n",
    "num_df=num_df.fillna(conData)\n",
    "cat_df=cat_df.astype(str)\n",
    "from sklearn.preprocessing import LabelEncoder\n",
    "le = LabelEncoder()\n",
    "cat_df[categorical_cols] = cat_df[categorical_cols].apply(lambda col: le.fit_transform(col))\n",
    "\n",
    "#cat_df[categorical_cols].head(10)\n",
    "\n",
    "change_mou=num_df['change_mou']\n",
    "change_rev=num_df['change_rev']\n",
    "num_df=num_df.drop(['change_mou'], axis=1)\n",
    "num_df=num_df.drop(['change_rev'], axis=1)\n",
    "\n",
    "num_df=num_df.drop(['Customer_ID'], axis=1)\n",
    "\n",
    "churn=num_df['churn']\n",
    "num_df=num_df.drop(['churn'], axis=1)\n",
    "\n",
    "#no convertion\n",
    "\n",
    "num_df=num_df.fillna(conData)\n",
    "\n",
    "num_df[num_df < 0]=0\n",
    "\n",
    "result_df = pd.concat([num_df, cat_df], axis=1)\n",
    "np.nan_to_num(result_df)\n",
    "\n",
    "result_df_op=result_df\n",
    "#result_df_op=result_df_op.drop(['churn'], axis=1)\n",
    "#result_df_op=np.nan_to_num(result_df_op)\n",
    "\n",
    "X=result_df_op\n",
    "#y=result_df['churn']\n",
    "y=churn"
   ]
  },
  {
   "cell_type": "code",
   "execution_count": null,
   "metadata": {
    "id": "H6RRYnQwld2s"
   },
   "outputs": [],
   "source": [
    "from sklearn.model_selection import train_test_split\n",
    "X_train, X_test, y_train, y_test = train_test_split(X, y, test_size=0.3, random_state=42)\n",
    "\n",
    "train=pd.concat([X_train, y_train], axis=1)\n",
    "test=pd.concat([X_test, y_test], axis=1)\n",
    "\n",
    "train.to_csv(\"drive/My Drive/Original_data_GAN_mWOE_privacy_1_70percent_training_dataseat100000.csv\")\n",
    "test.to_csv(\"drive/My Drive/Original_data_GAN_mWOE_privacy_1_30percent_testing_dataseat100000.csv\")"
   ]
  },
  {
   "cell_type": "code",
   "execution_count": null,
   "metadata": {
    "id": "epGJwPLPld5E"
   },
   "outputs": [],
   "source": [
    "from google.colab import files\n",
    "import os, sys\n",
    "file_path = 'drive/My Drive/Colab Notebooks/private-data-generation/'\n",
    "#sys.path.append(file_path)\n",
    "sys.path.append(os.path.abspath(file_path))\n",
    "import sys\n",
    "sys.path.insert(1,'/content/drive/My Drive/Colab Notebooks/private-data-generation/')"
   ]
  },
  {
   "cell_type": "code",
   "execution_count": null,
   "metadata": {
    "id": "JHW66YHgld7k"
   },
   "outputs": [],
   "source": [
    "from models import dp_wgan, pate_gan, ron_gauss"
   ]
  },
  {
   "cell_type": "code",
   "execution_count": null,
   "metadata": {
    "id": "IbNaMuQbleBt"
   },
   "outputs": [],
   "source": [
    "from sklearn.linear_model import LogisticRegression\n",
    "from sklearn.ensemble import RandomForestClassifier, GradientBoostingClassifier, BaggingRegressor\n",
    "from sklearn.neural_network import MLPClassifier, MLPRegressor\n",
    "from sklearn.neighbors import KNeighborsClassifier\n",
    "from sklearn import svm\n",
    "from sklearn.tree import DecisionTreeClassifier\n",
    "from sklearn.linear_model import Ridge, Lasso, ElasticNet\n",
    "from sklearn.naive_bayes import GaussianNB\n",
    "from sklearn.metrics import roc_auc_score, mean_squared_error\n",
    "from sklearn import preprocessing\n",
    "from scipy.special import expit\n",
    "from models import dp_wgan, pate_gan, ron_gauss\n",
    "from models.Private_PGM import private_pgm\n",
    "import argparse\n",
    "import numpy as np\n",
    "import pandas as pd\n",
    "import collections\n",
    "import os"
   ]
  },
  {
   "cell_type": "code",
   "execution_count": null,
   "metadata": {
    "id": "4rUa1LRmleGm"
   },
   "outputs": [],
   "source": [
    "class  Class_opt:\n",
    "    \"This is a person class\"\n",
    "    categorical = False\n",
    "    model='dp-wgan'\n",
    "    target_epsilon=80\n",
    "    target_delta=0.8\n",
    "    downstream_task=\"classification\"\n",
    "    target_variable='status'\n",
    "    batch_size=64\n",
    "    micro_batch_size=8\n",
    "    clamp_lower=0.01\n",
    "    clamp_upper=0.01\n",
    "    clip_coeff=0.1\n",
    "    sigma=2.0\n",
    "    num_epochs=50\n",
    "    enable_privacy=0\n",
    "\n",
    "\n",
    "\n",
    "\n",
    "opt = Class_opt()\n",
    "opt.target_variable='churn'\n",
    "opt.categorical = True\n",
    "opt.model='dp-wgan'\n",
    "opt.target_epsilon=10\n",
    "opt.target_delta=0.1\n",
    "opt.batch_size=64\n",
    "opt.micro_batch_size=8\n",
    "opt.clamp_lower=0.01\n",
    "opt.clamp_upper=0.01\n",
    "opt.clip_coeff=0.1\n",
    "opt.sigma=0.8\n",
    "opt.num_epochs=100\n",
    "opt.enable_privacy=0\n",
    "\n",
    "opt.downstream_task=\"classification\""
   ]
  },
  {
   "cell_type": "code",
   "execution_count": null,
   "metadata": {
    "id": "l699EcuKleJg"
   },
   "outputs": [],
   "source": [
    "data_columns = [col for col in train.columns if col != opt.target_variable]"
   ]
  },
  {
   "cell_type": "code",
   "execution_count": null,
   "metadata": {
    "colab": {
     "base_uri": "https://localhost:8080/"
    },
    "id": "Urf-hAhrleL0",
    "outputId": "1a760bf8-3f61-4053-c711-a87700ae30ae"
   },
   "outputs": [
    {
     "data": {
      "text/plain": [
       "array([0.50581429, 0.49418571])"
      ]
     },
     "execution_count": 11,
     "metadata": {},
     "output_type": "execute_result"
    }
   ],
   "source": [
    "class_ratios = train[opt.target_variable].sort_values().groupby(train[opt.target_variable]).size().values/train.shape[0]\n",
    "class_ratios"
   ]
  },
  {
   "cell_type": "code",
   "execution_count": null,
   "metadata": {
    "id": "4IohJs9KleOG"
   },
   "outputs": [],
   "source": [
    "X_train = np.nan_to_num(train.drop([opt.target_variable], axis=1).values)\n",
    "y_train = np.nan_to_num(train[opt.target_variable].values)\n",
    "X_test = np.nan_to_num(test.drop([opt.target_variable], axis=1).values)\n",
    "y_test = np.nan_to_num(test[opt.target_variable].values)"
   ]
  },
  {
   "cell_type": "code",
   "execution_count": null,
   "metadata": {
    "id": "VBhzyo1dleQ1"
   },
   "outputs": [],
   "source": [
    "#Normalized the data\n",
    "X_train = expit(X_train)\n",
    "X_test = expit(X_test)"
   ]
  },
  {
   "cell_type": "code",
   "execution_count": null,
   "metadata": {
    "id": "j4CkWJApleTS"
   },
   "outputs": [],
   "source": [
    "input_dim = X_train.shape[1]\n",
    "z_dim = int(input_dim / 4 + 1) if input_dim % 4 == 0 else int(input_dim / 4)\n",
    "\n",
    "Hyperparams = collections.namedtuple('Hyperarams','batch_size micro_batch_size clamp_lower clamp_upper clip_coeff sigma class_ratios lr num_epochs')\n",
    "Hyperparams.__new__.__defaults__ = (None, None, None, None, None, None, None, None, None)"
   ]
  },
  {
   "cell_type": "code",
   "execution_count": null,
   "metadata": {
    "colab": {
     "base_uri": "https://localhost:8080/"
    },
    "id": "60OqCIPtleV5",
    "outputId": "c668f866-f8f6-4594-d17f-3013dcf960e0"
   },
   "outputs": [
    {
     "name": "stdout",
     "output_type": "stream",
     "text": [
      "Epoch : 1 Loss D real :  0.38537050021964536 Loss D fake :  0.012192499584767778 Loss G :  0.013167857593665198 Epsilon spent :  0\n",
      "Epoch : 2 Loss D real :  0.3838123062494659 Loss D fake :  0.01129775176076679 Loss G :  0.010658302746243995 Epsilon spent :  0\n",
      "Epoch : 3 Loss D real :  0.3837396519001559 Loss D fake :  0.01 Loss G :  0.01 Epsilon spent :  0\n",
      "Epoch : 4 Loss D real :  0.38735499244692023 Loss D fake :  0.01 Loss G :  0.01 Epsilon spent :  0\n",
      "Epoch : 5 Loss D real :  0.3838737204318024 Loss D fake :  0.01 Loss G :  0.01 Epsilon spent :  0\n",
      "Epoch : 6 Loss D real :  0.38560550807877175 Loss D fake :  0.01 Loss G :  0.01 Epsilon spent :  0\n",
      "Epoch : 7 Loss D real :  0.39032427228008304 Loss D fake :  0.01 Loss G :  0.01 Epsilon spent :  0\n",
      "Epoch : 8 Loss D real :  0.38840600461725705 Loss D fake :  0.01 Loss G :  0.01 Epsilon spent :  0\n",
      "Epoch : 9 Loss D real :  0.3834165057604836 Loss D fake :  0.01 Loss G :  0.01 Epsilon spent :  0\n",
      "Epoch : 10 Loss D real :  0.37829425603425976 Loss D fake :  0.01 Loss G :  0.01 Epsilon spent :  0\n",
      "Epoch : 11 Loss D real :  0.38346325819225946 Loss D fake :  0.01 Loss G :  0.01 Epsilon spent :  0\n",
      "Epoch : 12 Loss D real :  0.38316126754011537 Loss D fake :  0.01 Loss G :  0.01 Epsilon spent :  0\n",
      "Epoch : 13 Loss D real :  0.3899801510617631 Loss D fake :  0.01 Loss G :  0.01 Epsilon spent :  0\n",
      "Epoch : 14 Loss D real :  0.3875181961764259 Loss D fake :  0.01 Loss G :  0.01 Epsilon spent :  0\n",
      "Epoch : 15 Loss D real :  0.38691146825311123 Loss D fake :  0.01 Loss G :  0.01 Epsilon spent :  0\n",
      "Epoch : 16 Loss D real :  0.3890626187907582 Loss D fake :  0.01 Loss G :  0.01 Epsilon spent :  0\n",
      "Epoch : 17 Loss D real :  0.38755259261586766 Loss D fake :  0.01 Loss G :  0.01 Epsilon spent :  0\n",
      "Epoch : 18 Loss D real :  0.3918752412342008 Loss D fake :  0.01 Loss G :  0.01 Epsilon spent :  0\n",
      "Epoch : 19 Loss D real :  0.38421132676962033 Loss D fake :  0.01 Loss G :  0.01 Epsilon spent :  0\n",
      "Epoch : 20 Loss D real :  0.38637413648944763 Loss D fake :  0.01 Loss G :  0.01 Epsilon spent :  0\n",
      "Epoch : 21 Loss D real :  0.38153137000985815 Loss D fake :  0.01 Loss G :  0.01 Epsilon spent :  0\n",
      "Epoch : 22 Loss D real :  0.3814092239659318 Loss D fake :  0.01 Loss G :  0.01 Epsilon spent :  0\n",
      "Epoch : 23 Loss D real :  0.38768540202532586 Loss D fake :  0.01 Loss G :  0.01 Epsilon spent :  0\n",
      "Epoch : 24 Loss D real :  0.38290181723266503 Loss D fake :  0.01 Loss G :  0.01 Epsilon spent :  0\n",
      "Epoch : 25 Loss D real :  0.38820842355338825 Loss D fake :  0.01 Loss G :  0.01 Epsilon spent :  0\n",
      "Epoch : 26 Loss D real :  0.3832067543303049 Loss D fake :  0.01 Loss G :  0.01 Epsilon spent :  0\n",
      "Epoch : 27 Loss D real :  0.3908735289346635 Loss D fake :  0.01 Loss G :  0.01 Epsilon spent :  0\n",
      "Epoch : 28 Loss D real :  0.38199185001848635 Loss D fake :  0.01 Loss G :  0.01 Epsilon spent :  0\n",
      "Epoch : 29 Loss D real :  0.3817879225309585 Loss D fake :  0.01 Loss G :  0.01 Epsilon spent :  0\n",
      "Epoch : 30 Loss D real :  0.3865588456854468 Loss D fake :  0.01 Loss G :  0.01 Epsilon spent :  0\n",
      "Epoch : 31 Loss D real :  0.3845034135319246 Loss D fake :  0.01 Loss G :  0.01 Epsilon spent :  0\n",
      "Epoch : 32 Loss D real :  0.3853863375092775 Loss D fake :  0.01 Loss G :  0.01 Epsilon spent :  0\n",
      "Epoch : 33 Loss D real :  0.3913325014995621 Loss D fake :  0.01 Loss G :  0.01 Epsilon spent :  0\n",
      "Epoch : 34 Loss D real :  0.385332577752589 Loss D fake :  0.01 Loss G :  0.01 Epsilon spent :  0\n",
      "Epoch : 35 Loss D real :  0.3897639299635398 Loss D fake :  0.01 Loss G :  0.01 Epsilon spent :  0\n",
      "Epoch : 36 Loss D real :  0.3886324379334626 Loss D fake :  0.01 Loss G :  0.01 Epsilon spent :  0\n",
      "Epoch : 37 Loss D real :  0.3911378302703462 Loss D fake :  0.01 Loss G :  0.01 Epsilon spent :  0\n",
      "Epoch : 38 Loss D real :  0.38505963531712617 Loss D fake :  0.01 Loss G :  0.01 Epsilon spent :  0\n",
      "Epoch : 39 Loss D real :  0.3850358307834799 Loss D fake :  0.01 Loss G :  0.01 Epsilon spent :  0\n",
      "Epoch : 40 Loss D real :  0.38525394318162665 Loss D fake :  0.01 Loss G :  0.01 Epsilon spent :  0\n",
      "Epoch : 41 Loss D real :  0.38755831607047275 Loss D fake :  0.01 Loss G :  0.01 Epsilon spent :  0\n",
      "Epoch : 42 Loss D real :  0.38041123095608687 Loss D fake :  0.01 Loss G :  0.01 Epsilon spent :  0\n",
      "Epoch : 43 Loss D real :  0.38367127228782777 Loss D fake :  0.01 Loss G :  0.01 Epsilon spent :  0\n",
      "Epoch : 44 Loss D real :  0.37912432147216385 Loss D fake :  0.01 Loss G :  0.01 Epsilon spent :  0\n",
      "Epoch : 45 Loss D real :  0.3865203975011906 Loss D fake :  0.01 Loss G :  0.01 Epsilon spent :  0\n",
      "Epoch : 46 Loss D real :  0.3858493708954721 Loss D fake :  0.01 Loss G :  0.01 Epsilon spent :  0\n",
      "Epoch : 47 Loss D real :  0.38324388332901066 Loss D fake :  0.01 Loss G :  0.01 Epsilon spent :  0\n",
      "Epoch : 48 Loss D real :  0.3825091747759533 Loss D fake :  0.01 Loss G :  0.01 Epsilon spent :  0\n",
      "Epoch : 49 Loss D real :  0.3864565676645755 Loss D fake :  0.01 Loss G :  0.01 Epsilon spent :  0\n",
      "Epoch : 50 Loss D real :  0.38163361516143 Loss D fake :  0.01 Loss G :  0.01 Epsilon spent :  0\n",
      "Epoch : 51 Loss D real :  0.38789019499678024 Loss D fake :  0.01 Loss G :  0.01 Epsilon spent :  0\n",
      "Epoch : 52 Loss D real :  0.37861741032295093 Loss D fake :  0.01 Loss G :  0.01 Epsilon spent :  0\n",
      "Epoch : 53 Loss D real :  0.38642807596836726 Loss D fake :  0.01 Loss G :  0.01 Epsilon spent :  0\n",
      "Epoch : 54 Loss D real :  0.3846814100270669 Loss D fake :  0.01 Loss G :  0.01 Epsilon spent :  0\n",
      "Epoch : 55 Loss D real :  0.38879807097183067 Loss D fake :  0.01 Loss G :  0.01 Epsilon spent :  0\n",
      "Epoch : 56 Loss D real :  0.3855159621582649 Loss D fake :  0.01 Loss G :  0.01 Epsilon spent :  0\n",
      "Epoch : 57 Loss D real :  0.38807980777661283 Loss D fake :  0.01 Loss G :  0.01 Epsilon spent :  0\n",
      "Epoch : 58 Loss D real :  0.3866218643504107 Loss D fake :  0.01 Loss G :  0.01 Epsilon spent :  0\n",
      "Epoch : 59 Loss D real :  0.3832062691778478 Loss D fake :  0.01 Loss G :  0.01 Epsilon spent :  0\n",
      "Epoch : 60 Loss D real :  0.388341527411894 Loss D fake :  0.01 Loss G :  0.01 Epsilon spent :  0\n",
      "Epoch : 61 Loss D real :  0.3882194283365057 Loss D fake :  0.01 Loss G :  0.01 Epsilon spent :  0\n",
      "Epoch : 62 Loss D real :  0.38932061889429936 Loss D fake :  0.01 Loss G :  0.01 Epsilon spent :  0\n",
      "Epoch : 63 Loss D real :  0.3836871759564878 Loss D fake :  0.01 Loss G :  0.01 Epsilon spent :  0\n",
      "Epoch : 64 Loss D real :  0.3837866992266271 Loss D fake :  0.01 Loss G :  0.01 Epsilon spent :  0\n",
      "Epoch : 65 Loss D real :  0.3810840972102054 Loss D fake :  0.01 Loss G :  0.01 Epsilon spent :  0\n",
      "Epoch : 66 Loss D real :  0.3887053816788478 Loss D fake :  0.01 Loss G :  0.01 Epsilon spent :  0\n",
      "Epoch : 67 Loss D real :  0.38638730487522094 Loss D fake :  0.01 Loss G :  0.01 Epsilon spent :  0\n",
      "Epoch : 68 Loss D real :  0.38850010102336185 Loss D fake :  0.01 Loss G :  0.01 Epsilon spent :  0\n",
      "Epoch : 69 Loss D real :  0.3863137940867456 Loss D fake :  0.01 Loss G :  0.01 Epsilon spent :  0\n",
      "Epoch : 70 Loss D real :  0.38425905226702284 Loss D fake :  0.01 Loss G :  0.01 Epsilon spent :  0\n",
      "Epoch : 71 Loss D real :  0.38265716201182226 Loss D fake :  0.01 Loss G :  0.01 Epsilon spent :  0\n",
      "Epoch : 72 Loss D real :  0.3871823613047317 Loss D fake :  0.01 Loss G :  0.01 Epsilon spent :  0\n",
      "Epoch : 73 Loss D real :  0.38572689186142284 Loss D fake :  0.01 Loss G :  0.01 Epsilon spent :  0\n",
      "Epoch : 74 Loss D real :  0.39179554232307656 Loss D fake :  0.01 Loss G :  0.01 Epsilon spent :  0\n",
      "Epoch : 75 Loss D real :  0.38317126454787137 Loss D fake :  0.01 Loss G :  0.01 Epsilon spent :  0\n",
      "Epoch : 76 Loss D real :  0.39019169034423196 Loss D fake :  0.01 Loss G :  0.01 Epsilon spent :  0\n",
      "Epoch : 77 Loss D real :  0.38585490522211485 Loss D fake :  0.01 Loss G :  0.01 Epsilon spent :  0\n",
      "Epoch : 78 Loss D real :  0.3875216977043294 Loss D fake :  0.01 Loss G :  0.01 Epsilon spent :  0\n",
      "Epoch : 79 Loss D real :  0.38375684236306373 Loss D fake :  0.01 Loss G :  0.01 Epsilon spent :  0\n",
      "Epoch : 80 Loss D real :  0.3873097856293531 Loss D fake :  0.01 Loss G :  0.01 Epsilon spent :  0\n",
      "Epoch : 81 Loss D real :  0.38396051916191587 Loss D fake :  0.01 Loss G :  0.01 Epsilon spent :  0\n",
      "Epoch : 82 Loss D real :  0.39025418233980824 Loss D fake :  0.01 Loss G :  0.01 Epsilon spent :  0\n",
      "Epoch : 83 Loss D real :  0.3850232818481708 Loss D fake :  0.01 Loss G :  0.01 Epsilon spent :  0\n",
      "Epoch : 84 Loss D real :  0.38289027709226253 Loss D fake :  0.01 Loss G :  0.01 Epsilon spent :  0\n",
      "Epoch : 85 Loss D real :  0.3898692131941595 Loss D fake :  0.01 Loss G :  0.01 Epsilon spent :  0\n",
      "Epoch : 86 Loss D real :  0.3848594305959596 Loss D fake :  0.01 Loss G :  0.01 Epsilon spent :  0\n",
      "Epoch : 87 Loss D real :  0.3877134442149073 Loss D fake :  0.01 Loss G :  0.01 Epsilon spent :  0\n",
      "Epoch : 88 Loss D real :  0.38441719836673705 Loss D fake :  0.01 Loss G :  0.01 Epsilon spent :  0\n",
      "Epoch : 89 Loss D real :  0.3834188863427459 Loss D fake :  0.01 Loss G :  0.01 Epsilon spent :  0\n",
      "Epoch : 90 Loss D real :  0.3827323219518933 Loss D fake :  0.01 Loss G :  0.01 Epsilon spent :  0\n",
      "Epoch : 91 Loss D real :  0.38111036213600236 Loss D fake :  0.01 Loss G :  0.01 Epsilon spent :  0\n",
      "Epoch : 92 Loss D real :  0.3831717028319191 Loss D fake :  0.01 Loss G :  0.01 Epsilon spent :  0\n",
      "Epoch : 93 Loss D real :  0.3880523972546815 Loss D fake :  0.01 Loss G :  0.01 Epsilon spent :  0\n",
      "Epoch : 94 Loss D real :  0.38574845984188727 Loss D fake :  0.01 Loss G :  0.01 Epsilon spent :  0\n",
      "Epoch : 95 Loss D real :  0.3872034112093945 Loss D fake :  0.01 Loss G :  0.01 Epsilon spent :  0\n",
      "Epoch : 96 Loss D real :  0.38106312035419887 Loss D fake :  0.01 Loss G :  0.01 Epsilon spent :  0\n",
      "Epoch : 97 Loss D real :  0.38659003232596656 Loss D fake :  0.01 Loss G :  0.01 Epsilon spent :  0\n",
      "Epoch : 98 Loss D real :  0.3907630046836785 Loss D fake :  0.01 Loss G :  0.01 Epsilon spent :  0\n",
      "Epoch : 99 Loss D real :  0.3772086328564286 Loss D fake :  0.01 Loss G :  0.01 Epsilon spent :  0\n",
      "Epoch : 100 Loss D real :  0.3857843768845718 Loss D fake :  0.01 Loss G :  0.01 Epsilon spent :  0\n",
      "Epoch : 101 Loss D real :  0.3880442091409386 Loss D fake :  0.01 Loss G :  0.01 Epsilon spent :  inf\n"
     ]
    }
   ],
   "source": [
    "conditional = (opt.downstream_task == \"classification\")\n",
    "model = dp_wgan.DP_WGAN(input_dim, z_dim, opt.target_epsilon, opt.target_delta, conditional)\n",
    "model.train(X_train, y_train, Hyperparams(batch_size=opt.batch_size, micro_batch_size=opt.micro_batch_size,\n",
    "                                              clamp_lower=opt.clamp_lower, clamp_upper=opt.clamp_upper,\n",
    "                                              clip_coeff=opt.clip_coeff, sigma=opt.sigma, class_ratios=class_ratios, lr=\n",
    "                                              5e-5, num_epochs=opt.num_epochs), private=opt.enable_privacy)\n",
    "\n",
    "torch.save(model, 'drive/My Drive/checkpoint_GAN_MWOE_churn_2-70percent.pth')"
   ]
  },
  {
   "cell_type": "code",
   "execution_count": null,
   "metadata": {
    "id": "TYve-c-pleYH"
   },
   "outputs": [],
   "source": []
  },
  {
   "cell_type": "code",
   "execution_count": null,
   "metadata": {
    "colab": {
     "base_uri": "https://localhost:8080/"
    },
    "id": "fWbEXnPSleag",
    "outputId": "97d51b83-7eb5-4e5b-9aa4-96dc21f7df10"
   },
   "outputs": [
    {
     "name": "stdout",
     "output_type": "stream",
     "text": [
      "Saved synthetic data at :  drive/My Drive/synthetic_data_GAN_mWOE_Epsilon90_70percent_training_dataset100000_set0.csv\n"
     ]
    }
   ],
   "source": [
    "if opt.model == 'imle' or opt.model == 'dp-wgan' or opt.model == 'pate-gan':\n",
    "  syn_data = model.generate(X_train.shape[0], class_ratios)\n",
    "  X_syn, y_syn = syn_data[:, :-1], syn_data[:, -1]\n",
    "\n",
    "X_syn_df = pd.DataFrame(data=X_syn, columns=data_columns)\n",
    "y_syn_df = pd.DataFrame(data=y_syn, columns=[opt.target_variable])\n",
    "\n",
    "syn_df = pd.concat([X_syn_df, y_syn_df], axis=1)\n",
    "\n",
    "syn_df.to_csv(\"drive/My Drive/synthetic_data_GAN_mWOE_Epsilon10_70percent_training_dataset100000_set_15.csv\")\n",
    "print(\"Saved synthetic data at : \", \"drive/My Drive/synthetic_data_GAN_mWOE_Epsilon90_70percent_training_dataset100000_set0.csv\")"
   ]
  },
  {
   "cell_type": "code",
   "execution_count": null,
   "metadata": {
    "id": "OJcphDubMR-1"
   },
   "outputs": [],
   "source": []
  }
 ],
 "metadata": {
  "accelerator": "GPU",
  "colab": {
   "gpuType": "T4",
   "provenance": []
  },
  "kernelspec": {
   "display_name": "Python 3 (ipykernel)",
   "language": "python",
   "name": "python3"
  },
  "language_info": {
   "codemirror_mode": {
    "name": "ipython",
    "version": 3
   },
   "file_extension": ".py",
   "mimetype": "text/x-python",
   "name": "python",
   "nbconvert_exporter": "python",
   "pygments_lexer": "ipython3",
   "version": "3.11.5"
  }
 },
 "nbformat": 4,
 "nbformat_minor": 1
}
