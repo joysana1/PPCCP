{
  "nbformat": 4,
  "nbformat_minor": 0,
  "metadata": {
    "colab": {
      "provenance": []
    },
    "kernelspec": {
      "name": "python3",
      "display_name": "Python 3"
    },
    "language_info": {
      "name": "python"
    },
    "accelerator": "GPU"
  },
  "cells": [
    {
      "cell_type": "code",
      "metadata": {
        "id": "C71ntYux94gE"
      },
      "source": [
        "from matplotlib import pyplot as plt\n",
        "import torch\n",
        "from torch import nn\n",
        "from torch import optim\n",
        "import torch.nn.functional as F\n",
        "from torchvision import datasets, transforms\n",
        "import pandas as pd\n"
      ],
      "execution_count": null,
      "outputs": []
    },
    {
      "cell_type": "code",
      "metadata": {
        "id": "5EJOdC3y_LM5"
      },
      "source": [],
      "execution_count": null,
      "outputs": []
    },
    {
      "cell_type": "code",
      "metadata": {
        "colab": {
          "base_uri": "https://localhost:8080/"
        },
        "id": "a93dtQn5-BQj",
        "outputId": "32aefb5c-3441-4517-e76b-0c6bad65e7ff"
      },
      "source": [
        "from google.colab import drive\n",
        "drive.mount('/content/drive')"
      ],
      "execution_count": null,
      "outputs": [
        {
          "output_type": "stream",
          "name": "stdout",
          "text": [
            "Mounted at /content/drive\n"
          ]
        }
      ]
    },
    {
      "cell_type": "code",
      "metadata": {
        "id": "0NZ2qGdL-DkB"
      },
      "source": [
        "import pandas as pd\n",
        "df=pd.read_csv('drive/My Drive/churn-data-3333.csv')"
      ],
      "execution_count": null,
      "outputs": []
    },
    {
      "cell_type": "code",
      "metadata": {
        "id": "ZXeWn2tZ-EWx"
      },
      "source": [
        "num_df = df.select_dtypes(include=['float64', 'int64']).copy()\n",
        "cat_df = df.select_dtypes(include=['object']).copy()\n",
        "\n",
        "# Categorical boolean mask\n",
        "categorical_feature_mask = cat_df.dtypes==object\n",
        "# filter categorical columns using mask and turn it into a list\n",
        "categorical_cols = cat_df.columns[categorical_feature_mask].tolist()\n",
        "\n",
        "import numpy as np\n",
        "#conData=np.log(0.00001 + 1)\n",
        "conData=0\n",
        "cat_df=cat_df.fillna(conData)\n",
        "num_df=num_df.fillna(conData)\n",
        "cat_df=cat_df.astype(str)\n",
        "from sklearn.preprocessing import LabelEncoder\n",
        "le = LabelEncoder()\n",
        "cat_df[categorical_cols] = cat_df[categorical_cols].apply(lambda col: le.fit_transform(col))\n",
        "\n",
        "#cat_df[categorical_cols].head(10)\n",
        "\n",
        "\n",
        "churn=cat_df['churn']\n",
        "cat_df=cat_df.drop(['churn'], axis=1)\n",
        "cat_df=cat_df.drop(['phone number'], axis=1)\n",
        "\n",
        "\n",
        "num_df=num_df.fillna(conData)\n",
        "\n",
        "result_df = pd.concat([num_df, cat_df], axis=1)\n",
        "np.nan_to_num(result_df)\n",
        "\n",
        "result_df_op=result_df\n",
        "#result_df_op=result_df_op.drop(['churn'], axis=1)\n",
        "#result_df_op=np.nan_to_num(result_df_op)\n",
        "\n",
        "X=result_df_op\n",
        "#y=result_df['churn']\n",
        "y=churn\n",
        "\n"
      ],
      "execution_count": null,
      "outputs": []
    },
    {
      "cell_type": "code",
      "metadata": {
        "id": "pArX1vH_-Phh"
      },
      "source": [
        "from sklearn.model_selection import train_test_split\n",
        "X_train, X_test, y_train, y_test = train_test_split(X, y, test_size=0.3, random_state=42)\n",
        "train=pd.concat([X_train, y_train], axis=1)\n",
        "test=pd.concat([X_test, y_test], axis=1)\n",
        "#train=pd.concat([X, y], axis=1)\n",
        "#test=pd.concat([X, y], axis=1)\n",
        "X_train=X\n",
        "X_test=X\n",
        "y_train=y\n",
        "y_test=y"
      ],
      "execution_count": null,
      "outputs": []
    },
    {
      "cell_type": "code",
      "metadata": {
        "id": "vlzrGsdz-cGg"
      },
      "source": [
        "from google.colab import files\n",
        "import os, sys\n",
        "file_path = 'drive/My Drive/Colab Notebooks/private-data-generation/'\n",
        "#sys.path.append(file_path)\n",
        "sys.path.append(os.path.abspath(file_path))\n",
        "import sys\n",
        "sys.path.insert(1,'/content/drive/My Drive/Colab Notebooks/private-data-generation/')"
      ],
      "execution_count": null,
      "outputs": []
    },
    {
      "cell_type": "code",
      "metadata": {
        "id": "X_XQ2M7H-eM_"
      },
      "source": [
        "from models import dp_wgan, pate_gan, ron_gauss"
      ],
      "execution_count": null,
      "outputs": []
    },
    {
      "cell_type": "code",
      "metadata": {
        "id": "B3l37MCS-iBg"
      },
      "source": [
        "from sklearn.linear_model import LogisticRegression\n",
        "from sklearn.ensemble import RandomForestClassifier, GradientBoostingClassifier, BaggingRegressor\n",
        "from sklearn.neural_network import MLPClassifier, MLPRegressor\n",
        "from sklearn.neighbors import KNeighborsClassifier\n",
        "from sklearn import svm\n",
        "from sklearn.tree import DecisionTreeClassifier\n",
        "from sklearn.linear_model import Ridge, Lasso, ElasticNet\n",
        "from sklearn.naive_bayes import GaussianNB\n",
        "from sklearn.metrics import roc_auc_score, mean_squared_error\n",
        "from sklearn import preprocessing\n",
        "from scipy.special import expit\n",
        "from models import dp_wgan, pate_gan, ron_gauss\n",
        "from models.Private_PGM import private_pgm\n",
        "import argparse\n",
        "import numpy as np\n",
        "import pandas as pd\n",
        "import collections\n",
        "import os"
      ],
      "execution_count": null,
      "outputs": []
    },
    {
      "cell_type": "code",
      "metadata": {
        "id": "NgpckIHs-eTf"
      },
      "source": [
        "class  Class_opt:\n",
        "    \"This is a person class\"\n",
        "    categorical = False\n",
        "    model='dp-wgan'\n",
        "    target_epsilon=80\n",
        "    target_delta=0.8\n",
        "    downstream_task=\"classification\"\n",
        "    target_variable='status'\n",
        "    batch_size=64\n",
        "    micro_batch_size=8\n",
        "    clamp_lower=0.01\n",
        "    clamp_upper=0.01\n",
        "    clip_coeff=0.1\n",
        "    sigma=2.0\n",
        "    num_epochs=50\n",
        "    enable_privacy=0\n",
        "\n",
        "\n",
        "\n",
        "\n",
        "opt = Class_opt()\n",
        "opt.target_variable='churn'\n",
        "opt.categorical = True\n",
        "opt.model='dp-wgan'\n",
        "opt.target_epsilon=10\n",
        "opt.target_delta=0.1\n",
        "opt.batch_size=64\n",
        "opt.micro_batch_size=8\n",
        "opt.clamp_lower=0.01\n",
        "opt.clamp_upper=0.01\n",
        "opt.clip_coeff=0.1\n",
        "opt.sigma=0.8\n",
        "opt.num_epochs=200\n",
        "opt.enable_privacy=1\n",
        "\n",
        "opt.downstream_task=\"classification\""
      ],
      "execution_count": null,
      "outputs": []
    },
    {
      "cell_type": "code",
      "metadata": {
        "id": "YTiMgAjc-eWf"
      },
      "source": [
        "data_columns = [col for col in train.columns if col != opt.target_variable]"
      ],
      "execution_count": null,
      "outputs": []
    },
    {
      "cell_type": "code",
      "metadata": {
        "colab": {
          "base_uri": "https://localhost:8080/"
        },
        "id": "72DPHCJp-eZS",
        "outputId": "31aa370b-b137-4cc6-81d1-fbf5803d6745"
      },
      "source": [
        "class_ratios = train[opt.target_variable].sort_values().groupby(train[opt.target_variable]).size().values/train.shape[0]\n",
        "class_ratios"
      ],
      "execution_count": null,
      "outputs": [
        {
          "output_type": "execute_result",
          "data": {
            "text/plain": [
              "array([0.85426489, 0.14573511])"
            ]
          },
          "metadata": {},
          "execution_count": 11
        }
      ]
    },
    {
      "cell_type": "code",
      "metadata": {
        "id": "30XOtNBv-ebg"
      },
      "source": [
        "X_train = np.nan_to_num(train.drop([opt.target_variable], axis=1).values)\n",
        "y_train = np.nan_to_num(train[opt.target_variable].values)\n",
        "X_test = np.nan_to_num(test.drop([opt.target_variable], axis=1).values)\n",
        "y_test = np.nan_to_num(test[opt.target_variable].values)"
      ],
      "execution_count": null,
      "outputs": []
    },
    {
      "cell_type": "code",
      "metadata": {
        "id": "j-fsH8zI-ed9"
      },
      "source": [
        "#Normalized the data\n",
        "X_train = expit(X_train)\n",
        "X_test = expit(X_test)"
      ],
      "execution_count": null,
      "outputs": []
    },
    {
      "cell_type": "code",
      "metadata": {
        "id": "0L13SnRt-ei9"
      },
      "source": [
        "input_dim = X_train.shape[1]\n",
        "z_dim = int(input_dim / 4 + 1) if input_dim % 4 == 0 else int(input_dim / 4)\n",
        "\n",
        "Hyperparams = collections.namedtuple('Hyperarams','batch_size micro_batch_size clamp_lower clamp_upper clip_coeff sigma class_ratios lr num_epochs')\n",
        "Hyperparams.__new__.__defaults__ = (None, None, None, None, None, None, None, None, None)"
      ],
      "execution_count": null,
      "outputs": []
    },
    {
      "cell_type": "code",
      "metadata": {
        "colab": {
          "base_uri": "https://localhost:8080/"
        },
        "id": "Uz2Y-lDN-elZ",
        "outputId": "98a5d709-60d5-4f2b-a292-47734d786981"
      },
      "source": [
        "conditional = (opt.downstream_task == \"classification\")\n",
        "model = dp_wgan.DP_WGAN(input_dim, z_dim, opt.target_epsilon, opt.target_delta, conditional)\n",
        "model.train(X_train, y_train, Hyperparams(batch_size=opt.batch_size, micro_batch_size=opt.micro_batch_size,\n",
        "                                              clamp_lower=opt.clamp_lower, clamp_upper=opt.clamp_upper,\n",
        "                                              clip_coeff=opt.clip_coeff, sigma=opt.sigma, class_ratios=class_ratios, lr=\n",
        "                                              5e-5, num_epochs=opt.num_epochs), private=opt.enable_privacy)\n",
        "\n",
        "torch.save(model, 'drive/My Drive/chkp_GAN_MWOE_privacy_1_70-vs-30_dataset3333.pth')"
      ],
      "execution_count": null,
      "outputs": [
        {
          "output_type": "stream",
          "name": "stdout",
          "text": [
            "Epoch : 1 Loss D real :  0.026622602264132742 Loss D fake :  0.010916086580844538 Loss G :  0.011101581368358803 Epsilon spent :  4.219200930360318\n",
            "Epoch : 2 Loss D real :  0.026553565666404103 Loss D fake :  0.010770680155900457 Loss G :  0.010952642903704422 Epsilon spent :  4.6007600390638945\n",
            "Epoch : 3 Loss D real :  0.026644799748791668 Loss D fake :  0.010909441259536256 Loss G :  0.010999148067228586 Epsilon spent :  4.98231914776747\n",
            "Epoch : 4 Loss D real :  0.02659486628575705 Loss D fake :  0.010966114517138605 Loss G :  0.011030759180744115 Epsilon spent :  5.363878256471046\n",
            "Epoch : 5 Loss D real :  0.026827310827977863 Loss D fake :  0.01082840144463874 Loss G :  0.01092543188164361 Epsilon spent :  5.745437365174622\n",
            "Epoch : 6 Loss D real :  0.02670233867086363 Loss D fake :  0.010856446588374587 Loss G :  0.01091548113554381 Epsilon spent :  6.126996473878197\n",
            "Epoch : 7 Loss D real :  0.026499412077766897 Loss D fake :  0.010949788168767087 Loss G :  0.010889967429272174 Epsilon spent :  6.508555582581774\n",
            "Epoch : 8 Loss D real :  0.026690363747384684 Loss D fake :  0.010918708424287134 Loss G :  0.010930968128508502 Epsilon spent :  6.8901146912853495\n",
            "Epoch : 9 Loss D real :  0.026754036809272647 Loss D fake :  0.010820869402727674 Loss G :  0.010959910232083191 Epsilon spent :  7.271673799988926\n",
            "Epoch : 10 Loss D real :  0.026522434027681743 Loss D fake :  0.010856838042086689 Loss G :  0.010888702690041649 Epsilon spent :  7.653232908692502\n",
            "Epoch : 11 Loss D real :  0.026532600361269157 Loss D fake :  0.010773831309778747 Loss G :  0.010936816692295698 Epsilon spent :  7.882131010664212\n",
            "Epoch : 12 Loss D real :  0.026586835191080897 Loss D fake :  0.010864230249428933 Loss G :  0.010938738695161763 Epsilon spent :  8.075373581407765\n",
            "Epoch : 13 Loss D real :  0.02668268495253797 Loss D fake :  0.010768896623205997 Loss G :  0.010803606250771564 Epsilon spent :  8.26861615215132\n",
            "Epoch : 14 Loss D real :  0.02658046983497142 Loss D fake :  0.010746909705353526 Loss G :  0.01094514372394399 Epsilon spent :  8.461858722894874\n",
            "Epoch : 15 Loss D real :  0.026664431697175982 Loss D fake :  0.010772687534102227 Loss G :  0.01084790538508493 Epsilon spent :  8.65510129363843\n",
            "Epoch : 16 Loss D real :  0.02652273883291965 Loss D fake :  0.01075963713804733 Loss G :  0.010813396975837816 Epsilon spent :  8.848343864381983\n",
            "Epoch : 17 Loss D real :  0.02669374027134385 Loss D fake :  0.010705677562754142 Loss G :  0.010798431232953652 Epsilon spent :  9.041586435125538\n",
            "Epoch : 18 Loss D real :  0.02661188690452351 Loss D fake :  0.010912057909710445 Loss G :  0.010805551501787906 Epsilon spent :  9.234829005869091\n",
            "Epoch : 19 Loss D real :  0.026798854500506765 Loss D fake :  0.010803205414517795 Loss G :  0.01077301077919831 Epsilon spent :  9.428071576612647\n",
            "Epoch : 20 Loss D real :  0.026883642395944037 Loss D fake :  0.010725615104041596 Loss G :  0.010817414452531298 Epsilon spent :  9.6213141473562\n",
            "Epoch : 21 Loss D real :  0.026600689002078664 Loss D fake :  0.010708448968385749 Loss G :  0.01081820373254147 Epsilon spent :  9.814556718099755\n",
            "Epoch : 22 Loss D real :  0.02677883504638607 Loss D fake :  0.010584825831362738 Loss G :  0.010761092683389999 Epsilon spent :  10.007799288843309\n"
          ]
        }
      ]
    },
    {
      "cell_type": "code",
      "metadata": {
        "id": "CgmVMwIs-eni"
      },
      "source": [
        "if opt.model == 'imle' or opt.model == 'dp-wgan' or opt.model == 'pate-gan':\n",
        "    syn_data = model.generate(X_train.shape[0], class_ratios)\n",
        "    X_syn, y_syn = syn_data[:, :-1], syn_data[:, -1]"
      ],
      "execution_count": null,
      "outputs": []
    },
    {
      "cell_type": "code",
      "metadata": {
        "id": "LVHDjtpZ-eqP",
        "colab": {
          "base_uri": "https://localhost:8080/"
        },
        "outputId": "c8e58a9c-bcb4-48a5-cdd7-7bf6dc7d7ed9"
      },
      "source": [
        "X_syn_df = pd.DataFrame(data=X_syn, columns=data_columns)\n",
        "y_syn_df = pd.DataFrame(data=y_syn, columns=[opt.target_variable])\n",
        "\n",
        "syn_df = pd.concat([X_syn_df, y_syn_df], axis=1)\n",
        "syn_df.to_csv(\"drive/My Drive/synthetic_data_GAN_mWOE_privacy_1_70percent_training_dataset3333.csv\")\n",
        "test.to_csv(\"drive/My Drive/Original_data_GAN_mWOE_privacy_1_30percent_testing_dataset3333.csv\")\n",
        "print(\"Saved synthetic data at : \", \"drive/My Drive/synthetic_data_GAN_mWOE_privacy_1_70-percent-traning_dataset3333.csv\")"
      ],
      "execution_count": null,
      "outputs": [
        {
          "output_type": "stream",
          "name": "stdout",
          "text": [
            "Saved synthetic data at :  drive/My Drive/synthetic_data_GAN_mWOE_privacy_1_70-percent-traning_dataset3333.csv\n"
          ]
        }
      ]
    },
    {
      "cell_type": "code",
      "metadata": {
        "id": "jDFf_cSc-evW",
        "colab": {
          "base_uri": "https://localhost:8080/"
        },
        "outputId": "3ca3184c-7711-4a24-f290-5cb471815505"
      },
      "source": [
        "# Creating downstream learners\n",
        "learners = []\n",
        "if opt.downstream_task == \"classification\":\n",
        "    names = ['LR', 'Random Forest', 'Neural Network', 'GaussianNB', 'GradientBoostingClassifier', 'DT', 'KNN', 'SVN']\n",
        "\n",
        "    learners.append((LogisticRegression()))\n",
        "    learners.append((RandomForestClassifier()))\n",
        "    learners.append((MLPClassifier(early_stopping=True)))\n",
        "    learners.append((GaussianNB()))\n",
        "    learners.append((GradientBoostingClassifier()))\n",
        "    learners.append(DecisionTreeClassifier())\n",
        "    learners.append((KNeighborsClassifier()))\n",
        "    #learners.append((svm.SVC()))\n",
        "\n",
        "    print(\"AUC scores of downstream classifiers on test data : \")\n",
        "    for i in range(0, len(learners)):\n",
        "        score = learners[i].fit(X_syn, y_syn)\n",
        "        #score = learners[i].fit(X_train, y_train)\n",
        "        pred_probs = learners[i].predict_proba(X_test)\n",
        "        auc_score = roc_auc_score(y_test, pred_probs[:, 1])\n",
        "        print('-' * 40)\n",
        "        print('{0}: {1}'.format(names[i], auc_score))"
      ],
      "execution_count": null,
      "outputs": [
        {
          "output_type": "stream",
          "text": [
            "AUC scores of downstream classifiers on test data : \n",
            "----------------------------------------\n",
            "LR: 0.4927009979518731\n",
            "----------------------------------------\n",
            "Random Forest: 0.4883966675098531\n",
            "----------------------------------------\n",
            "Neural Network: 0.42329315958254116\n",
            "----------------------------------------\n",
            "GaussianNB: 0.4860343856843274\n",
            "----------------------------------------\n",
            "GradientBoostingClassifier: 0.5930755358993399\n",
            "----------------------------------------\n",
            "DT: 0.5\n",
            "----------------------------------------\n",
            "KNN: 0.5332677823926366\n"
          ],
          "name": "stdout"
        }
      ]
    },
    {
      "cell_type": "code",
      "metadata": {
        "id": "w_G9KVrg-exy"
      },
      "source": [
        "import numpy as np\n",
        "class WOE_Encoder():\n",
        "    def __init__(self, cols=None, size=None):\n",
        "            self.cols = cols\n",
        "            self.min_samples=1\n",
        "            #self.bins=10000\n",
        "            self.bins=int(size/10)\n",
        "            self._mapping = {}\n",
        "\n",
        "    def WOE_fit(self, X, y):\n",
        "        for col in self.cols:\n",
        "            X[col]=X[col].fillna(-9999)\n",
        "            if (len(np.unique(X[col]))>100):\n",
        "                binned_x = pd.qcut(X[col], self.bins,  duplicates='drop')\n",
        "                d0 = pd.DataFrame({'x': binned_x, 'y':y})\n",
        "            else:\n",
        "                d0 = pd.DataFrame({'x': X[col], 'y': y})\n",
        "            #print (d0)\n",
        "            # Share of positive (resp. negative) labels for each category P(X=X_i | Y=1) (resp. P(X=X_i | Y=0))\n",
        "            #mapping = y.groupby(X[col]).agg(['sum', 'count']).rename({'sum': 'pos'}, axis=1)\n",
        "            mapping = y.groupby(d0[\"x\"]).agg(['sum', 'count']).rename({'sum': 'pos'}, axis=1)\n",
        "            mapping['neg'] = mapping['count'] - mapping['pos']\n",
        "            mapping[['pos', 'neg']] /= mapping[['pos', 'neg']].sum()\n",
        "            # For corner cases, defaulting to WOE = 0 (meaning no info). To avoid division by 0 we use default values.\n",
        "            undef = (mapping['count'] < self.min_samples) | (mapping['pos'] == 0) | (mapping['neg'] == 0)\n",
        "            mapping.loc[undef, ['pos', 'neg']] = -1\n",
        "            # Final step, log of ratio of probabily estimates\n",
        "            mapping['value'] = np.log((mapping['pos'] +0.0001)/ (mapping['neg']+0.0001))\n",
        "            self._mapping[col] = mapping\n",
        "\n",
        "\n",
        "        X_encoded = X.copy(deep=True)\n",
        "        for col, mapping in self._mapping.items():\n",
        "            X_encoded.loc[:, col] = X_encoded[col].fillna(-9999).map(mapping['value'])\n",
        "            X_encoded[col].fillna(0, inplace=True)\n",
        "\n",
        "        return X_encoded"
      ],
      "execution_count": null,
      "outputs": []
    },
    {
      "cell_type": "code",
      "metadata": {
        "id": "5YDT5In3-e1N",
        "colab": {
          "base_uri": "https://localhost:8080/",
          "height": 288
        },
        "outputId": "eae02b0c-b892-49f5-9144-7442991cf3f7"
      },
      "source": [
        "syn_df=pd.read_csv('drive/My Drive/synthetic_data_GAN_mWOE_privacy_1_70percent_training_dataset3333.csv')\n",
        "y_syn_df=syn_df['churn']\n",
        "X_syn_df=syn_df.drop(['churn'], axis=1)\n",
        "Obj = WOE_Encoder(cols=X_syn_df.columns, size=X_syn_df.shape[0])\n",
        "X_encoded = Obj.WOE_fit(X_syn_df, y_syn_df)\n",
        "X_encoded.head()"
      ],
      "execution_count": null,
      "outputs": [
        {
          "output_type": "execute_result",
          "data": {
            "text/html": [
              "\n",
              "  <div id=\"df-51d4a2fc-22e6-4920-8b15-cc0e52702b06\">\n",
              "    <div class=\"colab-df-container\">\n",
              "      <div>\n",
              "<style scoped>\n",
              "    .dataframe tbody tr th:only-of-type {\n",
              "        vertical-align: middle;\n",
              "    }\n",
              "\n",
              "    .dataframe tbody tr th {\n",
              "        vertical-align: top;\n",
              "    }\n",
              "\n",
              "    .dataframe thead th {\n",
              "        text-align: right;\n",
              "    }\n",
              "</style>\n",
              "<table border=\"1\" class=\"dataframe\">\n",
              "  <thead>\n",
              "    <tr style=\"text-align: right;\">\n",
              "      <th></th>\n",
              "      <th>Unnamed: 0</th>\n",
              "      <th>account_length</th>\n",
              "      <th>area_code</th>\n",
              "      <th>number_vmail_messages</th>\n",
              "      <th>total_day_minutes</th>\n",
              "      <th>total_day_calls</th>\n",
              "      <th>total_day_charge</th>\n",
              "      <th>total_eve_minutes</th>\n",
              "      <th>total_eve_calls</th>\n",
              "      <th>total_eve_charge</th>\n",
              "      <th>total_night_minutes</th>\n",
              "      <th>total_night_calls</th>\n",
              "      <th>total_night_charge</th>\n",
              "      <th>total_intl_minutes</th>\n",
              "      <th>total_intl_calls</th>\n",
              "      <th>total_intl_charge</th>\n",
              "      <th>number_customer_service_calls</th>\n",
              "      <th>state</th>\n",
              "      <th>international_plan</th>\n",
              "      <th>voice_mail_plan</th>\n",
              "    </tr>\n",
              "  </thead>\n",
              "  <tbody>\n",
              "    <tr>\n",
              "      <th>0</th>\n",
              "      <td>-0.444907</td>\n",
              "      <td>0.450928</td>\n",
              "      <td>0.450928</td>\n",
              "      <td>0.000000</td>\n",
              "      <td>1.813154</td>\n",
              "      <td>0.981190</td>\n",
              "      <td>0.000000</td>\n",
              "      <td>0.450928</td>\n",
              "      <td>0.000000</td>\n",
              "      <td>0.000000</td>\n",
              "      <td>0.000000</td>\n",
              "      <td>0.981190</td>\n",
              "      <td>0.450928</td>\n",
              "      <td>0.000000</td>\n",
              "      <td>-0.341739</td>\n",
              "      <td>-0.341739</td>\n",
              "      <td>-0.341739</td>\n",
              "      <td>0.981190</td>\n",
              "      <td>0.000000</td>\n",
              "      <td>0.000000</td>\n",
              "    </tr>\n",
              "    <tr>\n",
              "      <th>1</th>\n",
              "      <td>-0.444907</td>\n",
              "      <td>-0.341739</td>\n",
              "      <td>0.000000</td>\n",
              "      <td>-0.341739</td>\n",
              "      <td>0.000000</td>\n",
              "      <td>-0.341739</td>\n",
              "      <td>0.000000</td>\n",
              "      <td>-0.341739</td>\n",
              "      <td>0.000000</td>\n",
              "      <td>0.000000</td>\n",
              "      <td>0.000000</td>\n",
              "      <td>-0.341739</td>\n",
              "      <td>0.450928</td>\n",
              "      <td>0.450928</td>\n",
              "      <td>0.000000</td>\n",
              "      <td>-0.341739</td>\n",
              "      <td>0.000000</td>\n",
              "      <td>0.000000</td>\n",
              "      <td>0.000000</td>\n",
              "      <td>0.000000</td>\n",
              "    </tr>\n",
              "    <tr>\n",
              "      <th>2</th>\n",
              "      <td>-0.444907</td>\n",
              "      <td>-0.341739</td>\n",
              "      <td>0.450928</td>\n",
              "      <td>1.415745</td>\n",
              "      <td>-0.341739</td>\n",
              "      <td>0.000000</td>\n",
              "      <td>0.450928</td>\n",
              "      <td>0.981190</td>\n",
              "      <td>-0.341739</td>\n",
              "      <td>0.450928</td>\n",
              "      <td>-0.341739</td>\n",
              "      <td>0.000000</td>\n",
              "      <td>-0.341739</td>\n",
              "      <td>0.000000</td>\n",
              "      <td>-0.341739</td>\n",
              "      <td>0.000000</td>\n",
              "      <td>1.813154</td>\n",
              "      <td>0.000000</td>\n",
              "      <td>-0.341739</td>\n",
              "      <td>1.813154</td>\n",
              "    </tr>\n",
              "    <tr>\n",
              "      <th>3</th>\n",
              "      <td>-0.444907</td>\n",
              "      <td>0.000000</td>\n",
              "      <td>0.000000</td>\n",
              "      <td>0.000000</td>\n",
              "      <td>0.450928</td>\n",
              "      <td>0.450928</td>\n",
              "      <td>-0.341739</td>\n",
              "      <td>-0.341739</td>\n",
              "      <td>0.000000</td>\n",
              "      <td>0.450928</td>\n",
              "      <td>0.000000</td>\n",
              "      <td>1.415745</td>\n",
              "      <td>0.000000</td>\n",
              "      <td>0.981190</td>\n",
              "      <td>0.981190</td>\n",
              "      <td>0.981190</td>\n",
              "      <td>0.000000</td>\n",
              "      <td>-0.341739</td>\n",
              "      <td>2.207927</td>\n",
              "      <td>0.000000</td>\n",
              "    </tr>\n",
              "    <tr>\n",
              "      <th>4</th>\n",
              "      <td>-0.444907</td>\n",
              "      <td>-0.341739</td>\n",
              "      <td>0.000000</td>\n",
              "      <td>0.000000</td>\n",
              "      <td>0.000000</td>\n",
              "      <td>-0.341739</td>\n",
              "      <td>0.450928</td>\n",
              "      <td>0.000000</td>\n",
              "      <td>0.000000</td>\n",
              "      <td>0.000000</td>\n",
              "      <td>0.000000</td>\n",
              "      <td>0.000000</td>\n",
              "      <td>0.450928</td>\n",
              "      <td>0.000000</td>\n",
              "      <td>1.813154</td>\n",
              "      <td>-0.341739</td>\n",
              "      <td>0.981190</td>\n",
              "      <td>0.450928</td>\n",
              "      <td>0.000000</td>\n",
              "      <td>1.415745</td>\n",
              "    </tr>\n",
              "  </tbody>\n",
              "</table>\n",
              "</div>\n",
              "      <button class=\"colab-df-convert\" onclick=\"convertToInteractive('df-51d4a2fc-22e6-4920-8b15-cc0e52702b06')\"\n",
              "              title=\"Convert this dataframe to an interactive table.\"\n",
              "              style=\"display:none;\">\n",
              "        \n",
              "  <svg xmlns=\"http://www.w3.org/2000/svg\" height=\"24px\"viewBox=\"0 0 24 24\"\n",
              "       width=\"24px\">\n",
              "    <path d=\"M0 0h24v24H0V0z\" fill=\"none\"/>\n",
              "    <path d=\"M18.56 5.44l.94 2.06.94-2.06 2.06-.94-2.06-.94-.94-2.06-.94 2.06-2.06.94zm-11 1L8.5 8.5l.94-2.06 2.06-.94-2.06-.94L8.5 2.5l-.94 2.06-2.06.94zm10 10l.94 2.06.94-2.06 2.06-.94-2.06-.94-.94-2.06-.94 2.06-2.06.94z\"/><path d=\"M17.41 7.96l-1.37-1.37c-.4-.4-.92-.59-1.43-.59-.52 0-1.04.2-1.43.59L10.3 9.45l-7.72 7.72c-.78.78-.78 2.05 0 2.83L4 21.41c.39.39.9.59 1.41.59.51 0 1.02-.2 1.41-.59l7.78-7.78 2.81-2.81c.8-.78.8-2.07 0-2.86zM5.41 20L4 18.59l7.72-7.72 1.47 1.35L5.41 20z\"/>\n",
              "  </svg>\n",
              "      </button>\n",
              "      \n",
              "  <style>\n",
              "    .colab-df-container {\n",
              "      display:flex;\n",
              "      flex-wrap:wrap;\n",
              "      gap: 12px;\n",
              "    }\n",
              "\n",
              "    .colab-df-convert {\n",
              "      background-color: #E8F0FE;\n",
              "      border: none;\n",
              "      border-radius: 50%;\n",
              "      cursor: pointer;\n",
              "      display: none;\n",
              "      fill: #1967D2;\n",
              "      height: 32px;\n",
              "      padding: 0 0 0 0;\n",
              "      width: 32px;\n",
              "    }\n",
              "\n",
              "    .colab-df-convert:hover {\n",
              "      background-color: #E2EBFA;\n",
              "      box-shadow: 0px 1px 2px rgba(60, 64, 67, 0.3), 0px 1px 3px 1px rgba(60, 64, 67, 0.15);\n",
              "      fill: #174EA6;\n",
              "    }\n",
              "\n",
              "    [theme=dark] .colab-df-convert {\n",
              "      background-color: #3B4455;\n",
              "      fill: #D2E3FC;\n",
              "    }\n",
              "\n",
              "    [theme=dark] .colab-df-convert:hover {\n",
              "      background-color: #434B5C;\n",
              "      box-shadow: 0px 1px 3px 1px rgba(0, 0, 0, 0.15);\n",
              "      filter: drop-shadow(0px 1px 2px rgba(0, 0, 0, 0.3));\n",
              "      fill: #FFFFFF;\n",
              "    }\n",
              "  </style>\n",
              "\n",
              "      <script>\n",
              "        const buttonEl =\n",
              "          document.querySelector('#df-51d4a2fc-22e6-4920-8b15-cc0e52702b06 button.colab-df-convert');\n",
              "        buttonEl.style.display =\n",
              "          google.colab.kernel.accessAllowed ? 'block' : 'none';\n",
              "\n",
              "        async function convertToInteractive(key) {\n",
              "          const element = document.querySelector('#df-51d4a2fc-22e6-4920-8b15-cc0e52702b06');\n",
              "          const dataTable =\n",
              "            await google.colab.kernel.invokeFunction('convertToInteractive',\n",
              "                                                     [key], {});\n",
              "          if (!dataTable) return;\n",
              "\n",
              "          const docLinkHtml = 'Like what you see? Visit the ' +\n",
              "            '<a target=\"_blank\" href=https://colab.research.google.com/notebooks/data_table.ipynb>data table notebook</a>'\n",
              "            + ' to learn more about interactive tables.';\n",
              "          element.innerHTML = '';\n",
              "          dataTable['output_type'] = 'display_data';\n",
              "          await google.colab.output.renderOutput(dataTable, element);\n",
              "          const docLink = document.createElement('div');\n",
              "          docLink.innerHTML = docLinkHtml;\n",
              "          element.appendChild(docLink);\n",
              "        }\n",
              "      </script>\n",
              "    </div>\n",
              "  </div>\n",
              "  "
            ],
            "text/plain": [
              "   Unnamed: 0  account_length  ...  international_plan  voice_mail_plan\n",
              "0   -0.444907        0.450928  ...            0.000000         0.000000\n",
              "1   -0.444907       -0.341739  ...            0.000000         0.000000\n",
              "2   -0.444907       -0.341739  ...           -0.341739         1.813154\n",
              "3   -0.444907        0.000000  ...            2.207927         0.000000\n",
              "4   -0.444907       -0.341739  ...            0.000000         1.415745\n",
              "\n",
              "[5 rows x 20 columns]"
            ]
          },
          "metadata": {},
          "execution_count": 21
        }
      ]
    },
    {
      "cell_type": "code",
      "metadata": {
        "id": "eQ-APCXJ-e23",
        "colab": {
          "base_uri": "https://localhost:8080/",
          "height": 288
        },
        "outputId": "5847060c-cf87-45b0-ae3d-2673b805f247"
      },
      "source": [
        "org_test_df=pd.read_csv('drive/My Drive/Original_data_GAN_mWOE_privacy_1_30percent_testing_dataset3333.csv')\n",
        "y_test=org_test_df['churn']\n",
        "X_test=org_test_df.drop(['churn'], axis=1)\n",
        "Obj_test = WOE_Encoder(cols=X_test.columns, size=X_test.shape[0])\n",
        "X_encoded_test = Obj_test.WOE_fit(X_test, y_test)\n",
        "X_encoded_test.head()"
      ],
      "execution_count": null,
      "outputs": [
        {
          "output_type": "execute_result",
          "data": {
            "text/html": [
              "\n",
              "  <div id=\"df-01627027-f1f7-4266-98a6-ccf358a37a23\">\n",
              "    <div class=\"colab-df-container\">\n",
              "      <div>\n",
              "<style scoped>\n",
              "    .dataframe tbody tr th:only-of-type {\n",
              "        vertical-align: middle;\n",
              "    }\n",
              "\n",
              "    .dataframe tbody tr th {\n",
              "        vertical-align: top;\n",
              "    }\n",
              "\n",
              "    .dataframe thead th {\n",
              "        text-align: right;\n",
              "    }\n",
              "</style>\n",
              "<table border=\"1\" class=\"dataframe\">\n",
              "  <thead>\n",
              "    <tr style=\"text-align: right;\">\n",
              "      <th></th>\n",
              "      <th>Unnamed: 0</th>\n",
              "      <th>account_length</th>\n",
              "      <th>area_code</th>\n",
              "      <th>number_vmail_messages</th>\n",
              "      <th>total_day_minutes</th>\n",
              "      <th>total_day_calls</th>\n",
              "      <th>total_day_charge</th>\n",
              "      <th>total_eve_minutes</th>\n",
              "      <th>total_eve_calls</th>\n",
              "      <th>total_eve_charge</th>\n",
              "      <th>total_night_minutes</th>\n",
              "      <th>total_night_calls</th>\n",
              "      <th>total_night_charge</th>\n",
              "      <th>total_intl_minutes</th>\n",
              "      <th>total_intl_calls</th>\n",
              "      <th>total_intl_charge</th>\n",
              "      <th>number_customer_service_calls</th>\n",
              "      <th>state</th>\n",
              "      <th>international_plan</th>\n",
              "      <th>voice_mail_plan</th>\n",
              "    </tr>\n",
              "  </thead>\n",
              "  <tbody>\n",
              "    <tr>\n",
              "      <th>0</th>\n",
              "      <td>0.000000</td>\n",
              "      <td>0.085209</td>\n",
              "      <td>-0.186013</td>\n",
              "      <td>0.201163</td>\n",
              "      <td>-0.285305</td>\n",
              "      <td>0.000000</td>\n",
              "      <td>-0.285305</td>\n",
              "      <td>0.400768</td>\n",
              "      <td>0.535296</td>\n",
              "      <td>0.400768</td>\n",
              "      <td>-0.600864</td>\n",
              "      <td>0.488305</td>\n",
              "      <td>-0.600864</td>\n",
              "      <td>0.178359</td>\n",
              "      <td>0.088739</td>\n",
              "      <td>0.178359</td>\n",
              "      <td>-0.397455</td>\n",
              "      <td>-0.458074</td>\n",
              "      <td>-0.221764</td>\n",
              "      <td>0.201163</td>\n",
              "    </tr>\n",
              "    <tr>\n",
              "      <th>1</th>\n",
              "      <td>1.374515</td>\n",
              "      <td>-0.401910</td>\n",
              "      <td>0.029383</td>\n",
              "      <td>0.201163</td>\n",
              "      <td>-0.285305</td>\n",
              "      <td>0.180214</td>\n",
              "      <td>-0.285305</td>\n",
              "      <td>0.000000</td>\n",
              "      <td>0.397299</td>\n",
              "      <td>0.000000</td>\n",
              "      <td>-0.600864</td>\n",
              "      <td>0.678013</td>\n",
              "      <td>-0.600864</td>\n",
              "      <td>-0.285305</td>\n",
              "      <td>-0.033924</td>\n",
              "      <td>-0.285305</td>\n",
              "      <td>-0.322192</td>\n",
              "      <td>-1.033450</td>\n",
              "      <td>-0.221764</td>\n",
              "      <td>0.201163</td>\n",
              "    </tr>\n",
              "    <tr>\n",
              "      <th>2</th>\n",
              "      <td>1.776454</td>\n",
              "      <td>-0.287066</td>\n",
              "      <td>0.029383</td>\n",
              "      <td>0.201163</td>\n",
              "      <td>-0.401910</td>\n",
              "      <td>1.222378</td>\n",
              "      <td>-0.401910</td>\n",
              "      <td>-0.285305</td>\n",
              "      <td>-0.401910</td>\n",
              "      <td>-0.285305</td>\n",
              "      <td>0.400768</td>\n",
              "      <td>0.248801</td>\n",
              "      <td>0.400768</td>\n",
              "      <td>-0.401910</td>\n",
              "      <td>0.454768</td>\n",
              "      <td>-0.401910</td>\n",
              "      <td>1.820992</td>\n",
              "      <td>0.582842</td>\n",
              "      <td>-0.221764</td>\n",
              "      <td>0.201163</td>\n",
              "    </tr>\n",
              "    <tr>\n",
              "      <th>3</th>\n",
              "      <td>-0.401910</td>\n",
              "      <td>-0.687231</td>\n",
              "      <td>0.121389</td>\n",
              "      <td>0.201163</td>\n",
              "      <td>0.000000</td>\n",
              "      <td>0.000000</td>\n",
              "      <td>0.000000</td>\n",
              "      <td>0.179746</td>\n",
              "      <td>-0.458074</td>\n",
              "      <td>0.179746</td>\n",
              "      <td>0.000000</td>\n",
              "      <td>-0.404257</td>\n",
              "      <td>0.000000</td>\n",
              "      <td>0.000000</td>\n",
              "      <td>0.466248</td>\n",
              "      <td>0.000000</td>\n",
              "      <td>-0.397455</td>\n",
              "      <td>-0.840368</td>\n",
              "      <td>-0.221764</td>\n",
              "      <td>0.201163</td>\n",
              "    </tr>\n",
              "    <tr>\n",
              "      <th>4</th>\n",
              "      <td>0.400768</td>\n",
              "      <td>-0.506327</td>\n",
              "      <td>0.121389</td>\n",
              "      <td>0.201163</td>\n",
              "      <td>0.000000</td>\n",
              "      <td>-0.200969</td>\n",
              "      <td>0.000000</td>\n",
              "      <td>0.532786</td>\n",
              "      <td>0.869338</td>\n",
              "      <td>0.532786</td>\n",
              "      <td>0.000000</td>\n",
              "      <td>-0.542787</td>\n",
              "      <td>0.000000</td>\n",
              "      <td>-0.648348</td>\n",
              "      <td>-0.772818</td>\n",
              "      <td>-0.648348</td>\n",
              "      <td>-0.397455</td>\n",
              "      <td>-0.458074</td>\n",
              "      <td>-0.221764</td>\n",
              "      <td>0.201163</td>\n",
              "    </tr>\n",
              "  </tbody>\n",
              "</table>\n",
              "</div>\n",
              "      <button class=\"colab-df-convert\" onclick=\"convertToInteractive('df-01627027-f1f7-4266-98a6-ccf358a37a23')\"\n",
              "              title=\"Convert this dataframe to an interactive table.\"\n",
              "              style=\"display:none;\">\n",
              "        \n",
              "  <svg xmlns=\"http://www.w3.org/2000/svg\" height=\"24px\"viewBox=\"0 0 24 24\"\n",
              "       width=\"24px\">\n",
              "    <path d=\"M0 0h24v24H0V0z\" fill=\"none\"/>\n",
              "    <path d=\"M18.56 5.44l.94 2.06.94-2.06 2.06-.94-2.06-.94-.94-2.06-.94 2.06-2.06.94zm-11 1L8.5 8.5l.94-2.06 2.06-.94-2.06-.94L8.5 2.5l-.94 2.06-2.06.94zm10 10l.94 2.06.94-2.06 2.06-.94-2.06-.94-.94-2.06-.94 2.06-2.06.94z\"/><path d=\"M17.41 7.96l-1.37-1.37c-.4-.4-.92-.59-1.43-.59-.52 0-1.04.2-1.43.59L10.3 9.45l-7.72 7.72c-.78.78-.78 2.05 0 2.83L4 21.41c.39.39.9.59 1.41.59.51 0 1.02-.2 1.41-.59l7.78-7.78 2.81-2.81c.8-.78.8-2.07 0-2.86zM5.41 20L4 18.59l7.72-7.72 1.47 1.35L5.41 20z\"/>\n",
              "  </svg>\n",
              "      </button>\n",
              "      \n",
              "  <style>\n",
              "    .colab-df-container {\n",
              "      display:flex;\n",
              "      flex-wrap:wrap;\n",
              "      gap: 12px;\n",
              "    }\n",
              "\n",
              "    .colab-df-convert {\n",
              "      background-color: #E8F0FE;\n",
              "      border: none;\n",
              "      border-radius: 50%;\n",
              "      cursor: pointer;\n",
              "      display: none;\n",
              "      fill: #1967D2;\n",
              "      height: 32px;\n",
              "      padding: 0 0 0 0;\n",
              "      width: 32px;\n",
              "    }\n",
              "\n",
              "    .colab-df-convert:hover {\n",
              "      background-color: #E2EBFA;\n",
              "      box-shadow: 0px 1px 2px rgba(60, 64, 67, 0.3), 0px 1px 3px 1px rgba(60, 64, 67, 0.15);\n",
              "      fill: #174EA6;\n",
              "    }\n",
              "\n",
              "    [theme=dark] .colab-df-convert {\n",
              "      background-color: #3B4455;\n",
              "      fill: #D2E3FC;\n",
              "    }\n",
              "\n",
              "    [theme=dark] .colab-df-convert:hover {\n",
              "      background-color: #434B5C;\n",
              "      box-shadow: 0px 1px 3px 1px rgba(0, 0, 0, 0.15);\n",
              "      filter: drop-shadow(0px 1px 2px rgba(0, 0, 0, 0.3));\n",
              "      fill: #FFFFFF;\n",
              "    }\n",
              "  </style>\n",
              "\n",
              "      <script>\n",
              "        const buttonEl =\n",
              "          document.querySelector('#df-01627027-f1f7-4266-98a6-ccf358a37a23 button.colab-df-convert');\n",
              "        buttonEl.style.display =\n",
              "          google.colab.kernel.accessAllowed ? 'block' : 'none';\n",
              "\n",
              "        async function convertToInteractive(key) {\n",
              "          const element = document.querySelector('#df-01627027-f1f7-4266-98a6-ccf358a37a23');\n",
              "          const dataTable =\n",
              "            await google.colab.kernel.invokeFunction('convertToInteractive',\n",
              "                                                     [key], {});\n",
              "          if (!dataTable) return;\n",
              "\n",
              "          const docLinkHtml = 'Like what you see? Visit the ' +\n",
              "            '<a target=\"_blank\" href=https://colab.research.google.com/notebooks/data_table.ipynb>data table notebook</a>'\n",
              "            + ' to learn more about interactive tables.';\n",
              "          element.innerHTML = '';\n",
              "          dataTable['output_type'] = 'display_data';\n",
              "          await google.colab.output.renderOutput(dataTable, element);\n",
              "          const docLink = document.createElement('div');\n",
              "          docLink.innerHTML = docLinkHtml;\n",
              "          element.appendChild(docLink);\n",
              "        }\n",
              "      </script>\n",
              "    </div>\n",
              "  </div>\n",
              "  "
            ],
            "text/plain": [
              "   Unnamed: 0  account_length  ...  international_plan  voice_mail_plan\n",
              "0    0.000000        0.085209  ...           -0.221764         0.201163\n",
              "1    1.374515       -0.401910  ...           -0.221764         0.201163\n",
              "2    1.776454       -0.287066  ...           -0.221764         0.201163\n",
              "3   -0.401910       -0.687231  ...           -0.221764         0.201163\n",
              "4    0.400768       -0.506327  ...           -0.221764         0.201163\n",
              "\n",
              "[5 rows x 20 columns]"
            ]
          },
          "metadata": {},
          "execution_count": 22
        }
      ]
    },
    {
      "cell_type": "code",
      "metadata": {
        "id": "MnWV3KbP-e5p",
        "colab": {
          "base_uri": "https://localhost:8080/"
        },
        "outputId": "ea0b7de5-2604-4a3c-ab10-f222fea439a3"
      },
      "source": [
        "#Import Gaussian Naive Bayes model\n",
        "from sklearn.naive_bayes import GaussianNB\n",
        "from sklearn.model_selection import RepeatedKFold\n",
        "#Create a Gaussian Classifier\n",
        "classifier = GaussianNB(priors=None, var_smoothing=6.579332246575682e-09)\n",
        "\n",
        "classifier.fit(X_encoded,y_syn_df)\n",
        "\n",
        "\n",
        "cv_method = RepeatedKFold(n_splits=10,\n",
        "                          n_repeats=3,\n",
        "                          random_state=999)\n",
        "\n",
        "from sklearn.model_selection import cross_val_predict\n",
        "from sklearn.metrics import confusion_matrix\n",
        "#y_pred  = cross_val_predict(estimator = classifier, X = X_encoded, y = y_syn, cv = 5)\n",
        "y_pred = classifier.predict(X_encoded_test)\n",
        "tn, fp, fn, tp  = confusion_matrix(y_test, y_pred).ravel()\n",
        "print(tn, fp, fn, tp)\n",
        "pod=tp/(tp+fn)\n",
        "\n",
        "print('pod: ',pod)\n",
        "pof=fp/(fp+tn)\n",
        "print ('pof: ',pof)\n",
        "auc_val=(1+pod-pof)/2\n",
        "print ('AUC: ',auc_val)\n",
        "\n",
        "recall = tp/(tp+fn)\n",
        "print ('recall: ',recall)\n",
        "precision=tp/(tp+fp)\n",
        "print ('precision: ',precision)\n",
        "\n",
        "F1_score=(2*precision*recall)/(precision+recall)\n",
        "print ('F1-Score: ',F1_score)\n",
        "\n",
        "accuracy=(tp+tn)/(tp+fn+fp+tn)\n",
        "print ('accuracy: ',accuracy)\n"
      ],
      "execution_count": null,
      "outputs": [
        {
          "output_type": "stream",
          "name": "stdout",
          "text": [
            "841 16 58 85\n",
            "pod:  0.5944055944055944\n",
            "pof:  0.01866977829638273\n",
            "AUC:  0.7878679080546058\n",
            "recall:  0.5944055944055944\n",
            "precision:  0.8415841584158416\n",
            "F1-Score:  0.6967213114754097\n",
            "accuracy:  0.926\n"
          ]
        }
      ]
    },
    {
      "cell_type": "code",
      "metadata": {
        "id": "QS-PQ06L-e89",
        "colab": {
          "base_uri": "https://localhost:8080/"
        },
        "outputId": "c558a1ae-3334-4b72-9864-8abf30e32410"
      },
      "source": [
        "#LogisticRegression\n",
        "from sklearn.linear_model import LogisticRegression\n",
        "from sklearn import metrics\n",
        "classifier = LogisticRegression(C=5, class_weight=None, dual=False, fit_intercept=True,\n",
        "          intercept_scaling=1, max_iter=100, multi_class='ovr',\n",
        "          n_jobs=None, penalty='l1', random_state=None, solver='liblinear',\n",
        "          tol=0.0001, verbose=0, warm_start=False)\n",
        "classifier.fit(X_encoded,y_syn_df)\n",
        "\n",
        "from sklearn.model_selection import cross_val_predict\n",
        "from sklearn.metrics import confusion_matrix\n",
        "#y_pred  = cross_val_predict(estimator = classifier, X = X_encoded, y = y_syn, cv = 10)\n",
        "y_pred = classifier.predict(X_encoded_test)\n",
        "tn, fp, fn, tp  = confusion_matrix(y_test, y_pred).ravel()\n",
        "print(tn, fp, fn, tp)\n",
        "pod=tp/(tp+fn)\n",
        "\n",
        "print('pod: ',pod)\n",
        "pof=fp/(fp+tn)\n",
        "print ('pof: ',pof)\n",
        "auc_val=(1+pod-pof)/2\n",
        "print ('AUC: ',auc_val)\n",
        "\n",
        "\n",
        "recall = tp/(tp+fn)\n",
        "print ('recall: ',recall)\n",
        "precision=tp/(tp+fp)\n",
        "print ('precision: ',precision)\n",
        "\n",
        "F1_score=(2*precision*recall)/(precision+recall)\n",
        "print ('F1-Score: ',F1_score)\n",
        "\n",
        "accuracy=(tp+tn)/(tp+fn+fp+tn)\n",
        "print ('accuracy: ',accuracy)\n",
        "\n"
      ],
      "execution_count": null,
      "outputs": [
        {
          "output_type": "stream",
          "name": "stdout",
          "text": [
            "854 3 72 71\n",
            "pod:  0.4965034965034965\n",
            "pof:  0.003500583430571762\n",
            "AUC:  0.7465014565364624\n",
            "recall:  0.4965034965034965\n",
            "precision:  0.9594594594594594\n",
            "F1-Score:  0.6543778801843319\n",
            "accuracy:  0.925\n"
          ]
        }
      ]
    },
    {
      "cell_type": "code",
      "metadata": {
        "id": "ngzlHAS4-e_b",
        "colab": {
          "base_uri": "https://localhost:8080/"
        },
        "outputId": "91518de0-bbe3-4cec-b99c-f5831196a7ee"
      },
      "source": [
        "#Random Forest\n",
        "from sklearn.ensemble import RandomForestClassifier\n",
        "classifier =RandomForestClassifier(bootstrap= True, max_depth= 80, max_features= 3, min_samples_leaf= 3, min_samples_split= 12, n_estimators= 1000)\n",
        "classifier.fit(X_encoded,y_syn_df)\n",
        "\n",
        "from sklearn.model_selection import cross_val_predict\n",
        "from sklearn.metrics import confusion_matrix\n",
        "#y_pred  = cross_val_predict(estimator = classifier, X = x_train_chi, y = y_train, cv = 10)\n",
        "y_pred = classifier.predict(X_encoded_test)\n",
        "tn, fp, fn, tp  = confusion_matrix(y_test, y_pred).ravel()\n",
        "print(tn, fp, fn, tp)\n",
        "pod=tp/(tp+fn)\n",
        "\n",
        "print('pod: ',pod)\n",
        "pof=fp/(fp+tn)\n",
        "print ('pof: ',pof)\n",
        "auc_val=(1+pod-pof)/2\n",
        "print ('AUC: ',auc_val)\n",
        "\n",
        "recall = tp/(tp+fn)\n",
        "print ('recall: ',recall)\n",
        "precision=tp/(tp+fp)\n",
        "print ('precision: ',precision)\n",
        "\n",
        "F1_score=(2*precision*recall)/(precision+recall)\n",
        "print ('F1-Score: ',F1_score)\n",
        "\n",
        "accuracy=(tp+tn)/(tp+fn+fp+tn)\n",
        "print ('accuracy: ',accuracy)\n"
      ],
      "execution_count": null,
      "outputs": [
        {
          "output_type": "stream",
          "name": "stdout",
          "text": [
            "857 0 127 16\n",
            "pod:  0.11188811188811189\n",
            "pof:  0.0\n",
            "AUC:  0.5559440559440559\n",
            "recall:  0.11188811188811189\n",
            "precision:  1.0\n",
            "F1-Score:  0.20125786163522014\n",
            "accuracy:  0.873\n"
          ]
        }
      ]
    },
    {
      "cell_type": "code",
      "metadata": {
        "id": "ZFEZ96NO-fBf",
        "colab": {
          "base_uri": "https://localhost:8080/"
        },
        "outputId": "3d025dee-be47-4494-a0a7-a80423cf9d0f"
      },
      "source": [
        "# KNN\n",
        "from sklearn.neighbors import KNeighborsClassifier\n",
        "classifier = KNeighborsClassifier(metric='manhattan', weights='uniform', n_neighbors=19 )\n",
        "classifier.fit(X_encoded,y_syn_df)\n",
        "\n",
        "from sklearn.model_selection import cross_val_predict\n",
        "from sklearn.metrics import confusion_matrix\n",
        "#y_pred  = cross_val_predict(estimator = classifier, X = x_train_chi, y = y_train, cv = 10)\n",
        "y_pred = classifier.predict(X_encoded_test)\n",
        "tn, fp, fn, tp  = confusion_matrix(y_test, y_pred).ravel()\n",
        "print(tn, fp, fn, tp)\n",
        "pod=tp/(tp+fn)\n",
        "\n",
        "print('pod: ',pod)\n",
        "pof=fp/(fp+tn)\n",
        "print ('pof: ',pof)\n",
        "auc_val=(1+pod-pof)/2\n",
        "print ('AUC: ',auc_val)\n",
        "\n",
        "recall = tp/(tp+fn)\n",
        "print ('recall: ',recall)\n",
        "precision=tp/(tp+fp)\n",
        "print ('precision: ',precision)\n",
        "\n",
        "F1_score=(2*precision*recall)/(precision+recall)\n",
        "print ('F1-Score: ',F1_score)\n",
        "\n",
        "accuracy=(tp+tn)/(tp+fn+fp+tn)\n",
        "print ('accuracy: ',accuracy)\n"
      ],
      "execution_count": null,
      "outputs": [
        {
          "output_type": "stream",
          "name": "stdout",
          "text": [
            "857 0 138 5\n",
            "pod:  0.03496503496503497\n",
            "pof:  0.0\n",
            "AUC:  0.5174825174825175\n",
            "recall:  0.03496503496503497\n",
            "precision:  1.0\n",
            "F1-Score:  0.06756756756756757\n",
            "accuracy:  0.862\n"
          ]
        }
      ]
    },
    {
      "cell_type": "code",
      "source": [
        "#Decision Tree\n",
        "from sklearn.tree import DecisionTreeClassifier\n",
        "\n",
        "#classifier = DecisionTreeClassifier(criterion='entropy', splitter='best')\n",
        "classifier = DecisionTreeClassifier()\n",
        "classifier.fit(X_encoded,y_syn_df)\n",
        "from sklearn.model_selection import cross_val_predict\n",
        "from sklearn.metrics import confusion_matrix\n",
        "#y_pred  = cross_val_predict(estimator = classifier, X = x_train_chi, y = y_train, cv = 10)\n",
        "y_pred = classifier.predict(X_encoded_test)\n",
        "tn, fp, fn, tp  = confusion_matrix(y_test, y_pred).ravel()\n",
        "print(tn, fp, fn, tp)\n",
        "pod=tp/(tp+fn)\n",
        "\n",
        "print('pod: ',pod)\n",
        "pof=fp/(fp+tn)\n",
        "print ('pof: ',pof)\n",
        "auc_val=(1+pod-pof)/2\n",
        "print ('AUC: ',auc_val)\n",
        "\n",
        "\n",
        "recall = tp/(tp+fn)\n",
        "print ('recall: ',recall)\n",
        "precision=tp/(tp+fp)\n",
        "print ('precision: ',precision)\n",
        "\n",
        "F1_score=(2*precision*recall)/(precision+recall)\n",
        "print ('F1-Score: ',F1_score)\n",
        "\n",
        "accuracy=(tp+tn)/(tp+fn+fp+tn)\n",
        "print ('accuracy: ',accuracy)\n"
      ],
      "metadata": {
        "colab": {
          "base_uri": "https://localhost:8080/"
        },
        "id": "pBYEzXBUjsHO",
        "outputId": "5232af22-88e0-44bf-f786-9c1caadaac94"
      },
      "execution_count": null,
      "outputs": [
        {
          "output_type": "stream",
          "name": "stdout",
          "text": [
            "838 19 82 61\n",
            "pod:  0.42657342657342656\n",
            "pof:  0.022170361726954493\n",
            "AUC:  0.7022015324232361\n",
            "recall:  0.42657342657342656\n",
            "precision:  0.7625\n",
            "F1-Score:  0.547085201793722\n",
            "accuracy:  0.899\n"
          ]
        }
      ]
    },
    {
      "cell_type": "code",
      "source": [
        "#Gradient Boosting\n",
        "from sklearn.ensemble import GradientBoostingClassifier\n",
        "\n",
        "#classifier = GradientBoostingClassifier(max_features=None, max_depth=3, criterion='friedman_mse')\n",
        "classifier = GradientBoostingClassifier()\n",
        "classifier.fit(X_encoded,y_syn_df)\n",
        "from sklearn.model_selection import cross_val_predict\n",
        "from sklearn.metrics import confusion_matrix\n",
        "y_pred = classifier.predict(X_encoded_test)\n",
        "tn, fp, fn, tp  = confusion_matrix(y_test, y_pred).ravel()\n",
        "print(tn, fp, fn, tp)\n",
        "pod=tp/(tp+fn)\n",
        "\n",
        "print('pod: ',pod)\n",
        "pof=fp/(fp+tn)\n",
        "print ('pof: ',pof)\n",
        "auc_val=(1+pod-pof)/2\n",
        "print ('AUC: ',auc_val)\n",
        "\n",
        "\n",
        "recall = tp/(tp+fn)\n",
        "print ('recall: ',recall)\n",
        "precision=tp/(tp+fp)\n",
        "print ('precision: ',precision)\n",
        "\n",
        "F1_score=(2*precision*recall)/(precision+recall)\n",
        "print ('F1-Score: ',F1_score)\n",
        "\n",
        "accuracy=(tp+tn)/(tp+fn+fp+tn)\n",
        "print ('accuracy: ',accuracy)\n"
      ],
      "metadata": {
        "colab": {
          "base_uri": "https://localhost:8080/"
        },
        "id": "6pNd4TXRjsRm",
        "outputId": "c6a42b57-ab5b-4628-eec4-e4657f33b037"
      },
      "execution_count": null,
      "outputs": [
        {
          "output_type": "stream",
          "name": "stdout",
          "text": [
            "856 1 93 50\n",
            "pod:  0.34965034965034963\n",
            "pof:  0.0011668611435239206\n",
            "AUC:  0.6742417442534129\n",
            "recall:  0.34965034965034963\n",
            "precision:  0.9803921568627451\n",
            "F1-Score:  0.5154639175257731\n",
            "accuracy:  0.906\n"
          ]
        }
      ]
    },
    {
      "cell_type": "code",
      "source": [
        "#XGBClassifier\n",
        "from xgboost import XGBClassifier\n",
        "classifier =  XGBClassifier(random_state=0)\n",
        "\n",
        "classifier.fit(X_encoded,y_syn_df)\n",
        "\n",
        "from sklearn.model_selection import cross_val_predict\n",
        "from sklearn.metrics import confusion_matrix\n",
        "#y_pred  = cross_val_predict(estimator = classifier, X = X, y = y, cv = 10)\n",
        "y_pred = classifier.predict(X_encoded_test)\n",
        "tn, fp, fn, tp  = confusion_matrix(y_test, y_pred).ravel()\n",
        "print(tn, fp, fn, tp)\n",
        "pod=tp/(tp+fn)\n",
        "\n",
        "print('pod: ',pod)\n",
        "pof=fp/(fp+tn)\n",
        "print ('pof: ',pof)\n",
        "auc_val=(1+pod-pof)/2\n",
        "print ('AUC: ',auc_val)\n",
        "\n",
        "\n",
        "recall = tp/(tp+fn)\n",
        "print ('recall: ',recall)\n",
        "precision=tp/(tp+fp)\n",
        "print ('precision: ',precision)\n",
        "\n",
        "F1_score=(2*precision*recall)/(precision+recall)\n",
        "print ('F1-Score: ',F1_score)\n",
        "\n",
        "accuracy=(tp+tn)/(tp+fn+fp+tn)\n",
        "print ('accuracy: ',accuracy)\n"
      ],
      "metadata": {
        "colab": {
          "base_uri": "https://localhost:8080/"
        },
        "id": "33aso5-LjsZl",
        "outputId": "e7c66388-868e-4a24-d9f6-dd7b43e0ee64"
      },
      "execution_count": null,
      "outputs": [
        {
          "output_type": "stream",
          "name": "stdout",
          "text": [
            "856 1 91 52\n",
            "pod:  0.36363636363636365\n",
            "pof:  0.0011668611435239206\n",
            "AUC:  0.68123475124642\n",
            "recall:  0.36363636363636365\n",
            "precision:  0.9811320754716981\n",
            "F1-Score:  0.5306122448979592\n",
            "accuracy:  0.908\n"
          ]
        }
      ]
    },
    {
      "cell_type": "code",
      "source": [
        "#FNN\n",
        "from keras.models import Sequential\n",
        "from keras.layers import Dense\n",
        "#create model\n",
        "model = Sequential()\n",
        "#get number of columns in training data\n",
        "n_cols = X_encoded_test.shape[1]\n",
        "model.add(Dense(10, activation='relu', input_shape=(n_cols,)))\n",
        "model.add(Dense(250, activation='relu'))\n",
        "model.add(Dense(250, activation='relu'))\n",
        "model.add(Dense(250, activation='relu'))\n",
        "model.add(Dense(1, activation='sigmoid'))\n",
        "#compile model using mse as a measure of model performance\n",
        "#model.compile(optimizer='adam', loss='mean_squared_error')\n",
        "model.compile(loss='binary_crossentropy', optimizer='adam', metrics=['accuracy'])\n",
        "#model.compile(optimizer='adam', loss='categorical_crossentropy', metrics=['accuracy'])\n",
        "from keras.callbacks import EarlyStopping\n",
        "#set early stopping monitor so the model stops training when it won't improve anymore\n",
        "early_stopping_monitor = EarlyStopping(patience=3)\n",
        "#train model\n",
        "\n",
        "model.fit(X_encoded, y_syn_df, validation_split=0.2, epochs=30, callbacks=[early_stopping_monitor])\n",
        "y_pred = model.predict(X_encoded_test)\n",
        "y22_pred=y_pred.round()\n",
        "from sklearn.metrics import confusion_matrix\n",
        "\n",
        "tn, fp, fn, tp  = confusion_matrix(y_test, y22_pred).ravel()\n",
        "print(tn, fp, fn, tp)\n",
        "pod=tp/(tp+fn)\n",
        "\n",
        "print('pod: ',pod)\n",
        "pof=fp/(fp+tn)\n",
        "print ('pof: ',pof)\n",
        "auc_val=(1+pod-pof)/2\n",
        "print ('AUC: ',auc_val)\n",
        "\n",
        "\n",
        "recall = tp/(tp+fn)\n",
        "print ('recall: ',recall)\n",
        "precision=tp/(tp+fp)\n",
        "print ('precision: ',precision)\n",
        "\n",
        "F1_score=(2*precision*recall)/(precision+recall)\n",
        "print ('F1-Score: ',F1_score)\n",
        "\n",
        "accuracy=(tp+tn)/(tp+fn+fp+tn)\n",
        "print ('accuracy: ',accuracy)"
      ],
      "metadata": {
        "colab": {
          "base_uri": "https://localhost:8080/"
        },
        "id": "TUnQBazijsgF",
        "outputId": "e260adc8-1e6d-40f9-b8df-9388c2fb1066"
      },
      "execution_count": null,
      "outputs": [
        {
          "output_type": "stream",
          "name": "stdout",
          "text": [
            "Epoch 1/30\n",
            "59/59 [==============================] - 3s 9ms/step - loss: 0.3326 - accuracy: 0.8773 - val_loss: 0.2071 - val_accuracy: 0.9229\n",
            "Epoch 2/30\n",
            "59/59 [==============================] - 0s 6ms/step - loss: 0.1725 - accuracy: 0.9346 - val_loss: 0.1535 - val_accuracy: 0.9593\n",
            "Epoch 3/30\n",
            "59/59 [==============================] - 0s 5ms/step - loss: 0.1388 - accuracy: 0.9512 - val_loss: 0.1318 - val_accuracy: 0.9572\n",
            "Epoch 4/30\n",
            "59/59 [==============================] - 0s 6ms/step - loss: 0.1215 - accuracy: 0.9561 - val_loss: 0.1187 - val_accuracy: 0.9615\n",
            "Epoch 5/30\n",
            "59/59 [==============================] - 0s 6ms/step - loss: 0.1039 - accuracy: 0.9582 - val_loss: 0.1069 - val_accuracy: 0.9593\n",
            "Epoch 6/30\n",
            "59/59 [==============================] - 0s 6ms/step - loss: 0.0948 - accuracy: 0.9657 - val_loss: 0.1255 - val_accuracy: 0.9593\n",
            "Epoch 7/30\n",
            "59/59 [==============================] - 0s 6ms/step - loss: 0.0911 - accuracy: 0.9678 - val_loss: 0.1000 - val_accuracy: 0.9700\n",
            "Epoch 8/30\n",
            "59/59 [==============================] - 0s 5ms/step - loss: 0.0838 - accuracy: 0.9716 - val_loss: 0.1008 - val_accuracy: 0.9657\n",
            "Epoch 9/30\n",
            "59/59 [==============================] - 0s 5ms/step - loss: 0.0769 - accuracy: 0.9711 - val_loss: 0.0882 - val_accuracy: 0.9700\n",
            "Epoch 10/30\n",
            "59/59 [==============================] - 0s 6ms/step - loss: 0.0700 - accuracy: 0.9732 - val_loss: 0.0851 - val_accuracy: 0.9764\n",
            "Epoch 11/30\n",
            "59/59 [==============================] - 0s 5ms/step - loss: 0.0636 - accuracy: 0.9753 - val_loss: 0.0873 - val_accuracy: 0.9722\n",
            "Epoch 12/30\n",
            "59/59 [==============================] - 0s 5ms/step - loss: 0.0594 - accuracy: 0.9796 - val_loss: 0.0843 - val_accuracy: 0.9722\n",
            "Epoch 13/30\n",
            "59/59 [==============================] - 0s 5ms/step - loss: 0.0559 - accuracy: 0.9802 - val_loss: 0.1000 - val_accuracy: 0.9700\n",
            "Epoch 14/30\n",
            "59/59 [==============================] - 0s 6ms/step - loss: 0.0595 - accuracy: 0.9780 - val_loss: 0.0911 - val_accuracy: 0.9679\n",
            "Epoch 15/30\n",
            "59/59 [==============================] - 0s 5ms/step - loss: 0.0484 - accuracy: 0.9834 - val_loss: 0.1042 - val_accuracy: 0.9657\n",
            "851 6 81 62\n",
            "pod:  0.43356643356643354\n",
            "pof:  0.007001166861143524\n",
            "AUC:  0.713282633352645\n",
            "recall:  0.43356643356643354\n",
            "precision:  0.9117647058823529\n",
            "F1-Score:  0.5876777251184833\n",
            "accuracy:  0.913\n"
          ]
        }
      ]
    },
    {
      "cell_type": "code",
      "source": [],
      "metadata": {
        "id": "Znxchl9-jsnu"
      },
      "execution_count": null,
      "outputs": []
    }
  ]
}