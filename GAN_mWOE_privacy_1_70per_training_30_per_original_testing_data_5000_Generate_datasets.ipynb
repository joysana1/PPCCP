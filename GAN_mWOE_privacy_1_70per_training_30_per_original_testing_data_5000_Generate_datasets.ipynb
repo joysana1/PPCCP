{
  "nbformat": 4,
  "nbformat_minor": 0,
  "metadata": {
    "colab": {
      "provenance": [],
      "gpuType": "T4"
    },
    "kernelspec": {
      "name": "python3",
      "display_name": "Python 3"
    },
    "language_info": {
      "name": "python"
    },
    "accelerator": "GPU"
  },
  "cells": [
    {
      "cell_type": "code",
      "metadata": {
        "id": "C71ntYux94gE"
      },
      "source": [
        "from matplotlib import pyplot as plt\n",
        "import torch\n",
        "from torch import nn\n",
        "from torch import optim\n",
        "import torch.nn.functional as F\n",
        "from torchvision import datasets, transforms\n",
        "import pandas as pd\n"
      ],
      "execution_count": null,
      "outputs": []
    },
    {
      "cell_type": "code",
      "metadata": {
        "id": "5EJOdC3y_LM5"
      },
      "source": [],
      "execution_count": null,
      "outputs": []
    },
    {
      "cell_type": "code",
      "metadata": {
        "colab": {
          "base_uri": "https://localhost:8080/"
        },
        "id": "a93dtQn5-BQj",
        "outputId": "a80a1732-e92d-4e86-d31c-bc3bda5c4ebf"
      },
      "source": [
        "from google.colab import drive\n",
        "drive.mount('/content/drive')"
      ],
      "execution_count": null,
      "outputs": [
        {
          "output_type": "stream",
          "name": "stdout",
          "text": [
            "Mounted at /content/drive\n"
          ]
        }
      ]
    },
    {
      "cell_type": "code",
      "metadata": {
        "id": "0NZ2qGdL-DkB"
      },
      "source": [
        "import pandas as pd\n",
        "df=pd.read_csv('drive/My Drive/churn-5000.csv')"
      ],
      "execution_count": null,
      "outputs": []
    },
    {
      "cell_type": "code",
      "metadata": {
        "id": "ZXeWn2tZ-EWx"
      },
      "source": [
        "num_df = df.select_dtypes(include=['float64', 'int64']).copy()\n",
        "cat_df = df.select_dtypes(include=['object']).copy()\n",
        "\n",
        "# Categorical boolean mask\n",
        "categorical_feature_mask = cat_df.dtypes==object\n",
        "# filter categorical columns using mask and turn it into a list\n",
        "categorical_cols = cat_df.columns[categorical_feature_mask].tolist()\n",
        "\n",
        "import numpy as np\n",
        "#conData=np.log(0.00001 + 1)\n",
        "conData=0\n",
        "cat_df=cat_df.fillna(conData)\n",
        "num_df=num_df.fillna(conData)\n",
        "cat_df=cat_df.astype(str)\n",
        "from sklearn.preprocessing import LabelEncoder\n",
        "le = LabelEncoder()\n",
        "cat_df[categorical_cols] = cat_df[categorical_cols].apply(lambda col: le.fit_transform(col))\n",
        "\n",
        "#cat_df[categorical_cols].head(10)\n",
        "\n",
        "\n",
        "churn=cat_df['churn']\n",
        "cat_df=cat_df.drop(['churn'], axis=1)\n",
        "\n",
        "\n",
        "\n",
        "num_df=num_df.fillna(conData)\n",
        "\n",
        "result_df = pd.concat([num_df, cat_df], axis=1)\n",
        "np.nan_to_num(result_df)\n",
        "\n",
        "result_df_op=result_df\n",
        "#result_df_op=result_df_op.drop(['churn'], axis=1)\n",
        "#result_df_op=np.nan_to_num(result_df_op)\n",
        "\n",
        "\n",
        "result_df_op=result_df\n",
        "\n",
        "X=result_df_op\n",
        "y=churn"
      ],
      "execution_count": null,
      "outputs": []
    },
    {
      "cell_type": "code",
      "metadata": {
        "id": "pArX1vH_-Phh"
      },
      "source": [
        "from sklearn.model_selection import train_test_split\n",
        "X_train, X_test, y_train, y_test = train_test_split(X, y, test_size=0.3, random_state=42)\n",
        "train=pd.concat([X_train, y_train], axis=1)\n",
        "test=pd.concat([X_test, y_test], axis=1)\n",
        "train.to_csv(\"drive/My Drive/Original_data_GAN_mWOE_privacy_1_70percent_training_dataseat5000.csv\")\n",
        "test.to_csv(\"drive/My Drive/Original_data_GAN_mWOE_privacy_1_30percent_testing_dataseat5000.csv\")\n",
        "#train=pd.concat([X, y], axis=1)\n",
        "#test=pd.concat([X, y], axis=1)\n",
        "#X_train=X\n",
        "#X_test=X\n",
        "#y_train=y\n",
        "#y_test=y"
      ],
      "execution_count": null,
      "outputs": []
    },
    {
      "cell_type": "code",
      "metadata": {
        "id": "vlzrGsdz-cGg"
      },
      "source": [
        "from google.colab import files\n",
        "import os, sys\n",
        "file_path = 'drive/My Drive/Colab Notebooks/private-data-generation/'\n",
        "#sys.path.append(file_path)\n",
        "sys.path.append(os.path.abspath(file_path))\n",
        "import sys\n",
        "sys.path.insert(1,'/content/drive/My Drive/Colab Notebooks/private-data-generation/')"
      ],
      "execution_count": null,
      "outputs": []
    },
    {
      "cell_type": "code",
      "metadata": {
        "id": "X_XQ2M7H-eM_"
      },
      "source": [
        "from models import dp_wgan, pate_gan, ron_gauss"
      ],
      "execution_count": null,
      "outputs": []
    },
    {
      "cell_type": "code",
      "metadata": {
        "id": "B3l37MCS-iBg"
      },
      "source": [
        "from sklearn.linear_model import LogisticRegression\n",
        "from sklearn.ensemble import RandomForestClassifier, GradientBoostingClassifier, BaggingRegressor\n",
        "from sklearn.neural_network import MLPClassifier, MLPRegressor\n",
        "from sklearn.neighbors import KNeighborsClassifier\n",
        "from sklearn import svm\n",
        "from sklearn.tree import DecisionTreeClassifier\n",
        "from sklearn.linear_model import Ridge, Lasso, ElasticNet\n",
        "from sklearn.naive_bayes import GaussianNB\n",
        "from sklearn.metrics import roc_auc_score, mean_squared_error\n",
        "from sklearn import preprocessing\n",
        "from scipy.special import expit\n",
        "from models import dp_wgan, pate_gan, ron_gauss\n",
        "from models.Private_PGM import private_pgm\n",
        "import argparse\n",
        "import numpy as np\n",
        "import pandas as pd\n",
        "import collections\n",
        "import os"
      ],
      "execution_count": null,
      "outputs": []
    },
    {
      "cell_type": "code",
      "metadata": {
        "id": "NgpckIHs-eTf"
      },
      "source": [
        "class  Class_opt:\n",
        "    \"This is a person class\"\n",
        "    categorical = False\n",
        "    model='dp-wgan'\n",
        "    target_epsilon=80\n",
        "    target_delta=0.8\n",
        "    downstream_task=\"classification\"\n",
        "    target_variable='status'\n",
        "    batch_size=64\n",
        "    micro_batch_size=8\n",
        "    clamp_lower=0.01\n",
        "    clamp_upper=0.01\n",
        "    clip_coeff=0.1\n",
        "    sigma=2.0\n",
        "    num_epochs=50\n",
        "    enable_privacy=0\n",
        "\n",
        "\n",
        "\n",
        "\n",
        "opt = Class_opt()\n",
        "opt.target_variable='churn'\n",
        "opt.categorical = True\n",
        "opt.model='dp-wgan'\n",
        "opt.target_epsilon=10\n",
        "opt.target_delta=0.1\n",
        "opt.batch_size=64\n",
        "opt.micro_batch_size=8\n",
        "opt.clamp_lower=0.01\n",
        "opt.clamp_upper=0.01\n",
        "opt.clip_coeff=0.1\n",
        "opt.sigma=0.8\n",
        "opt.num_epochs=200\n",
        "opt.enable_privacy=1\n",
        "\n",
        "opt.downstream_task=\"classification\""
      ],
      "execution_count": null,
      "outputs": []
    },
    {
      "cell_type": "code",
      "metadata": {
        "id": "YTiMgAjc-eWf"
      },
      "source": [
        "data_columns = [col for col in train.columns if col != opt.target_variable]"
      ],
      "execution_count": null,
      "outputs": []
    },
    {
      "cell_type": "code",
      "metadata": {
        "colab": {
          "base_uri": "https://localhost:8080/"
        },
        "id": "72DPHCJp-eZS",
        "outputId": "112000ea-01f7-4b85-e441-8587c9184612"
      },
      "source": [
        "class_ratios = train[opt.target_variable].sort_values().groupby(train[opt.target_variable]).size().values/train.shape[0]\n",
        "class_ratios"
      ],
      "execution_count": null,
      "outputs": [
        {
          "output_type": "execute_result",
          "data": {
            "text/plain": [
              "array([0.85714286, 0.14285714])"
            ]
          },
          "metadata": {},
          "execution_count": 11
        }
      ]
    },
    {
      "cell_type": "code",
      "metadata": {
        "id": "30XOtNBv-ebg"
      },
      "source": [
        "X_train = np.nan_to_num(train.drop([opt.target_variable], axis=1).values)\n",
        "y_train = np.nan_to_num(train[opt.target_variable].values)\n",
        "X_test = np.nan_to_num(test.drop([opt.target_variable], axis=1).values)\n",
        "y_test = np.nan_to_num(test[opt.target_variable].values)"
      ],
      "execution_count": null,
      "outputs": []
    },
    {
      "cell_type": "code",
      "metadata": {
        "id": "j-fsH8zI-ed9"
      },
      "source": [
        "#Normalized the data\n",
        "X_train = expit(X_train)\n",
        "X_test = expit(X_test)"
      ],
      "execution_count": null,
      "outputs": []
    },
    {
      "cell_type": "code",
      "metadata": {
        "id": "0L13SnRt-ei9"
      },
      "source": [
        "input_dim = X_train.shape[1]\n",
        "z_dim = int(input_dim / 4 + 1) if input_dim % 4 == 0 else int(input_dim / 4)\n",
        "\n",
        "Hyperparams = collections.namedtuple('Hyperarams','batch_size micro_batch_size clamp_lower clamp_upper clip_coeff sigma class_ratios lr num_epochs')\n",
        "Hyperparams.__new__.__defaults__ = (None, None, None, None, None, None, None, None, None)"
      ],
      "execution_count": null,
      "outputs": []
    },
    {
      "cell_type": "code",
      "metadata": {
        "colab": {
          "base_uri": "https://localhost:8080/"
        },
        "id": "Uz2Y-lDN-elZ",
        "outputId": "62e60268-69f4-48a7-bbc1-83754148474a"
      },
      "source": [
        "conditional = (opt.downstream_task == \"classification\")\n",
        "model = dp_wgan.DP_WGAN(input_dim, z_dim, opt.target_epsilon, opt.target_delta, conditional)\n",
        "model.train(X_train, y_train, Hyperparams(batch_size=opt.batch_size, micro_batch_size=opt.micro_batch_size,\n",
        "                                              clamp_lower=opt.clamp_lower, clamp_upper=opt.clamp_upper,\n",
        "                                              clip_coeff=opt.clip_coeff, sigma=opt.sigma, class_ratios=class_ratios, lr=\n",
        "                                              5e-5, num_epochs=opt.num_epochs), private=opt.enable_privacy)\n",
        "\n",
        "torch.save(model, 'drive/My Drive/chk_p_GAN_MWOE_privacy_1_dataset5000_70-vs-30.pth')"
      ],
      "execution_count": null,
      "outputs": [
        {
          "output_type": "stream",
          "name": "stdout",
          "text": [
            "Epoch : 1 Loss D real :  0.02663975514889587 Loss D fake :  0.010631452956539097 Loss G :  0.010634771833829262 Epsilon spent :  3.3807596723163544\n",
            "Epoch : 2 Loss D real :  0.02678133850455855 Loss D fake :  0.010564467297217564 Loss G :  0.010743028315771086 Epsilon spent :  3.8832879783901513\n",
            "Epoch : 3 Loss D real :  0.02665850191601958 Loss D fake :  0.01054999358475776 Loss G :  0.01077122140565826 Epsilon spent :  4.3858162844639486\n",
            "Epoch : 4 Loss D real :  0.026707968668086345 Loss D fake :  0.010518071302795895 Loss G :  0.010588397170697355 Epsilon spent :  4.6538087602691025\n",
            "Epoch : 5 Loss D real :  0.02672881193425294 Loss D fake :  0.010582529927739715 Loss G :  0.010600081089186031 Epsilon spent :  4.857850494922193\n",
            "Epoch : 6 Loss D real :  0.026740142542099356 Loss D fake :  0.010553131649068306 Loss G :  0.010621920774714322 Epsilon spent :  5.061892229575283\n",
            "Epoch : 7 Loss D real :  0.026756292288149793 Loss D fake :  0.01053997650317898 Loss G :  0.010725043902105318 Epsilon spent :  5.265933964228372\n",
            "Epoch : 8 Loss D real :  0.026643360253986226 Loss D fake :  0.010553076365954216 Loss G :  0.010621337630519997 Epsilon spent :  5.469975698881463\n",
            "Epoch : 9 Loss D real :  0.02660912267534108 Loss D fake :  0.010591718132366331 Loss G :  0.010516936799636143 Epsilon spent :  5.674017433534552\n",
            "Epoch : 10 Loss D real :  0.026744335463106707 Loss D fake :  0.010606302132335668 Loss G :  0.010534969042746435 Epsilon spent :  5.878059168187643\n",
            "Epoch : 11 Loss D real :  0.026730991825605354 Loss D fake :  0.010479527196170013 Loss G :  0.010596781452343308 Epsilon spent :  6.0821009028407325\n",
            "Epoch : 12 Loss D real :  0.02669367096556614 Loss D fake :  0.010430612693432838 Loss G :  0.010571157963626043 Epsilon spent :  6.286142637493823\n",
            "Epoch : 13 Loss D real :  0.026694974381071976 Loss D fake :  0.010466245303521533 Loss G :  0.010563046578584407 Epsilon spent :  6.490184372146913\n",
            "Epoch : 14 Loss D real :  0.026695772597104817 Loss D fake :  0.010395120719113225 Loss G :  0.010658485292585392 Epsilon spent :  6.694226106800002\n",
            "Epoch : 15 Loss D real :  0.02671961443273657 Loss D fake :  0.010594033288733845 Loss G :  0.01060422519935372 Epsilon spent :  6.898267841453093\n",
            "Epoch : 16 Loss D real :  0.026641846944869613 Loss D fake :  0.010537440062719894 Loss G :  0.01055851508761873 Epsilon spent :  7.102309576106183\n",
            "Epoch : 17 Loss D real :  0.026701842578712765 Loss D fake :  0.01054820653896498 Loss G :  0.010727988459041235 Epsilon spent :  7.306351310759273\n",
            "Epoch : 18 Loss D real :  0.026553769720056943 Loss D fake :  0.010389234889706762 Loss G :  0.010623788896160018 Epsilon spent :  7.510393045412362\n",
            "Epoch : 19 Loss D real :  0.02676671976780047 Loss D fake :  0.010505506808241215 Loss G :  0.010562750726899165 Epsilon spent :  7.714434780065453\n",
            "Epoch : 20 Loss D real :  0.026776782435933313 Loss D fake :  0.010470936395747636 Loss G :  0.010560053065648289 Epsilon spent :  7.918476514718543\n",
            "Epoch : 21 Loss D real :  0.026653549038577768 Loss D fake :  0.010432790469903348 Loss G :  0.010436208831822506 Epsilon spent :  8.122518249371632\n",
            "Epoch : 22 Loss D real :  0.02665600269635787 Loss D fake :  0.01043894550389652 Loss G :  0.010580400443552941 Epsilon spent :  8.326559984024723\n",
            "Epoch : 23 Loss D real :  0.02676642072260111 Loss D fake :  0.010472166274095116 Loss G :  0.010499679847412086 Epsilon spent :  8.515117030561779\n",
            "Epoch : 24 Loss D real :  0.026734175973056804 Loss D fake :  0.01065181915784036 Loss G :  0.01050126985153702 Epsilon spent :  8.635058521782504\n",
            "Epoch : 25 Loss D real :  0.02653520034801946 Loss D fake :  0.010660155382153 Loss G :  0.01051155894989285 Epsilon spent :  8.755000013003228\n",
            "Epoch : 26 Loss D real :  0.026762852784571866 Loss D fake :  0.01037488092225953 Loss G :  0.010450455591990902 Epsilon spent :  8.874941504223953\n",
            "Epoch : 27 Loss D real :  0.026702644438920394 Loss D fake :  0.010453253792937486 Loss G :  0.01036259451998853 Epsilon spent :  8.994882995444677\n",
            "Epoch : 28 Loss D real :  0.026590310880045372 Loss D fake :  0.010339403067777784 Loss G :  0.010286987338874546 Epsilon spent :  9.114824486665402\n",
            "Epoch : 29 Loss D real :  0.02674107391078845 Loss D fake :  0.010364403820651381 Loss G :  0.01045257221886944 Epsilon spent :  9.234765977886127\n",
            "Epoch : 30 Loss D real :  0.026748969436352157 Loss D fake :  0.01038397446486546 Loss G :  0.01028030402830492 Epsilon spent :  9.35470746910685\n",
            "Epoch : 31 Loss D real :  0.026709560221367477 Loss D fake :  0.01031743983794973 Loss G :  0.010303154755648155 Epsilon spent :  9.474648960327576\n",
            "Epoch : 32 Loss D real :  0.026613535672318007 Loss D fake :  0.010313358630971884 Loss G :  0.010402042093194001 Epsilon spent :  9.5945904515483\n",
            "Epoch : 33 Loss D real :  0.026710591933467732 Loss D fake :  0.010401698608613612 Loss G :  0.010323374128756448 Epsilon spent :  9.714531942769025\n",
            "Epoch : 34 Loss D real :  0.026661447539839057 Loss D fake :  0.01029144207735113 Loss G :  0.010304600432372104 Epsilon spent :  9.83447343398975\n",
            "Epoch : 35 Loss D real :  0.026604494094849183 Loss D fake :  0.010257225380158885 Loss G :  0.010297125215025743 Epsilon spent :  9.954414925210473\n",
            "Epoch : 36 Loss D real :  0.026715348055602394 Loss D fake :  0.010261034219267428 Loss G :  0.010326921624476163 Epsilon spent :  10.074356416431199\n"
          ]
        }
      ]
    },
    {
      "cell_type": "code",
      "metadata": {
        "id": "CgmVMwIs-eni"
      },
      "source": [],
      "execution_count": null,
      "outputs": []
    },
    {
      "cell_type": "code",
      "metadata": {
        "id": "LVHDjtpZ-eqP",
        "colab": {
          "base_uri": "https://localhost:8080/"
        },
        "outputId": "0ea6a8f2-1351-4f11-d141-a45c0a9e2031"
      },
      "source": [
        "if opt.model == 'imle' or opt.model == 'dp-wgan' or opt.model == 'pate-gan':\n",
        "  syn_data = model.generate(X_train.shape[0], class_ratios)\n",
        "  X_syn, y_syn = syn_data[:, :-1], syn_data[:, -1]\n",
        "\n",
        "X_syn_df = pd.DataFrame(data=X_syn, columns=data_columns)\n",
        "y_syn_df = pd.DataFrame(data=y_syn, columns=[opt.target_variable])\n",
        "\n",
        "syn_df = pd.concat([X_syn_df, y_syn_df], axis=1)\n",
        "syn_df.to_csv(\"drive/My Drive/synthetic_data_GAN_mWOE_privacy_1_70percent_training_dataset5000_set9.csv\")\n",
        "print(\"Saved synthetic data at : \", \"drive/My Drive/synthetic_data_GAN_mWOE_privacy_1_70percent_training_dataset5000.csv\")"
      ],
      "execution_count": null,
      "outputs": [
        {
          "output_type": "stream",
          "name": "stdout",
          "text": [
            "Saved synthetic data at :  drive/My Drive/synthetic_data_GAN_mWOE_privacy_1_70percent_training_dataset5000.csv\n"
          ]
        }
      ]
    }
  ]
}